{
 "cells": [
  {
   "cell_type": "code",
   "execution_count": 1,
   "metadata": {},
   "outputs": [],
   "source": [
    "import pandas as pd\n",
    "import numpy as np\n",
    "import matplotlib.pyplot as plt\n",
    "import seaborn as sns\n",
    "import fastf1 as ff1\n",
    "\n",
    "ff1.Cache.enable_cache('cache')"
   ]
  },
  {
   "cell_type": "code",
   "execution_count": 2,
   "metadata": {},
   "outputs": [],
   "source": [
    "import warnings\n",
    "warnings.filterwarnings('ignore')"
   ]
  },
  {
   "cell_type": "code",
   "execution_count": 3,
   "metadata": {},
   "outputs": [],
   "source": [
    "schedule2022 = ff1.get_event_schedule(2022, include_testing=False)"
   ]
  },
  {
   "cell_type": "code",
   "execution_count": 4,
   "metadata": {},
   "outputs": [
    {
     "data": {
      "text/html": [
       "<div>\n",
       "<style scoped>\n",
       "    .dataframe tbody tr th:only-of-type {\n",
       "        vertical-align: middle;\n",
       "    }\n",
       "\n",
       "    .dataframe tbody tr th {\n",
       "        vertical-align: top;\n",
       "    }\n",
       "\n",
       "    .dataframe thead th {\n",
       "        text-align: right;\n",
       "    }\n",
       "</style>\n",
       "<table border=\"1\" class=\"dataframe\">\n",
       "  <thead>\n",
       "    <tr style=\"text-align: right;\">\n",
       "      <th></th>\n",
       "      <th>RoundNumber</th>\n",
       "      <th>Country</th>\n",
       "      <th>Location</th>\n",
       "      <th>OfficialEventName</th>\n",
       "      <th>EventDate</th>\n",
       "      <th>EventName</th>\n",
       "      <th>EventFormat</th>\n",
       "      <th>Session1</th>\n",
       "      <th>Session1Date</th>\n",
       "      <th>Session2</th>\n",
       "      <th>Session2Date</th>\n",
       "      <th>Session3</th>\n",
       "      <th>Session3Date</th>\n",
       "      <th>Session4</th>\n",
       "      <th>Session4Date</th>\n",
       "      <th>Session5</th>\n",
       "      <th>Session5Date</th>\n",
       "      <th>F1ApiSupport</th>\n",
       "    </tr>\n",
       "  </thead>\n",
       "  <tbody>\n",
       "    <tr>\n",
       "      <th>2</th>\n",
       "      <td>1</td>\n",
       "      <td>Bahrain</td>\n",
       "      <td>Sakhir</td>\n",
       "      <td>FORMULA 1 GULF AIR BAHRAIN GRAND PRIX 2022</td>\n",
       "      <td>2022-03-20 20:00:00</td>\n",
       "      <td>Bahrain Grand Prix</td>\n",
       "      <td>conventional</td>\n",
       "      <td>Practice 1</td>\n",
       "      <td>2022-03-18 15:00:00</td>\n",
       "      <td>Practice 2</td>\n",
       "      <td>2022-03-18 18:00:00</td>\n",
       "      <td>Practice 3</td>\n",
       "      <td>2022-03-19 15:00:00</td>\n",
       "      <td>Qualifying</td>\n",
       "      <td>2022-03-19 18:00:00</td>\n",
       "      <td>Race</td>\n",
       "      <td>2022-03-20 18:00:00</td>\n",
       "      <td>True</td>\n",
       "    </tr>\n",
       "    <tr>\n",
       "      <th>3</th>\n",
       "      <td>2</td>\n",
       "      <td>Saudi Arabia</td>\n",
       "      <td>Jeddah</td>\n",
       "      <td>FORMULA 1 STC SAUDI ARABIAN GRAND PRIX 2022</td>\n",
       "      <td>2022-03-27 22:00:00</td>\n",
       "      <td>Saudi Arabian Grand Prix</td>\n",
       "      <td>conventional</td>\n",
       "      <td>Practice 1</td>\n",
       "      <td>2022-03-25 17:00:00</td>\n",
       "      <td>Practice 2</td>\n",
       "      <td>2022-03-25 20:00:00</td>\n",
       "      <td>Practice 3</td>\n",
       "      <td>2022-03-26 17:00:00</td>\n",
       "      <td>Qualifying</td>\n",
       "      <td>2022-03-26 20:00:00</td>\n",
       "      <td>Race</td>\n",
       "      <td>2022-03-27 20:00:00</td>\n",
       "      <td>True</td>\n",
       "    </tr>\n",
       "    <tr>\n",
       "      <th>4</th>\n",
       "      <td>3</td>\n",
       "      <td>Australia</td>\n",
       "      <td>Melbourne</td>\n",
       "      <td>FORMULA 1 HEINEKEN AUSTRALIAN GRAND PRIX 2022</td>\n",
       "      <td>2022-04-10 17:00:00</td>\n",
       "      <td>Australian Grand Prix</td>\n",
       "      <td>conventional</td>\n",
       "      <td>Practice 1</td>\n",
       "      <td>2022-04-08 13:00:00</td>\n",
       "      <td>Practice 2</td>\n",
       "      <td>2022-04-08 16:00:00</td>\n",
       "      <td>Practice 3</td>\n",
       "      <td>2022-04-09 13:00:00</td>\n",
       "      <td>Qualifying</td>\n",
       "      <td>2022-04-09 16:00:00</td>\n",
       "      <td>Race</td>\n",
       "      <td>2022-04-10 15:00:00</td>\n",
       "      <td>True</td>\n",
       "    </tr>\n",
       "    <tr>\n",
       "      <th>5</th>\n",
       "      <td>4</td>\n",
       "      <td>Italy</td>\n",
       "      <td>Imola</td>\n",
       "      <td>FORMULA 1 ROLEX GRAN PREMIO DEL MADE IN ITALY ...</td>\n",
       "      <td>2022-04-24 17:00:00</td>\n",
       "      <td>Emilia Romagna Grand Prix</td>\n",
       "      <td>sprint</td>\n",
       "      <td>Practice 1</td>\n",
       "      <td>2022-04-22 13:30:00</td>\n",
       "      <td>Qualifying</td>\n",
       "      <td>2022-04-22 17:00:00</td>\n",
       "      <td>Practice 2</td>\n",
       "      <td>2022-04-23 12:30:00</td>\n",
       "      <td>Sprint</td>\n",
       "      <td>2022-04-23 16:30:00</td>\n",
       "      <td>Race</td>\n",
       "      <td>2022-04-24 15:00:00</td>\n",
       "      <td>True</td>\n",
       "    </tr>\n",
       "    <tr>\n",
       "      <th>6</th>\n",
       "      <td>5</td>\n",
       "      <td>United States</td>\n",
       "      <td>Miami</td>\n",
       "      <td>FORMULA 1 CRYPTO.COM MIAMI GRAND PRIX 2022</td>\n",
       "      <td>2022-05-08 17:30:00</td>\n",
       "      <td>Miami Grand Prix</td>\n",
       "      <td>conventional</td>\n",
       "      <td>Practice 1</td>\n",
       "      <td>2022-05-06 14:30:00</td>\n",
       "      <td>Practice 2</td>\n",
       "      <td>2022-05-06 17:30:00</td>\n",
       "      <td>Practice 3</td>\n",
       "      <td>2022-05-07 13:00:00</td>\n",
       "      <td>Qualifying</td>\n",
       "      <td>2022-05-07 16:00:00</td>\n",
       "      <td>Race</td>\n",
       "      <td>2022-05-08 15:30:00</td>\n",
       "      <td>True</td>\n",
       "    </tr>\n",
       "  </tbody>\n",
       "</table>\n",
       "</div>"
      ],
      "text/plain": [
       "   RoundNumber        Country   Location  \\\n",
       "2            1        Bahrain     Sakhir   \n",
       "3            2   Saudi Arabia     Jeddah   \n",
       "4            3      Australia  Melbourne   \n",
       "5            4          Italy      Imola   \n",
       "6            5  United States      Miami   \n",
       "\n",
       "                                   OfficialEventName           EventDate  \\\n",
       "2         FORMULA 1 GULF AIR BAHRAIN GRAND PRIX 2022 2022-03-20 20:00:00   \n",
       "3        FORMULA 1 STC SAUDI ARABIAN GRAND PRIX 2022 2022-03-27 22:00:00   \n",
       "4      FORMULA 1 HEINEKEN AUSTRALIAN GRAND PRIX 2022 2022-04-10 17:00:00   \n",
       "5  FORMULA 1 ROLEX GRAN PREMIO DEL MADE IN ITALY ... 2022-04-24 17:00:00   \n",
       "6         FORMULA 1 CRYPTO.COM MIAMI GRAND PRIX 2022 2022-05-08 17:30:00   \n",
       "\n",
       "                   EventName   EventFormat    Session1        Session1Date  \\\n",
       "2         Bahrain Grand Prix  conventional  Practice 1 2022-03-18 15:00:00   \n",
       "3   Saudi Arabian Grand Prix  conventional  Practice 1 2022-03-25 17:00:00   \n",
       "4      Australian Grand Prix  conventional  Practice 1 2022-04-08 13:00:00   \n",
       "5  Emilia Romagna Grand Prix        sprint  Practice 1 2022-04-22 13:30:00   \n",
       "6           Miami Grand Prix  conventional  Practice 1 2022-05-06 14:30:00   \n",
       "\n",
       "     Session2        Session2Date    Session3        Session3Date    Session4  \\\n",
       "2  Practice 2 2022-03-18 18:00:00  Practice 3 2022-03-19 15:00:00  Qualifying   \n",
       "3  Practice 2 2022-03-25 20:00:00  Practice 3 2022-03-26 17:00:00  Qualifying   \n",
       "4  Practice 2 2022-04-08 16:00:00  Practice 3 2022-04-09 13:00:00  Qualifying   \n",
       "5  Qualifying 2022-04-22 17:00:00  Practice 2 2022-04-23 12:30:00      Sprint   \n",
       "6  Practice 2 2022-05-06 17:30:00  Practice 3 2022-05-07 13:00:00  Qualifying   \n",
       "\n",
       "         Session4Date Session5        Session5Date  F1ApiSupport  \n",
       "2 2022-03-19 18:00:00     Race 2022-03-20 18:00:00          True  \n",
       "3 2022-03-26 20:00:00     Race 2022-03-27 20:00:00          True  \n",
       "4 2022-04-09 16:00:00     Race 2022-04-10 15:00:00          True  \n",
       "5 2022-04-23 16:30:00     Race 2022-04-24 15:00:00          True  \n",
       "6 2022-05-07 16:00:00     Race 2022-05-08 15:30:00          True  "
      ]
     },
     "execution_count": 4,
     "metadata": {},
     "output_type": "execute_result"
    }
   ],
   "source": [
    "schedule2022.head()"
   ]
  },
  {
   "cell_type": "code",
   "execution_count": 5,
   "metadata": {},
   "outputs": [],
   "source": [
    "def get_telemetry_at_start_of_lap(lap, telemetry):\n",
    "    mask = (telemetry['Date'] > lap['LapStartDate']) & (telemetry['Date'] <= lap['LapStartDate'] + pd.Timedelta(seconds=1))\n",
    "    row = telemetry.loc[mask].iloc[0]\n",
    "    telemetryInfo = row[['DriverAhead', 'DistanceToDriverAhead']]\n",
    "    lapInfo = lap[['LapNumber', 'LapTime', 'Compound', 'TyreLife', 'Stint', 'TrackStatus']]\n",
    "    telemetryInfo.rename(\"Telemetry\", inplace=True)\n",
    "    lapInfo.rename(\"Lap\", inplace=True)\n",
    "    merge = pd.concat([telemetryInfo, lapInfo])\n",
    "    return merge"
   ]
  },
  {
   "cell_type": "code",
   "execution_count": 6,
   "metadata": {},
   "outputs": [],
   "source": [
    "class NoLapException(Exception):\n",
    "    pass\n",
    "\n",
    "def get_laps_of_driver(driver, laps):\n",
    "    driver_laps = laps.pick_driver(driver)\n",
    "    if len(driver_laps['DriverNumber']) == 0:\n",
    "        raise NoLapException(\"No laps for driver \" + driver)\n",
    "    driver_laps_telemetry = driver_laps.get_car_data().add_driver_ahead()\n",
    "    transformed_laps = []\n",
    "    for index, row in driver_laps.iterrows():\n",
    "        transformed_laps.append(get_telemetry_at_start_of_lap(row, driver_laps_telemetry))\n",
    "    return pd.DataFrame(transformed_laps)"
   ]
  },
  {
   "cell_type": "code",
   "execution_count": 7,
   "metadata": {},
   "outputs": [
    {
     "name": "stderr",
     "output_type": "stream",
     "text": [
      "core           INFO \tLoading data for Bahrain Grand Prix - Race [v2.3.0]\n",
      "api            INFO \tUsing cached data for driver_info\n"
     ]
    },
    {
     "name": "stdout",
     "output_type": "stream",
     "text": [
      "Processing race round -  1\n"
     ]
    },
    {
     "name": "stderr",
     "output_type": "stream",
     "text": [
      "api            INFO \tUsing cached data for timing_data\n",
      "api            INFO \tUsing cached data for timing_app_data\n",
      "core           INFO \tProcessing timing data...\n",
      "api            INFO \tUsing cached data for session_status_data\n",
      "api            INFO \tUsing cached data for track_status_data\n",
      "api            INFO \tUsing cached data for car_data\n",
      "api            INFO \tUsing cached data for position_data\n",
      "api            INFO \tUsing cached data for weather_data\n",
      "api            INFO \tUsing cached data for race_control_messages\n",
      "core           INFO \tFinished loading data for 20 drivers: ['16', '55', '44', '63', '20', '77', '31', '22', '14', '24', '47', '18', '23', '3', '4', '6', '27', '11', '1', '10']\n"
     ]
    },
    {
     "name": "stdout",
     "output_type": "stream",
     "text": [
      "     Processing driver -  16\n",
      "     Processing driver -  55\n",
      "     Processing driver -  44\n",
      "     Processing driver -  63\n",
      "     Processing driver -  20\n",
      "     Processing driver -  77\n",
      "     Processing driver -  31\n",
      "     Processing driver -  22\n",
      "     Processing driver -  14\n",
      "     Processing driver -  24\n",
      "     Processing driver -  47\n",
      "     Processing driver -  18\n",
      "     Processing driver -  23\n",
      "     Processing driver -  3\n",
      "     Processing driver -  4\n",
      "     Processing driver -  6\n",
      "     Processing driver -  27\n",
      "     Processing driver -  11\n",
      "     Processing driver -  1\n",
      "     Processing driver -  10\n"
     ]
    },
    {
     "name": "stderr",
     "output_type": "stream",
     "text": [
      "core           INFO \tLoading data for Saudi Arabian Grand Prix - Race [v2.3.0]\n",
      "api            INFO \tUsing cached data for driver_info\n"
     ]
    },
    {
     "name": "stdout",
     "output_type": "stream",
     "text": [
      "Processing race round -  2\n"
     ]
    },
    {
     "name": "stderr",
     "output_type": "stream",
     "text": [
      "api            INFO \tUsing cached data for timing_data\n",
      "api            INFO \tUsing cached data for timing_app_data\n",
      "core           INFO \tProcessing timing data...\n",
      "api            INFO \tUsing cached data for session_status_data\n",
      "api            INFO \tUsing cached data for track_status_data\n",
      "core        WARNING \tNo lap data for driver 22\n",
      "api            INFO \tUsing cached data for car_data\n",
      "api            INFO \tUsing cached data for position_data\n",
      "api            INFO \tUsing cached data for weather_data\n",
      "api            INFO \tUsing cached data for race_control_messages\n",
      "core           INFO \tFinished loading data for 19 drivers: ['1', '16', '55', '11', '63', '31', '4', '10', '20', '44', '24', '27', '18', '23', '77', '14', '3', '6', '22']\n"
     ]
    },
    {
     "name": "stdout",
     "output_type": "stream",
     "text": [
      "     Processing driver -  1\n",
      "     Processing driver -  16\n",
      "     Processing driver -  55\n",
      "     Processing driver -  11\n",
      "     Processing driver -  63\n",
      "     Processing driver -  31\n",
      "     Processing driver -  4\n",
      "     Processing driver -  10\n",
      "     Processing driver -  20\n",
      "     Processing driver -  44\n",
      "     Processing driver -  24\n",
      "     Processing driver -  27\n",
      "     Processing driver -  18\n",
      "     Processing driver -  23\n",
      "     Processing driver -  77\n",
      "     Processing driver -  14\n",
      "     Processing driver -  3\n",
      "     Processing driver -  6\n",
      "     Processing driver -  22\n"
     ]
    },
    {
     "ename": "NoLapException",
     "evalue": "No laps for driver 22",
     "output_type": "error",
     "traceback": [
      "\u001b[1;31m---------------------------------------------------------------------------\u001b[0m",
      "\u001b[1;31mNoLapException\u001b[0m                            Traceback (most recent call last)",
      "Cell \u001b[1;32mIn[7], line 18\u001b[0m\n\u001b[0;32m     16\u001b[0m \u001b[39mfor\u001b[39;00m driver \u001b[39min\u001b[39;00m race\u001b[39m.\u001b[39mdrivers:\n\u001b[0;32m     17\u001b[0m     \u001b[39mprint\u001b[39m(\u001b[39m\"\u001b[39m\u001b[39m     Processing driver - \u001b[39m\u001b[39m\"\u001b[39m, driver)\n\u001b[1;32m---> 18\u001b[0m     df \u001b[39m=\u001b[39m pd\u001b[39m.\u001b[39mmerge(df, get_laps_of_driver(driver, race\u001b[39m.\u001b[39;49mlaps), how\u001b[39m=\u001b[39m\u001b[39m'\u001b[39m\u001b[39mouter\u001b[39m\u001b[39m'\u001b[39m)\n\u001b[0;32m     20\u001b[0m \u001b[39m# Save it to a csv file\u001b[39;00m\n\u001b[0;32m     21\u001b[0m df\u001b[39m.\u001b[39mto_csv(\u001b[39m'\u001b[39m\u001b[39mdata/\u001b[39m\u001b[39m'\u001b[39m\u001b[39m+\u001b[39m event\u001b[39m.\u001b[39mEventName \u001b[39m+\u001b[39m\u001b[39m'\u001b[39m\u001b[39m .csv\u001b[39m\u001b[39m'\u001b[39m)\n",
      "Cell \u001b[1;32mIn[6], line 7\u001b[0m, in \u001b[0;36mget_laps_of_driver\u001b[1;34m(driver, laps)\u001b[0m\n\u001b[0;32m      5\u001b[0m driver_laps \u001b[39m=\u001b[39m laps\u001b[39m.\u001b[39mpick_driver(driver)\n\u001b[0;32m      6\u001b[0m \u001b[39mif\u001b[39;00m \u001b[39mlen\u001b[39m(driver_laps[\u001b[39m'\u001b[39m\u001b[39mDriverNumber\u001b[39m\u001b[39m'\u001b[39m]) \u001b[39m==\u001b[39m \u001b[39m0\u001b[39m:\n\u001b[1;32m----> 7\u001b[0m     \u001b[39mraise\u001b[39;00m NoLapException(\u001b[39m\"\u001b[39m\u001b[39mNo laps for driver \u001b[39m\u001b[39m\"\u001b[39m \u001b[39m+\u001b[39m driver)\n\u001b[0;32m      8\u001b[0m driver_laps_telemetry \u001b[39m=\u001b[39m driver_laps\u001b[39m.\u001b[39mget_car_data()\u001b[39m.\u001b[39madd_driver_ahead()\n\u001b[0;32m      9\u001b[0m transformed_laps \u001b[39m=\u001b[39m []\n",
      "\u001b[1;31mNoLapException\u001b[0m: No laps for driver 22"
     ]
    }
   ],
   "source": [
    "for index, event in schedule2022.iterrows():\n",
    "    print(\"Processing race round - \", event['RoundNumber'])\n",
    "    race = event.get_race()\n",
    "    race.load()\n",
    "    df = pd.DataFrame(\n",
    "        columns=[\n",
    "            'LapNumber',\n",
    "            'LapTime',\n",
    "            'Compound',\n",
    "            'TyreLife',\n",
    "            'TrackStatus',\n",
    "            'Stint',\n",
    "            'DistanceToDriverAhead',\n",
    "            'DriverAhead',\n",
    "            ])\n",
    "    for driver in race.drivers:\n",
    "        print(\"     Processing driver - \", driver)\n",
    "        try:\n",
    "            df = pd.merge(df, get_laps_of_driver(driver, race.laps), how='outer')\n",
    "        except NoLapException as e:\n",
    "            print(e)\n",
    "    \n",
    "    # Save it to a csv file\n",
    "    df.to_csv('data/'+ event.EventName +' .csv')"
   ]
  }
 ],
 "metadata": {
  "kernelspec": {
   "display_name": "bsc",
   "language": "python",
   "name": "python3"
  },
  "language_info": {
   "codemirror_mode": {
    "name": "ipython",
    "version": 3
   },
   "file_extension": ".py",
   "mimetype": "text/x-python",
   "name": "python",
   "nbconvert_exporter": "python",
   "pygments_lexer": "ipython3",
   "version": "3.10.9"
  },
  "orig_nbformat": 4,
  "vscode": {
   "interpreter": {
    "hash": "589d2f16c7c43e145ee42078413b0251fb200486a68306d3d62712e3312580ab"
   }
  }
 },
 "nbformat": 4,
 "nbformat_minor": 2
}
