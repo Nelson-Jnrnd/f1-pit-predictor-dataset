{
 "cells": [
  {
   "cell_type": "code",
   "execution_count": 1,
   "metadata": {},
   "outputs": [],
   "source": [
    "import pandas as pd\n",
    "import numpy as np\n",
    "import matplotlib.pyplot as plt\n",
    "import seaborn as sns\n",
    "import fastf1 as ff1\n",
    "\n",
    "ff1.Cache.enable_cache('cache')"
   ]
  },
  {
   "cell_type": "code",
   "execution_count": 2,
   "metadata": {},
   "outputs": [],
   "source": [
    "import warnings\n",
    "warnings.filterwarnings('ignore')\n",
    "# ignore info messages\n",
    "import logging\n",
    "logging.getLogger('fastf1').setLevel(logging.WARNING)"
   ]
  },
  {
   "cell_type": "code",
   "execution_count": 350,
   "metadata": {},
   "outputs": [],
   "source": [
    "session = ff1.get_session(2018, 4, 'R')\n"
   ]
  },
  {
   "cell_type": "code",
   "execution_count": 351,
   "metadata": {},
   "outputs": [
    {
     "name": "stderr",
     "output_type": "stream",
     "text": [
      "core           INFO \tLoading data for Azerbaijan Grand Prix - Race [v2.3.0]\n",
      "api            INFO \tUsing cached data for driver_info\n",
      "api            INFO \tUsing cached data for timing_data\n",
      "api            INFO \tUsing cached data for timing_app_data\n",
      "core           INFO \tProcessing timing data...\n",
      "api            INFO \tUsing cached data for session_status_data\n",
      "api            INFO \tUsing cached data for track_status_data\n",
      "core        WARNING \tDriver 55: Lap timing integrity check failed for 1 lap(s)\n",
      "api            INFO \tUsing cached data for car_data\n",
      "api            INFO \tUsing cached data for position_data\n",
      "api            INFO \tUsing cached data for weather_data\n",
      "api            INFO \tUsing cached data for race_control_messages\n",
      "core           INFO \tFinished loading data for 20 drivers: ['44', '7', '11', '5', '55', '16', '14', '18', '2', '28', '9', '10', '20', '77', '8', '33', '3', '27', '31', '35']\n"
     ]
    }
   ],
   "source": [
    "l = session.load_laps(with_telemetry=True)"
   ]
  },
  {
   "attachments": {},
   "cell_type": "markdown",
   "metadata": {},
   "source": [
    "Problème, il faut avoir une donnée par tour => interpolation des données"
   ]
  },
  {
   "cell_type": "code",
   "execution_count": 357,
   "metadata": {},
   "outputs": [
    {
     "name": "stderr",
     "output_type": "stream",
     "text": [
      "api            INFO \tUsing cached data for timing_data\n"
     ]
    }
   ],
   "source": [
    "r = load_api_data(session)"
   ]
  },
  {
   "cell_type": "code",
   "execution_count": 359,
   "metadata": {},
   "outputs": [],
   "source": [
    "def extract_number(s):\n",
    "    if isinstance(s, str) and s.endswith('L'):\n",
    "        return int(s.split()[0])\n",
    "    else:\n",
    "        return 0\n",
    "\n",
    "\n",
    "def load_api_data(session):\n",
    "    \"\"\"\n",
    "    Loads the data from the API and returns it as a pandas DataFrame.\n",
    "    \"\"\"\n",
    "    laps_data, stream_data = ff1.api.timing_data(session.api_path)\n",
    "    laps_data.dropna(subset=['Time'], inplace=True)\n",
    "    \n",
    "    api_data = pd.merge_asof(laps_data.sort_values('Time'), stream_data.sort_values('Time'), on='Time', by='Driver')\n",
    "\n",
    "    merged_laps = pd.merge(session.laps, api_data[['Driver', 'Time', 'NumberOfLaps', 'NumberOfPitStops', 'Position', 'GapToLeader', 'IntervalToPositionAhead']], left_on=['LapNumber', 'DriverNumber'], right_on=['NumberOfLaps', 'Driver'])\n",
    "\n",
    "    merged_laps['LapsToLeader'] = merged_laps['GapToLeader'].map(extract_number)\n",
    "\n",
    "    merged_laps.replace(regex=r'^LAP', value=0, inplace=True)\n",
    "    merged_laps.replace(regex=r'^\\+', value='', inplace=True)\n",
    "    merged_laps.replace(regex=r'^(\\d+)\\sL$', value=np.nan, inplace=True)\n",
    "\n",
    "    merged_laps.rename(columns={'Time_x': 'Time', 'Driver_x':'Driver'}, inplace=True)\n",
    "    merged_laps = merged_laps.astype({'GapToLeader': 'float64', 'IntervalToPositionAhead': 'float64'})\n",
    "\n",
    "    return merged_laps[['Time', 'Driver', 'DriverNumber', 'LapTime', 'LapNumber', 'PitOutTime',\n",
    "       'PitInTime','Compound', 'TyreLife', 'Stint', 'LapStartTime', 'Team',\n",
    "        'TrackStatus', 'IsAccurate', 'LapStartDate', 'NumberOfPitStops', 'Position', 'GapToLeader',\n",
    "       'IntervalToPositionAhead', 'LapsToLeader']]\n"
   ]
  },
  {
   "cell_type": "code",
   "execution_count": 360,
   "metadata": {},
   "outputs": [],
   "source": [
    "def get_empty_dataframe():\n",
    "    return pd.DataFrame(\n",
    "            columns=[\n",
    "                'LapStartTime',\n",
    "                'LapNumber',\n",
    "                'LapTime',\n",
    "                'DriverNumber',\n",
    "                'Team',\n",
    "                'Compound',\n",
    "                'TyreLife',\n",
    "                'TrackStatus',\n",
    "                'Stint',\n",
    "                'DistanceToDriverAhead',\n",
    "                'DriverAhead',\n",
    "                'PitStatus',\n",
    "                'IsAccurate',\n",
    "                'NumberOfPitStops',\n",
    "                'Position',\n",
    "                'GapToLeader',\n",
    "                'IntervalToPositionAhead',\n",
    "                'LapsToLeader',\n",
    "                ])"
   ]
  },
  {
   "cell_type": "code",
   "execution_count": 361,
   "metadata": {},
   "outputs": [],
   "source": [
    "# Exception that is raised when there is no telemetry data for a given lap.\n",
    "class NoTelemetryException(Exception):\n",
    "    pass\n",
    "\n",
    "# Find the telemetry data (Driver Ahead, Distance to Driver Ahead) for the start of a lap and merge it with the lap data.\n",
    "\n",
    "\n",
    "def get_telemetry_at_start_of_lap(lap, telemetry):\n",
    "    # Find the telemetry data for the start of the lap by creating a 1 second window around the lap start time.\n",
    "    mask = (telemetry['Date'] > lap['LapStartDate']) & (\n",
    "        telemetry['Date'] <= lap['LapStartDate'] + pd.Timedelta(seconds=1))\n",
    "    rows = telemetry.loc[mask]\n",
    "    # If there is no telemetry data for the lap, raise an exception.\n",
    "    if rows.empty:\n",
    "        raise NoTelemetryException(\"No telemetry data found for lap \" + str(\n",
    "            lap['LapNumber']) + \" of \" + str(lap['Driver']) + \" at \" + str(lap['LapStartDate']))\n",
    "    # There can be multiple telemetry samples in the 1 second window, so take the first one.\n",
    "    row = rows.iloc[0]\n",
    "    # Get the telemetry data we are interested in.\n",
    "    telemetryInfo = row[['DriverAhead', 'DistanceToDriverAhead']]\n",
    "    lapInfo = lap[['LapStartTime', 'LapNumber', 'LapTime',\n",
    "                   'DriverNumber', 'Team', 'Compound', \n",
    "                   'TyreLife', 'Stint', 'TrackStatus',\n",
    "                   'IsAccurate', 'NumberOfPitStops', 'Position',\n",
    "                   'GapToLeader', 'IntervalToPositionAhead', 'LapsToLeader',]]  # Get the lap data we are interested in.\n",
    "    # Convert the pit out time to seconds.\n",
    "    lap['PitOutTime'] = lap['PitOutTime'].total_seconds() if lap['PitOutTime'] is not None else 0\n",
    "    # Convert the pit in time to seconds.\n",
    "    lap['PitInTime'] = lap['PitInTime'].total_seconds() if lap['PitInTime'] is not None else 0\n",
    "    # Get the pit status.\n",
    "    lapInfo['PitStatus'] = 'OutLap' if lap['PitOutTime'] > 0 else 'InLap' if lap['PitInTime'] > 0 else 'NoPit'\n",
    "    telemetryInfo.rename(\"Telemetry\", inplace=True)\n",
    "    lapInfo.rename(\"Lap\", inplace=True)\n",
    "    # Merge the telemetry and lap data.\n",
    "    merge = pd.concat([telemetryInfo, lapInfo])\n",
    "    return merge\n"
   ]
  },
  {
   "cell_type": "code",
   "execution_count": 362,
   "metadata": {},
   "outputs": [],
   "source": [
    "# Exception that is raised when there is no data for a given lap.\n",
    "class NoLapException(Exception):\n",
    "    pass\n",
    "\n",
    "# Find all the laps for a given driver and merge the telemetry data for the start of each lap.\n",
    "def get_laps_of_driver(driver, laps):\n",
    "    driver_laps = laps.loc[laps['DriverNumber'] == driver]\n",
    "    if len(driver_laps['DriverNumber']) == 0:\n",
    "        raise NoLapException(\"No laps for driver \" + driver)\n",
    "    driver_laps_telemetry = driver_laps.get_car_data()\n",
    "    if len(driver_laps_telemetry) == 0:\n",
    "        raise NoLapException(\"No telemetry for driver \" + driver)\n",
    "    try:\n",
    "        driver_laps_telemetry = driver_laps_telemetry.add_driver_ahead()\n",
    "        transformed_laps = []\n",
    "        for index, row in driver_laps.iterrows():\n",
    "            try:\n",
    "                transformed_laps.append(get_telemetry_at_start_of_lap(row, driver_laps_telemetry))\n",
    "            except NoTelemetryException as e:\n",
    "                print(e)\n",
    "    except ValueError as e:\n",
    "        print(\"error : \", e)\n",
    "        print(driver_laps_telemetry)\n",
    "        return get_empty_dataframe()\n",
    "    return pd.DataFrame(transformed_laps)\n",
    "\n",
    "# Add weather data that would have been available at the start of each lap.\n",
    "def add_weather_to_laps(laps, weather):\n",
    "    if laps.empty:\n",
    "        raise NoLapException(\"Laps dataframe is empty\")\n",
    "    # Effectuer une jointure basée sur une plage de temps\n",
    "    lapsWithWeather = pd.merge_asof(laps.sort_values('LapStartTime'), \n",
    "                                    weather.sort_values('Time'), \n",
    "                                    left_on='LapStartTime', \n",
    "                                    right_on='Time', \n",
    "                                    by=None, \n",
    "                                    direction='backward')\n",
    "\n",
    "    return lapsWithWeather"
   ]
  },
  {
   "cell_type": "code",
   "execution_count": 370,
   "metadata": {},
   "outputs": [],
   "source": [
    "import os\n",
    "\n",
    "# Get the data for all the races within a given year and save it to csv files.\n",
    "def get_season_data(year, save_all_races=True):\n",
    "    schedule = ff1.get_event_schedule(year, include_testing=False)\n",
    "    \n",
    "    path = 'data/' + str(year)\n",
    "    # Create a directory for the year if it doesn't exist\n",
    "    if not os.path.exists(path):\n",
    "        os.makedirs(path)\n",
    "\n",
    "    df_season = get_empty_dataframe()\n",
    "    for index, event in schedule.iterrows():\n",
    "        if year == 2018 and event['RoundNumber'] < 3: # The 2 first races of 2018 do not have telemetry data\n",
    "            continue\n",
    "        print(\"Processing race round - \", event['RoundNumber'])\n",
    "        race = event.get_race()\n",
    "        race.load()\n",
    "        df_event = get_empty_dataframe()\n",
    "        api_laps = load_api_data(race)\n",
    "        \n",
    "\n",
    "        for driver in race.drivers:\n",
    "            print(\"     Processing driver - \", driver)\n",
    "            try:\n",
    "                df_event = pd.concat([df_event, get_laps_of_driver(driver, api_laps)])\n",
    "            except NoLapException as e:\n",
    "                print(e)\n",
    "    \n",
    "        df_event['Track'] = event['Location']\n",
    "        df_event['TotalLaps'] = api_laps['LapNumber'].max()\n",
    "        try:\n",
    "            df_event = add_weather_to_laps(df_event, race.weather_data)\n",
    "            df_event = df_event.drop(columns=['Time'])\n",
    "            # Convert the laptime column to total seconds if it's not a NAN value\n",
    "            df_event['LapTime'] = df_event['LapTime'].apply(lambda x: x.total_seconds() if not pd.isna(x) else x)\n",
    "            df_event['LapStartTime'] = df_event['LapStartTime'].apply(lambda x: x.total_seconds() if not pd.isna(x) else x)\n",
    "        except NoLapException as e:\n",
    "            print(e)\n",
    "        if save_all_races:\n",
    "            # Save it to a csv file\n",
    "            df_event.to_csv(path + '/' + event.EventName.replace(' ', '_').lower() + '.csv', index=False)\n",
    "        df_season = pd.concat([df_season, df_event], axis=0)\n",
    "    # Save the data for the whole season\n",
    "    df_season.to_csv(path + '/season.csv', index=False)\n",
    "    return df_season"
   ]
  },
  {
   "cell_type": "code",
   "execution_count": 371,
   "metadata": {},
   "outputs": [
    {
     "name": "stderr",
     "output_type": "stream",
     "text": [
      "core           INFO \tLoading data for Australian Grand Prix - Race [v2.3.0]\n",
      "api            INFO \tUsing cached data for driver_info\n"
     ]
    },
    {
     "name": "stdout",
     "output_type": "stream",
     "text": [
      "Processing race round -  1\n"
     ]
    },
    {
     "name": "stderr",
     "output_type": "stream",
     "text": [
      "api            INFO \tUsing cached data for timing_data\n",
      "api            INFO \tUsing cached data for timing_app_data\n",
      "core           INFO \tProcessing timing data...\n",
      "api            INFO \tUsing cached data for session_status_data\n",
      "api            INFO \tUsing cached data for track_status_data\n",
      "api            INFO \tUsing cached data for car_data\n",
      "api            INFO \tUsing cached data for position_data\n",
      "api            INFO \tUsing cached data for weather_data\n",
      "api            INFO \tUsing cached data for race_control_messages\n",
      "core           INFO \tFinished loading data for 20 drivers: ['77', '44', '33', '5', '16', '20', '27', '7', '18', '26', '10', '4', '11', '23', '99', '63', '88', '8', '3', '55']\n",
      "api            INFO \tUsing cached data for timing_data\n"
     ]
    },
    {
     "name": "stdout",
     "output_type": "stream",
     "text": [
      "     Processing driver -  77\n",
      "     Processing driver -  44\n",
      "     Processing driver -  33\n",
      "     Processing driver -  5\n",
      "     Processing driver -  16\n",
      "     Processing driver -  20\n",
      "     Processing driver -  27\n",
      "     Processing driver -  7\n",
      "     Processing driver -  18\n",
      "     Processing driver -  26\n",
      "     Processing driver -  10\n",
      "     Processing driver -  4\n",
      "     Processing driver -  11\n",
      "     Processing driver -  23\n",
      "     Processing driver -  99\n",
      "     Processing driver -  63\n",
      "     Processing driver -  88\n",
      "     Processing driver -  8\n",
      "     Processing driver -  3\n",
      "     Processing driver -  55\n"
     ]
    },
    {
     "name": "stderr",
     "output_type": "stream",
     "text": [
      "core           INFO \tLoading data for Bahrain Grand Prix - Race [v2.3.0]\n",
      "api            INFO \tUsing cached data for driver_info\n"
     ]
    },
    {
     "name": "stdout",
     "output_type": "stream",
     "text": [
      "Processing race round -  2\n"
     ]
    },
    {
     "name": "stderr",
     "output_type": "stream",
     "text": [
      "api            INFO \tUsing cached data for timing_data\n",
      "api            INFO \tUsing cached data for timing_app_data\n",
      "core           INFO \tProcessing timing data...\n",
      "api            INFO \tUsing cached data for session_status_data\n",
      "api            INFO \tUsing cached data for track_status_data\n",
      "api            INFO \tUsing cached data for car_data\n",
      "api            INFO \tUsing cached data for position_data\n",
      "api            INFO \tUsing cached data for weather_data\n",
      "api            INFO \tUsing cached data for race_control_messages\n",
      "core           INFO \tFinished loading data for 20 drivers: ['44', '77', '16', '33', '5', '4', '7', '10', '23', '11', '99', '26', '20', '18', '63', '88', '27', '3', '55', '8']\n",
      "api            INFO \tUsing cached data for timing_data\n"
     ]
    },
    {
     "name": "stdout",
     "output_type": "stream",
     "text": [
      "     Processing driver -  44\n",
      "     Processing driver -  77\n",
      "     Processing driver -  16\n",
      "     Processing driver -  33\n",
      "     Processing driver -  5\n",
      "     Processing driver -  4\n",
      "     Processing driver -  7\n",
      "     Processing driver -  10\n",
      "     Processing driver -  23\n",
      "     Processing driver -  11\n",
      "     Processing driver -  99\n",
      "     Processing driver -  26\n",
      "     Processing driver -  20\n",
      "     Processing driver -  18\n",
      "     Processing driver -  63\n",
      "     Processing driver -  88\n",
      "     Processing driver -  27\n",
      "     Processing driver -  3\n",
      "     Processing driver -  55\n",
      "     Processing driver -  8\n"
     ]
    },
    {
     "name": "stderr",
     "output_type": "stream",
     "text": [
      "core           INFO \tLoading data for Chinese Grand Prix - Race [v2.3.0]\n",
      "api            INFO \tUsing cached data for driver_info\n"
     ]
    },
    {
     "name": "stdout",
     "output_type": "stream",
     "text": [
      "Processing race round -  3\n"
     ]
    },
    {
     "name": "stderr",
     "output_type": "stream",
     "text": [
      "api            INFO \tUsing cached data for timing_data\n",
      "api            INFO \tUsing cached data for timing_app_data\n",
      "core           INFO \tProcessing timing data...\n",
      "api            INFO \tUsing cached data for session_status_data\n",
      "api            INFO \tUsing cached data for track_status_data\n",
      "api            INFO \tUsing cached data for car_data\n",
      "api            INFO \tUsing cached data for position_data\n",
      "api            INFO \tUsing cached data for weather_data\n",
      "api            INFO \tUsing cached data for race_control_messages\n",
      "core           INFO \tFinished loading data for 20 drivers: ['44', '77', '5', '33', '16', '10', '3', '11', '7', '23', '8', '18', '20', '55', '99', '63', '88', '4', '26', '27']\n",
      "api            INFO \tUsing cached data for timing_data\n"
     ]
    },
    {
     "name": "stdout",
     "output_type": "stream",
     "text": [
      "     Processing driver -  44\n",
      "     Processing driver -  77\n",
      "     Processing driver -  5\n",
      "     Processing driver -  33\n",
      "     Processing driver -  16\n",
      "     Processing driver -  10\n",
      "     Processing driver -  3\n",
      "     Processing driver -  11\n",
      "     Processing driver -  7\n",
      "     Processing driver -  23\n",
      "     Processing driver -  8\n",
      "     Processing driver -  18\n",
      "     Processing driver -  20\n",
      "     Processing driver -  55\n",
      "     Processing driver -  99\n",
      "     Processing driver -  63\n",
      "     Processing driver -  88\n",
      "     Processing driver -  4\n",
      "     Processing driver -  26\n",
      "     Processing driver -  27\n"
     ]
    },
    {
     "name": "stderr",
     "output_type": "stream",
     "text": [
      "core           INFO \tLoading data for Azerbaijan Grand Prix - Race [v2.3.0]\n",
      "api            INFO \tUsing cached data for driver_info\n"
     ]
    },
    {
     "name": "stdout",
     "output_type": "stream",
     "text": [
      "Processing race round -  4\n"
     ]
    },
    {
     "name": "stderr",
     "output_type": "stream",
     "text": [
      "api            INFO \tUsing cached data for timing_data\n",
      "api            INFO \tUsing cached data for timing_app_data\n",
      "core           INFO \tProcessing timing data...\n",
      "api            INFO \tUsing cached data for session_status_data\n",
      "api            INFO \tUsing cached data for track_status_data\n",
      "api            INFO \tUsing cached data for car_data\n",
      "api            INFO \tUsing cached data for position_data\n",
      "api            INFO \tUsing cached data for weather_data\n",
      "api            INFO \tUsing cached data for race_control_messages\n",
      "core           INFO \tFinished loading data for 20 drivers: ['77', '44', '5', '33', '16', '11', '55', '4', '18', '7', '23', '99', '20', '27', '63', '88', '10', '8', '26', '3']\n",
      "api            INFO \tUsing cached data for timing_data\n"
     ]
    },
    {
     "name": "stdout",
     "output_type": "stream",
     "text": [
      "     Processing driver -  77\n",
      "     Processing driver -  44\n",
      "     Processing driver -  5\n",
      "     Processing driver -  33\n",
      "     Processing driver -  16\n",
      "     Processing driver -  11\n",
      "     Processing driver -  55\n",
      "     Processing driver -  4\n",
      "     Processing driver -  18\n",
      "     Processing driver -  7\n",
      "     Processing driver -  23\n",
      "     Processing driver -  99\n",
      "     Processing driver -  20\n",
      "     Processing driver -  27\n",
      "     Processing driver -  63\n",
      "     Processing driver -  88\n",
      "     Processing driver -  10\n",
      "     Processing driver -  8\n",
      "     Processing driver -  26\n",
      "     Processing driver -  3\n"
     ]
    },
    {
     "name": "stderr",
     "output_type": "stream",
     "text": [
      "core           INFO \tLoading data for Spanish Grand Prix - Race [v2.3.0]\n",
      "api            INFO \tUsing cached data for driver_info\n"
     ]
    },
    {
     "name": "stdout",
     "output_type": "stream",
     "text": [
      "Processing race round -  5\n"
     ]
    },
    {
     "name": "stderr",
     "output_type": "stream",
     "text": [
      "api            INFO \tUsing cached data for timing_data\n",
      "api            INFO \tUsing cached data for timing_app_data\n",
      "core           INFO \tProcessing timing data...\n",
      "api            INFO \tUsing cached data for session_status_data\n",
      "api            INFO \tUsing cached data for track_status_data\n",
      "api            INFO \tUsing cached data for car_data\n",
      "api            INFO \tUsing cached data for position_data\n",
      "api            INFO \tUsing cached data for weather_data\n",
      "api            INFO \tUsing cached data for race_control_messages\n",
      "core           INFO \tFinished loading data for 20 drivers: ['44', '77', '33', '5', '16', '10', '20', '55', '26', '8', '23', '3', '27', '7', '11', '99', '63', '88', '18', '4']\n",
      "api            INFO \tUsing cached data for timing_data\n"
     ]
    },
    {
     "name": "stdout",
     "output_type": "stream",
     "text": [
      "     Processing driver -  44\n",
      "     Processing driver -  77\n",
      "     Processing driver -  33\n",
      "     Processing driver -  5\n",
      "     Processing driver -  16\n",
      "     Processing driver -  10\n",
      "     Processing driver -  20\n",
      "     Processing driver -  55\n",
      "     Processing driver -  26\n",
      "     Processing driver -  8\n",
      "     Processing driver -  23\n",
      "     Processing driver -  3\n",
      "     Processing driver -  27\n",
      "     Processing driver -  7\n",
      "     Processing driver -  11\n",
      "     Processing driver -  99\n",
      "     Processing driver -  63\n",
      "     Processing driver -  88\n",
      "     Processing driver -  18\n",
      "     Processing driver -  4\n"
     ]
    },
    {
     "name": "stderr",
     "output_type": "stream",
     "text": [
      "core           INFO \tLoading data for Monaco Grand Prix - Race [v2.3.0]\n",
      "api            INFO \tUsing cached data for driver_info\n"
     ]
    },
    {
     "name": "stdout",
     "output_type": "stream",
     "text": [
      "Processing race round -  6\n"
     ]
    },
    {
     "name": "stderr",
     "output_type": "stream",
     "text": [
      "api            INFO \tUsing cached data for timing_data\n",
      "api            INFO \tUsing cached data for timing_app_data\n",
      "core           INFO \tProcessing timing data...\n",
      "api            INFO \tUsing cached data for session_status_data\n",
      "api            INFO \tUsing cached data for track_status_data\n",
      "api            INFO \tUsing cached data for car_data\n",
      "api            INFO \tUsing cached data for position_data\n",
      "api            INFO \tUsing cached data for weather_data\n",
      "api            INFO \tUsing cached data for race_control_messages\n",
      "core           INFO \tFinished loading data for 20 drivers: ['44', '5', '77', '33', '10', '55', '26', '23', '3', '8', '4', '11', '27', '20', '63', '18', '7', '88', '99', '16']\n",
      "api            INFO \tUsing cached data for timing_data\n"
     ]
    },
    {
     "name": "stdout",
     "output_type": "stream",
     "text": [
      "     Processing driver -  44\n",
      "     Processing driver -  5\n",
      "     Processing driver -  77\n",
      "     Processing driver -  33\n",
      "     Processing driver -  10\n",
      "     Processing driver -  55\n",
      "     Processing driver -  26\n",
      "     Processing driver -  23\n",
      "     Processing driver -  3\n",
      "     Processing driver -  8\n",
      "     Processing driver -  4\n",
      "     Processing driver -  11\n",
      "     Processing driver -  27\n",
      "     Processing driver -  20\n",
      "     Processing driver -  63\n",
      "     Processing driver -  18\n",
      "     Processing driver -  7\n",
      "     Processing driver -  88\n",
      "     Processing driver -  99\n",
      "     Processing driver -  16\n"
     ]
    },
    {
     "name": "stderr",
     "output_type": "stream",
     "text": [
      "core           INFO \tLoading data for Canadian Grand Prix - Race [v2.3.0]\n",
      "api            INFO \tUsing cached data for driver_info\n"
     ]
    },
    {
     "name": "stdout",
     "output_type": "stream",
     "text": [
      "Processing race round -  7\n"
     ]
    },
    {
     "name": "stderr",
     "output_type": "stream",
     "text": [
      "api            INFO \tUsing cached data for timing_data\n",
      "api            INFO \tUsing cached data for timing_app_data\n",
      "core           INFO \tProcessing timing data...\n",
      "api            INFO \tUsing cached data for session_status_data\n",
      "api            INFO \tUsing cached data for track_status_data\n",
      "api            INFO \tUsing cached data for car_data\n",
      "api            INFO \tUsing cached data for position_data\n",
      "api            INFO \tUsing cached data for weather_data\n",
      "api            INFO \tUsing cached data for race_control_messages\n",
      "core           INFO \tFinished loading data for 20 drivers: ['44', '5', '16', '77', '33', '3', '27', '10', '18', '26', '55', '11', '99', '8', '7', '63', '20', '88', '23', '4']\n",
      "api            INFO \tUsing cached data for timing_data\n"
     ]
    },
    {
     "name": "stdout",
     "output_type": "stream",
     "text": [
      "     Processing driver -  44\n",
      "     Processing driver -  5\n",
      "     Processing driver -  16\n",
      "     Processing driver -  77\n",
      "No telemetry data found for lap 18 of BOT at 2019-06-09 18:35:17.031000\n",
      "     Processing driver -  33\n",
      "No telemetry data found for lap 18 of VER at 2019-06-09 18:35:17.681000\n",
      "     Processing driver -  3\n",
      "     Processing driver -  27\n",
      "     Processing driver -  10\n",
      "     Processing driver -  18\n",
      "     Processing driver -  26\n",
      "     Processing driver -  55\n",
      "     Processing driver -  11\n",
      "     Processing driver -  99\n",
      "     Processing driver -  8\n",
      "     Processing driver -  7\n",
      "     Processing driver -  63\n",
      "     Processing driver -  20\n",
      "     Processing driver -  88\n",
      "     Processing driver -  23\n",
      "     Processing driver -  4\n"
     ]
    },
    {
     "name": "stderr",
     "output_type": "stream",
     "text": [
      "core           INFO \tLoading data for French Grand Prix - Race [v2.3.0]\n",
      "api            INFO \tUsing cached data for driver_info\n"
     ]
    },
    {
     "name": "stdout",
     "output_type": "stream",
     "text": [
      "Processing race round -  8\n"
     ]
    },
    {
     "name": "stderr",
     "output_type": "stream",
     "text": [
      "api            INFO \tUsing cached data for timing_data\n",
      "api            INFO \tUsing cached data for timing_app_data\n",
      "core           INFO \tProcessing timing data...\n",
      "api            INFO \tUsing cached data for session_status_data\n",
      "api            INFO \tUsing cached data for track_status_data\n",
      "api            INFO \tUsing cached data for car_data\n",
      "api            INFO \tUsing cached data for position_data\n",
      "api            INFO \tUsing cached data for weather_data\n",
      "api            INFO \tUsing cached data for race_control_messages\n",
      "core           INFO \tFinished loading data for 20 drivers: ['44', '77', '16', '33', '5', '55', '7', '27', '4', '10', '3', '11', '18', '26', '23', '99', '20', '88', '63', '8']\n",
      "api            INFO \tUsing cached data for timing_data\n"
     ]
    },
    {
     "name": "stdout",
     "output_type": "stream",
     "text": [
      "     Processing driver -  44\n",
      "     Processing driver -  77\n",
      "     Processing driver -  16\n",
      "     Processing driver -  33\n",
      "     Processing driver -  5\n",
      "     Processing driver -  55\n",
      "     Processing driver -  7\n",
      "     Processing driver -  27\n",
      "     Processing driver -  4\n",
      "     Processing driver -  10\n",
      "     Processing driver -  3\n",
      "     Processing driver -  11\n",
      "     Processing driver -  18\n",
      "     Processing driver -  26\n",
      "     Processing driver -  23\n",
      "     Processing driver -  99\n",
      "     Processing driver -  20\n",
      "     Processing driver -  88\n",
      "     Processing driver -  63\n",
      "     Processing driver -  8\n"
     ]
    },
    {
     "name": "stderr",
     "output_type": "stream",
     "text": [
      "core           INFO \tLoading data for Austrian Grand Prix - Race [v2.3.0]\n",
      "api            INFO \tUsing cached data for driver_info\n"
     ]
    },
    {
     "name": "stdout",
     "output_type": "stream",
     "text": [
      "Processing race round -  9\n"
     ]
    },
    {
     "name": "stderr",
     "output_type": "stream",
     "text": [
      "api            INFO \tUsing cached data for timing_data\n",
      "api            INFO \tUsing cached data for timing_app_data\n",
      "core           INFO \tProcessing timing data...\n",
      "api            INFO \tUsing cached data for session_status_data\n",
      "api            INFO \tUsing cached data for track_status_data\n",
      "api            INFO \tUsing cached data for car_data\n",
      "api            INFO \tUsing cached data for position_data\n",
      "api            INFO \tUsing cached data for weather_data\n",
      "api            INFO \tUsing cached data for race_control_messages\n",
      "core           INFO \tFinished loading data for 20 drivers: ['33', '16', '77', '5', '44', '4', '10', '55', '7', '99', '11', '3', '27', '18', '23', '8', '26', '63', '20', '88']\n",
      "api            INFO \tUsing cached data for timing_data\n"
     ]
    },
    {
     "name": "stdout",
     "output_type": "stream",
     "text": [
      "     Processing driver -  33\n",
      "     Processing driver -  16\n",
      "     Processing driver -  77\n",
      "     Processing driver -  5\n",
      "     Processing driver -  44\n",
      "     Processing driver -  4\n",
      "     Processing driver -  10\n",
      "     Processing driver -  55\n",
      "     Processing driver -  7\n",
      "     Processing driver -  99\n",
      "     Processing driver -  11\n",
      "     Processing driver -  3\n",
      "     Processing driver -  27\n",
      "     Processing driver -  18\n",
      "     Processing driver -  23\n",
      "     Processing driver -  8\n",
      "     Processing driver -  26\n",
      "     Processing driver -  63\n",
      "     Processing driver -  20\n",
      "     Processing driver -  88\n"
     ]
    },
    {
     "name": "stderr",
     "output_type": "stream",
     "text": [
      "core           INFO \tLoading data for British Grand Prix - Race [v2.3.0]\n",
      "api            INFO \tUsing cached data for driver_info\n"
     ]
    },
    {
     "name": "stdout",
     "output_type": "stream",
     "text": [
      "Processing race round -  10\n"
     ]
    },
    {
     "name": "stderr",
     "output_type": "stream",
     "text": [
      "api            INFO \tUsing cached data for timing_data\n",
      "api            INFO \tUsing cached data for timing_app_data\n",
      "core           INFO \tProcessing timing data...\n",
      "api            INFO \tUsing cached data for session_status_data\n",
      "api            INFO \tUsing cached data for track_status_data\n",
      "api            INFO \tUsing cached data for car_data\n",
      "api            INFO \tUsing cached data for position_data\n",
      "api            INFO \tUsing cached data for weather_data\n",
      "api            INFO \tUsing cached data for race_control_messages\n",
      "core           INFO \tFinished loading data for 20 drivers: ['44', '77', '16', '10', '33', '55', '3', '7', '26', '27', '4', '23', '18', '63', '88', '5', '11', '99', '8', '20']\n",
      "api            INFO \tUsing cached data for timing_data\n"
     ]
    },
    {
     "name": "stdout",
     "output_type": "stream",
     "text": [
      "     Processing driver -  44\n",
      "     Processing driver -  77\n",
      "     Processing driver -  16\n",
      "     Processing driver -  10\n",
      "     Processing driver -  33\n",
      "     Processing driver -  55\n",
      "     Processing driver -  3\n",
      "     Processing driver -  7\n",
      "     Processing driver -  26\n",
      "     Processing driver -  27\n",
      "     Processing driver -  4\n",
      "     Processing driver -  23\n",
      "     Processing driver -  18\n",
      "     Processing driver -  63\n",
      "     Processing driver -  88\n",
      "     Processing driver -  5\n",
      "     Processing driver -  11\n",
      "     Processing driver -  99\n",
      "     Processing driver -  8\n",
      "     Processing driver -  20\n"
     ]
    },
    {
     "name": "stderr",
     "output_type": "stream",
     "text": [
      "core           INFO \tLoading data for German Grand Prix - Race [v2.3.0]\n",
      "api            INFO \tUsing cached data for driver_info\n"
     ]
    },
    {
     "name": "stdout",
     "output_type": "stream",
     "text": [
      "Processing race round -  11\n"
     ]
    },
    {
     "name": "stderr",
     "output_type": "stream",
     "text": [
      "api            INFO \tUsing cached data for timing_data\n",
      "api            INFO \tUsing cached data for timing_app_data\n",
      "core           INFO \tProcessing timing data...\n",
      "api            INFO \tUsing cached data for session_status_data\n",
      "api            INFO \tUsing cached data for track_status_data\n",
      "api            INFO \tUsing cached data for car_data\n",
      "api            INFO \tUsing cached data for position_data\n",
      "api            INFO \tUsing cached data for weather_data\n",
      "api            INFO \tUsing cached data for race_control_messages\n",
      "core           INFO \tFinished loading data for 20 drivers: ['33', '5', '26', '18', '55', '23', '8', '20', '44', '88', '63', '7', '99', '10', '77', '27', '16', '4', '3', '11']\n",
      "api            INFO \tUsing cached data for timing_data\n"
     ]
    },
    {
     "name": "stdout",
     "output_type": "stream",
     "text": [
      "     Processing driver -  33\n",
      "     Processing driver -  5\n",
      "     Processing driver -  26\n",
      "     Processing driver -  18\n",
      "     Processing driver -  55\n",
      "     Processing driver -  23\n",
      "     Processing driver -  8\n",
      "     Processing driver -  20\n",
      "     Processing driver -  44\n",
      "     Processing driver -  88\n",
      "     Processing driver -  63\n",
      "     Processing driver -  7\n",
      "     Processing driver -  99\n",
      "     Processing driver -  10\n",
      "     Processing driver -  77\n",
      "     Processing driver -  27\n",
      "     Processing driver -  16\n",
      "     Processing driver -  4\n",
      "     Processing driver -  3\n",
      "     Processing driver -  11\n"
     ]
    },
    {
     "name": "stderr",
     "output_type": "stream",
     "text": [
      "core           INFO \tLoading data for Hungarian Grand Prix - Race [v2.3.0]\n",
      "api            INFO \tUsing cached data for driver_info\n"
     ]
    },
    {
     "name": "stdout",
     "output_type": "stream",
     "text": [
      "Processing race round -  12\n"
     ]
    },
    {
     "name": "stderr",
     "output_type": "stream",
     "text": [
      "api            INFO \tUsing cached data for timing_data\n",
      "api            INFO \tUsing cached data for timing_app_data\n",
      "core           INFO \tProcessing timing data...\n",
      "api            INFO \tUsing cached data for session_status_data\n",
      "api            INFO \tUsing cached data for track_status_data\n",
      "api            INFO \tUsing cached data for car_data\n",
      "api            INFO \tUsing cached data for position_data\n",
      "api            INFO \tUsing cached data for weather_data\n",
      "api            INFO \tUsing cached data for race_control_messages\n",
      "core           INFO \tFinished loading data for 20 drivers: ['44', '33', '5', '16', '55', '10', '7', '77', '4', '23', '11', '27', '20', '3', '26', '63', '18', '99', '88', '8']\n",
      "api            INFO \tUsing cached data for timing_data\n"
     ]
    },
    {
     "name": "stdout",
     "output_type": "stream",
     "text": [
      "     Processing driver -  44\n",
      "     Processing driver -  33\n",
      "     Processing driver -  5\n",
      "     Processing driver -  16\n",
      "     Processing driver -  55\n",
      "     Processing driver -  10\n",
      "     Processing driver -  7\n",
      "     Processing driver -  77\n",
      "     Processing driver -  4\n",
      "     Processing driver -  23\n",
      "     Processing driver -  11\n",
      "     Processing driver -  27\n",
      "     Processing driver -  20\n",
      "     Processing driver -  3\n",
      "     Processing driver -  26\n",
      "     Processing driver -  63\n",
      "     Processing driver -  18\n",
      "     Processing driver -  99\n",
      "     Processing driver -  88\n",
      "     Processing driver -  8\n"
     ]
    },
    {
     "name": "stderr",
     "output_type": "stream",
     "text": [
      "core           INFO \tLoading data for Belgian Grand Prix - Race [v2.3.0]\n",
      "api            INFO \tUsing cached data for driver_info\n"
     ]
    },
    {
     "name": "stdout",
     "output_type": "stream",
     "text": [
      "Processing race round -  13\n"
     ]
    },
    {
     "name": "stderr",
     "output_type": "stream",
     "text": [
      "api            INFO \tUsing cached data for timing_data\n",
      "api            INFO \tUsing cached data for timing_app_data\n",
      "core           INFO \tProcessing timing data...\n",
      "api            INFO \tUsing cached data for session_status_data\n",
      "api            INFO \tUsing cached data for track_status_data\n",
      "api            INFO \tUsing cached data for car_data\n",
      "api            INFO \tUsing cached data for position_data\n",
      "api            INFO \tUsing cached data for weather_data\n",
      "api            INFO \tUsing cached data for race_control_messages\n",
      "core           INFO \tFinished loading data for 20 drivers: ['16', '44', '77', '5', '23', '11', '26', '27', '10', '18', '4', '20', '8', '3', '63', '7', '88', '99', '55', '33']\n",
      "api            INFO \tUsing cached data for timing_data\n"
     ]
    },
    {
     "name": "stdout",
     "output_type": "stream",
     "text": [
      "     Processing driver -  16\n",
      "     Processing driver -  44\n",
      "     Processing driver -  77\n",
      "     Processing driver -  5\n",
      "     Processing driver -  23\n",
      "     Processing driver -  11\n",
      "     Processing driver -  26\n",
      "     Processing driver -  27\n",
      "     Processing driver -  10\n",
      "     Processing driver -  18\n",
      "     Processing driver -  4\n",
      "     Processing driver -  20\n",
      "     Processing driver -  8\n",
      "     Processing driver -  3\n",
      "     Processing driver -  63\n",
      "     Processing driver -  7\n",
      "     Processing driver -  88\n",
      "     Processing driver -  99\n",
      "     Processing driver -  55\n"
     ]
    },
    {
     "name": "stderr",
     "output_type": "stream",
     "text": [
      "core           INFO \tLoading data for Italian Grand Prix - Race [v2.3.0]\n",
      "api            INFO \tUsing cached data for driver_info\n"
     ]
    },
    {
     "name": "stdout",
     "output_type": "stream",
     "text": [
      "     Processing driver -  33\n",
      "No laps for driver 33\n",
      "Processing race round -  14\n"
     ]
    },
    {
     "name": "stderr",
     "output_type": "stream",
     "text": [
      "api            INFO \tUsing cached data for timing_data\n",
      "api            INFO \tUsing cached data for timing_app_data\n",
      "core           INFO \tProcessing timing data...\n",
      "api            INFO \tUsing cached data for session_status_data\n",
      "api            INFO \tUsing cached data for track_status_data\n",
      "api            INFO \tUsing cached data for car_data\n",
      "api            INFO \tUsing cached data for position_data\n",
      "api            INFO \tUsing cached data for weather_data\n",
      "api            INFO \tUsing cached data for race_control_messages\n",
      "core           INFO \tFinished loading data for 20 drivers: ['16', '77', '44', '3', '27', '23', '11', '33', '99', '4', '10', '18', '5', '63', '7', '8', '88', '20', '26', '55']\n",
      "api            INFO \tUsing cached data for timing_data\n"
     ]
    },
    {
     "name": "stdout",
     "output_type": "stream",
     "text": [
      "     Processing driver -  16\n",
      "     Processing driver -  77\n",
      "     Processing driver -  44\n",
      "     Processing driver -  3\n",
      "     Processing driver -  27\n",
      "     Processing driver -  23\n",
      "     Processing driver -  11\n",
      "     Processing driver -  33\n",
      "     Processing driver -  99\n",
      "     Processing driver -  4\n",
      "     Processing driver -  10\n",
      "     Processing driver -  18\n",
      "     Processing driver -  5\n",
      "     Processing driver -  63\n",
      "     Processing driver -  7\n",
      "     Processing driver -  8\n",
      "     Processing driver -  88\n",
      "     Processing driver -  20\n",
      "     Processing driver -  26\n",
      "     Processing driver -  55\n"
     ]
    },
    {
     "name": "stderr",
     "output_type": "stream",
     "text": [
      "core           INFO \tLoading data for Singapore Grand Prix - Race [v2.3.0]\n",
      "api            INFO \tUsing cached data for driver_info\n"
     ]
    },
    {
     "name": "stdout",
     "output_type": "stream",
     "text": [
      "Processing race round -  15\n"
     ]
    },
    {
     "name": "stderr",
     "output_type": "stream",
     "text": [
      "api            INFO \tUsing cached data for timing_data\n",
      "api            INFO \tUsing cached data for timing_app_data\n",
      "core           INFO \tProcessing timing data...\n",
      "api            INFO \tUsing cached data for session_status_data\n",
      "api            INFO \tUsing cached data for track_status_data\n",
      "api            INFO \tUsing cached data for car_data\n",
      "api            INFO \tUsing cached data for position_data\n",
      "api            INFO \tUsing cached data for weather_data\n",
      "api            INFO \tUsing cached data for race_control_messages\n",
      "core           INFO \tFinished loading data for 20 drivers: ['5', '16', '33', '44', '77', '23', '4', '10', '27', '99', '8', '55', '18', '3', '26', '88', '20', '7', '11', '63']\n",
      "api            INFO \tUsing cached data for timing_data\n"
     ]
    },
    {
     "name": "stdout",
     "output_type": "stream",
     "text": [
      "     Processing driver -  5\n",
      "     Processing driver -  16\n",
      "     Processing driver -  33\n",
      "     Processing driver -  44\n",
      "     Processing driver -  77\n",
      "     Processing driver -  23\n",
      "     Processing driver -  4\n",
      "     Processing driver -  10\n",
      "     Processing driver -  27\n",
      "     Processing driver -  99\n",
      "     Processing driver -  8\n",
      "     Processing driver -  55\n",
      "     Processing driver -  18\n",
      "     Processing driver -  3\n",
      "     Processing driver -  26\n",
      "     Processing driver -  88\n",
      "     Processing driver -  20\n",
      "     Processing driver -  7\n",
      "     Processing driver -  11\n",
      "     Processing driver -  63\n"
     ]
    },
    {
     "name": "stderr",
     "output_type": "stream",
     "text": [
      "core           INFO \tLoading data for Russian Grand Prix - Race [v2.3.0]\n",
      "api            INFO \tUsing cached data for driver_info\n"
     ]
    },
    {
     "name": "stdout",
     "output_type": "stream",
     "text": [
      "Processing race round -  16\n"
     ]
    },
    {
     "name": "stderr",
     "output_type": "stream",
     "text": [
      "api            INFO \tUsing cached data for timing_data\n",
      "api            INFO \tUsing cached data for timing_app_data\n",
      "core           INFO \tProcessing timing data...\n",
      "api            INFO \tUsing cached data for session_status_data\n",
      "api            INFO \tUsing cached data for track_status_data\n",
      "api            INFO \tUsing cached data for car_data\n",
      "api            INFO \tUsing cached data for position_data\n",
      "api            INFO \tUsing cached data for weather_data\n",
      "api            INFO \tUsing cached data for race_control_messages\n",
      "core           INFO \tFinished loading data for 20 drivers: ['44', '77', '16', '33', '23', '55', '11', '4', '20', '27', '18', '26', '7', '10', '99', '88', '63', '5', '3', '8']\n",
      "api            INFO \tUsing cached data for timing_data\n"
     ]
    },
    {
     "name": "stdout",
     "output_type": "stream",
     "text": [
      "     Processing driver -  44\n",
      "     Processing driver -  77\n",
      "     Processing driver -  16\n",
      "     Processing driver -  33\n",
      "     Processing driver -  23\n",
      "     Processing driver -  55\n",
      "     Processing driver -  11\n",
      "     Processing driver -  4\n",
      "     Processing driver -  20\n",
      "     Processing driver -  27\n",
      "     Processing driver -  18\n",
      "     Processing driver -  26\n",
      "     Processing driver -  7\n",
      "     Processing driver -  10\n",
      "     Processing driver -  99\n",
      "     Processing driver -  88\n",
      "     Processing driver -  63\n",
      "     Processing driver -  5\n",
      "     Processing driver -  3\n"
     ]
    },
    {
     "name": "stderr",
     "output_type": "stream",
     "text": [
      "core           INFO \tLoading data for Japanese Grand Prix - Race [v2.3.0]\n",
      "api            INFO \tUsing cached data for driver_info\n"
     ]
    },
    {
     "name": "stdout",
     "output_type": "stream",
     "text": [
      "     Processing driver -  8\n",
      "No laps for driver 8\n",
      "Processing race round -  17\n"
     ]
    },
    {
     "name": "stderr",
     "output_type": "stream",
     "text": [
      "api            INFO \tUsing cached data for timing_data\n",
      "api            INFO \tUsing cached data for timing_app_data\n",
      "core           INFO \tProcessing timing data...\n",
      "api            INFO \tUsing cached data for session_status_data\n",
      "api            INFO \tUsing cached data for track_status_data\n",
      "api            INFO \tUsing cached data for car_data\n",
      "api            INFO \tUsing cached data for position_data\n",
      "api            INFO \tUsing cached data for weather_data\n",
      "api            INFO \tUsing cached data for race_control_messages\n",
      "core           INFO \tFinished loading data for 20 drivers: ['77', '5', '44', '23', '55', '16', '10', '11', '18', '26', '4', '7', '8', '99', '20', '63', '88', '33', '3', '27']\n",
      "api            INFO \tUsing cached data for timing_data\n"
     ]
    },
    {
     "name": "stdout",
     "output_type": "stream",
     "text": [
      "     Processing driver -  77\n",
      "     Processing driver -  5\n",
      "     Processing driver -  44\n",
      "     Processing driver -  23\n",
      "     Processing driver -  55\n",
      "     Processing driver -  16\n",
      "     Processing driver -  10\n",
      "     Processing driver -  11\n",
      "     Processing driver -  18\n",
      "     Processing driver -  26\n",
      "     Processing driver -  4\n",
      "     Processing driver -  7\n",
      "     Processing driver -  8\n",
      "     Processing driver -  99\n",
      "     Processing driver -  20\n",
      "     Processing driver -  63\n",
      "     Processing driver -  88\n",
      "     Processing driver -  33\n",
      "     Processing driver -  3\n",
      "     Processing driver -  27\n"
     ]
    },
    {
     "name": "stderr",
     "output_type": "stream",
     "text": [
      "core           INFO \tLoading data for Mexican Grand Prix - Race [v2.3.0]\n",
      "api            INFO \tUsing cached data for driver_info\n"
     ]
    },
    {
     "name": "stdout",
     "output_type": "stream",
     "text": [
      "Processing race round -  18\n"
     ]
    },
    {
     "name": "stderr",
     "output_type": "stream",
     "text": [
      "api            INFO \tUsing cached data for timing_data\n",
      "api            INFO \tUsing cached data for timing_app_data\n",
      "core           INFO \tProcessing timing data...\n",
      "api            INFO \tUsing cached data for session_status_data\n",
      "api            INFO \tUsing cached data for track_status_data\n",
      "api            INFO \tUsing cached data for car_data\n",
      "api            INFO \tUsing cached data for position_data\n",
      "api            INFO \tUsing cached data for weather_data\n",
      "api            INFO \tUsing cached data for race_control_messages\n",
      "core           INFO \tFinished loading data for 20 drivers: ['44', '5', '77', '16', '23', '33', '11', '3', '10', '27', '26', '18', '55', '99', '20', '63', '8', '88', '7', '4']\n",
      "api            INFO \tUsing cached data for timing_data\n"
     ]
    },
    {
     "name": "stdout",
     "output_type": "stream",
     "text": [
      "     Processing driver -  44\n",
      "     Processing driver -  5\n",
      "     Processing driver -  77\n",
      "     Processing driver -  16\n",
      "     Processing driver -  23\n",
      "     Processing driver -  33\n",
      "     Processing driver -  11\n",
      "     Processing driver -  3\n",
      "     Processing driver -  10\n",
      "     Processing driver -  27\n",
      "     Processing driver -  26\n",
      "     Processing driver -  18\n",
      "     Processing driver -  55\n",
      "     Processing driver -  99\n",
      "     Processing driver -  20\n",
      "     Processing driver -  63\n",
      "     Processing driver -  8\n",
      "     Processing driver -  88\n",
      "     Processing driver -  7\n",
      "     Processing driver -  4\n"
     ]
    },
    {
     "name": "stderr",
     "output_type": "stream",
     "text": [
      "core           INFO \tLoading data for United States Grand Prix - Race [v2.3.0]\n",
      "api            INFO \tUsing cached data for driver_info\n"
     ]
    },
    {
     "name": "stdout",
     "output_type": "stream",
     "text": [
      "Processing race round -  19\n"
     ]
    },
    {
     "name": "stderr",
     "output_type": "stream",
     "text": [
      "api            INFO \tUsing cached data for timing_data\n",
      "api            INFO \tUsing cached data for timing_app_data\n",
      "core           INFO \tProcessing timing data...\n",
      "api            INFO \tUsing cached data for session_status_data\n",
      "api            INFO \tUsing cached data for track_status_data\n",
      "api            INFO \tUsing cached data for car_data\n",
      "api            INFO \tUsing cached data for position_data\n",
      "api            INFO \tUsing cached data for weather_data\n",
      "api            INFO \tUsing cached data for race_control_messages\n",
      "core           INFO \tFinished loading data for 20 drivers: ['77', '44', '33', '16', '23', '3', '4', '55', '27', '11', '7', '26', '18', '99', '8', '10', '63', '20', '88', '5']\n",
      "api            INFO \tUsing cached data for timing_data\n"
     ]
    },
    {
     "name": "stdout",
     "output_type": "stream",
     "text": [
      "     Processing driver -  77\n",
      "     Processing driver -  44\n",
      "     Processing driver -  33\n",
      "     Processing driver -  16\n",
      "     Processing driver -  23\n",
      "     Processing driver -  3\n",
      "     Processing driver -  4\n",
      "     Processing driver -  55\n",
      "     Processing driver -  27\n",
      "     Processing driver -  11\n",
      "     Processing driver -  7\n",
      "     Processing driver -  26\n",
      "     Processing driver -  18\n",
      "     Processing driver -  99\n",
      "     Processing driver -  8\n",
      "     Processing driver -  10\n",
      "     Processing driver -  63\n",
      "     Processing driver -  20\n",
      "     Processing driver -  88\n",
      "     Processing driver -  5\n"
     ]
    },
    {
     "name": "stderr",
     "output_type": "stream",
     "text": [
      "core           INFO \tLoading data for Brazilian Grand Prix - Race [v2.3.0]\n",
      "api            INFO \tUsing cached data for driver_info\n"
     ]
    },
    {
     "name": "stdout",
     "output_type": "stream",
     "text": [
      "Processing race round -  20\n"
     ]
    },
    {
     "name": "stderr",
     "output_type": "stream",
     "text": [
      "api            INFO \tUsing cached data for timing_data\n",
      "api            INFO \tUsing cached data for timing_app_data\n",
      "core           INFO \tProcessing timing data...\n",
      "api            INFO \tUsing cached data for session_status_data\n",
      "api            INFO \tUsing cached data for track_status_data\n",
      "api            INFO \tUsing cached data for car_data\n",
      "api            INFO \tUsing cached data for position_data\n",
      "api            INFO \tUsing cached data for weather_data\n",
      "api            INFO \tUsing cached data for race_control_messages\n",
      "core           INFO \tFinished loading data for 20 drivers: ['33', '10', '55', '7', '99', '3', '44', '4', '11', '26', '20', '63', '8', '23', '27', '88', '5', '16', '18', '77']\n",
      "api            INFO \tUsing cached data for timing_data\n"
     ]
    },
    {
     "name": "stdout",
     "output_type": "stream",
     "text": [
      "     Processing driver -  33\n",
      "     Processing driver -  10\n",
      "     Processing driver -  55\n",
      "     Processing driver -  7\n",
      "     Processing driver -  99\n",
      "     Processing driver -  3\n",
      "     Processing driver -  44\n",
      "     Processing driver -  4\n",
      "     Processing driver -  11\n",
      "     Processing driver -  26\n",
      "     Processing driver -  20\n",
      "     Processing driver -  63\n",
      "     Processing driver -  8\n",
      "     Processing driver -  23\n",
      "     Processing driver -  27\n",
      "     Processing driver -  88\n",
      "     Processing driver -  5\n",
      "     Processing driver -  16\n",
      "     Processing driver -  18\n",
      "     Processing driver -  77\n"
     ]
    },
    {
     "name": "stderr",
     "output_type": "stream",
     "text": [
      "core           INFO \tLoading data for Abu Dhabi Grand Prix - Race [v2.3.0]\n",
      "api            INFO \tUsing cached data for driver_info\n"
     ]
    },
    {
     "name": "stdout",
     "output_type": "stream",
     "text": [
      "Processing race round -  21\n"
     ]
    },
    {
     "name": "stderr",
     "output_type": "stream",
     "text": [
      "api            INFO \tUsing cached data for timing_data\n",
      "api            INFO \tUsing cached data for timing_app_data\n",
      "core           INFO \tProcessing timing data...\n",
      "api            INFO \tUsing cached data for session_status_data\n",
      "api            INFO \tUsing cached data for track_status_data\n",
      "api            INFO \tUsing cached data for car_data\n",
      "api            INFO \tUsing cached data for position_data\n",
      "api            INFO \tUsing cached data for weather_data\n",
      "api            INFO \tUsing cached data for race_control_messages\n",
      "core           INFO \tFinished loading data for 20 drivers: ['44', '33', '16', '77', '5', '23', '11', '4', '26', '55', '3', '27', '7', '20', '8', '99', '63', '10', '88', '18']\n",
      "api            INFO \tUsing cached data for timing_data\n"
     ]
    },
    {
     "name": "stdout",
     "output_type": "stream",
     "text": [
      "     Processing driver -  44\n",
      "     Processing driver -  33\n",
      "     Processing driver -  16\n",
      "     Processing driver -  77\n",
      "     Processing driver -  5\n",
      "     Processing driver -  23\n",
      "     Processing driver -  11\n",
      "     Processing driver -  4\n",
      "     Processing driver -  26\n",
      "     Processing driver -  55\n",
      "     Processing driver -  3\n",
      "     Processing driver -  27\n",
      "     Processing driver -  7\n",
      "     Processing driver -  20\n",
      "     Processing driver -  8\n",
      "     Processing driver -  99\n",
      "     Processing driver -  63\n",
      "     Processing driver -  10\n",
      "     Processing driver -  88\n",
      "     Processing driver -  18\n"
     ]
    },
    {
     "name": "stderr",
     "output_type": "stream",
     "text": [
      "core           INFO \tLoading data for Austrian Grand Prix - Race [v2.3.0]\n",
      "api            INFO \tUsing cached data for driver_info\n"
     ]
    },
    {
     "name": "stdout",
     "output_type": "stream",
     "text": [
      "Processing race round -  1\n"
     ]
    },
    {
     "name": "stderr",
     "output_type": "stream",
     "text": [
      "api            INFO \tUsing cached data for timing_data\n",
      "api            INFO \tUsing cached data for timing_app_data\n",
      "core           INFO \tProcessing timing data...\n",
      "api            INFO \tUsing cached data for session_status_data\n",
      "api            INFO \tUsing cached data for track_status_data\n",
      "core        WARNING \tDriver  8: Lap timing integrity check failed for 1 lap(s)\n",
      "api            INFO \tUsing cached data for car_data\n",
      "api            INFO \tUsing cached data for position_data\n",
      "api            INFO \tUsing cached data for weather_data\n",
      "api            INFO \tUsing cached data for race_control_messages\n",
      "core           INFO \tFinished loading data for 20 drivers: ['77', '16', '4', '44', '55', '11', '10', '31', '99', '5', '6', '26', '23', '7', '63', '8', '20', '18', '3', '33']\n",
      "api            INFO \tUsing cached data for timing_data\n"
     ]
    },
    {
     "name": "stdout",
     "output_type": "stream",
     "text": [
      "     Processing driver -  77\n",
      "No telemetry data found for lap 7 of BOT at 2020-07-05 13:19:46.100000\n",
      "     Processing driver -  16\n",
      "No telemetry data found for lap 7 of LEC at 2020-07-05 13:19:56.519000\n",
      "     Processing driver -  4\n",
      "No telemetry data found for lap 7 of NOR at 2020-07-05 13:19:54.387000\n",
      "     Processing driver -  44\n",
      "No telemetry data found for lap 7 of HAM at 2020-07-05 13:19:52.072000\n",
      "     Processing driver -  55\n",
      "No telemetry data found for lap 7 of SAI at 2020-07-05 13:19:57.800000\n",
      "     Processing driver -  11\n",
      "No telemetry data found for lap 7 of PER at 2020-07-05 13:19:55.139000\n",
      "     Processing driver -  10\n",
      "No telemetry data found for lap 7 of GAS at 2020-07-05 13:20:04.512000\n",
      "     Processing driver -  31\n",
      "No telemetry data found for lap 7 of OCO at 2020-07-05 13:20:08.435000\n",
      "     Processing driver -  99\n",
      "No telemetry data found for lap 7 of GIO at 2020-07-05 13:20:07.866000\n",
      "     Processing driver -  5\n",
      "No telemetry data found for lap 7 of VET at 2020-07-05 13:20:00.101000\n",
      "     Processing driver -  6\n",
      "No telemetry data found for lap 7 of LAT at 2020-07-05 13:20:11.480000\n",
      "     Processing driver -  26\n",
      "No telemetry data found for lap 7 of KVY at 2020-07-05 13:20:07.063000\n",
      "     Processing driver -  23\n",
      "No telemetry data found for lap 7 of ALB at 2020-07-05 13:19:51.270000\n",
      "     Processing driver -  7\n",
      "No telemetry data found for lap 7 of RAI at 2020-07-05 13:20:08.802000\n",
      "     Processing driver -  63\n",
      "No telemetry data found for lap 7 of RUS at 2020-07-05 13:20:10.547000\n",
      "     Processing driver -  8\n",
      "No telemetry data found for lap 7 of GRO at 2020-07-05 13:20:09.842000\n",
      "     Processing driver -  20\n",
      "No telemetry data found for lap 7 of MAG at 2020-07-05 13:20:06.291000\n",
      "     Processing driver -  18\n",
      "No telemetry data found for lap 7 of STR at 2020-07-05 13:19:58.992000\n",
      "     Processing driver -  3\n",
      "No telemetry data found for lap 7 of RIC at 2020-07-05 13:20:01.836000\n",
      "     Processing driver -  33\n"
     ]
    },
    {
     "name": "stderr",
     "output_type": "stream",
     "text": [
      "core           INFO \tLoading data for Styrian Grand Prix - Race [v2.3.0]\n",
      "api            INFO \tUsing cached data for driver_info\n"
     ]
    },
    {
     "name": "stdout",
     "output_type": "stream",
     "text": [
      "No telemetry data found for lap 7 of VER at 2020-07-05 13:19:48.408000\n",
      "Processing race round -  2\n"
     ]
    },
    {
     "name": "stderr",
     "output_type": "stream",
     "text": [
      "api            INFO \tUsing cached data for timing_data\n",
      "api            INFO \tUsing cached data for timing_app_data\n",
      "core           INFO \tProcessing timing data...\n",
      "api            INFO \tUsing cached data for session_status_data\n",
      "api            INFO \tUsing cached data for track_status_data\n",
      "api            INFO \tUsing cached data for car_data\n",
      "api            INFO \tUsing cached data for position_data\n",
      "api            INFO \tUsing cached data for weather_data\n",
      "api            INFO \tUsing cached data for race_control_messages\n",
      "core           INFO \tFinished loading data for 1 drivers: ['55']\n",
      "api            INFO \tUsing cached data for timing_data\n",
      "core           INFO \tLoading data for Hungarian Grand Prix - Race [v2.3.0]\n",
      "api            INFO \tUsing cached data for driver_info\n"
     ]
    },
    {
     "name": "stdout",
     "output_type": "stream",
     "text": [
      "     Processing driver -  55\n",
      "error :  attempt to get argmin of an empty sequence\n",
      "                         Date    RPM  Speed  nGear  Throttle  Brake  DRS  \\\n",
      "0     2020-07-12 13:12:51.022  10220      0      1        16  False    1   \n",
      "1     2020-07-12 13:12:51.223  10233      0      1        16  False    1   \n",
      "2     2020-07-12 13:12:51.463   8833      5      1        16  False    1   \n",
      "3     2020-07-12 13:12:51.703   7153     16      1        16  False    1   \n",
      "4     2020-07-12 13:12:51.943   5473     27      1        24  False    1   \n",
      "...                       ...    ...    ...    ...       ...    ...  ...   \n",
      "20543 2020-07-12 14:35:59.754  10578    270      7        99  False    0   \n",
      "20544 2020-07-12 14:35:59.994  10736    274      7        99  False    0   \n",
      "20545 2020-07-12 14:36:00.234  10834    277      7        99  False    0   \n",
      "20546 2020-07-12 14:36:00.474  10962    279      7        99  False    0   \n",
      "20547 2020-07-12 14:36:00.714  11050    283      7        98  False    0   \n",
      "\n",
      "      Source                   Time            SessionTime  \n",
      "0        car 0 days 00:00:00.196000        0 days 00:32:49  \n",
      "1        car 0 days 00:00:00.397000 0 days 00:32:49.201000  \n",
      "2        car 0 days 00:00:00.637000 0 days 00:32:49.441000  \n",
      "3        car 0 days 00:00:00.877000 0 days 00:32:49.681000  \n",
      "4        car 0 days 00:00:01.117000 0 days 00:32:49.921000  \n",
      "...      ...                    ...                    ...  \n",
      "20543    car 0 days 01:23:08.928000 0 days 01:55:57.732000  \n",
      "20544    car 0 days 01:23:09.168000 0 days 01:55:57.972000  \n",
      "20545    car 0 days 01:23:09.408000 0 days 01:55:58.212000  \n",
      "20546    car 0 days 01:23:09.648000 0 days 01:55:58.452000  \n",
      "20547    car 0 days 01:23:09.888000 0 days 01:55:58.692000  \n",
      "\n",
      "[20548 rows x 10 columns]\n",
      "Laps dataframe is empty\n",
      "Processing race round -  3\n"
     ]
    },
    {
     "name": "stderr",
     "output_type": "stream",
     "text": [
      "api            INFO \tUsing cached data for timing_data\n",
      "api            INFO \tUsing cached data for timing_app_data\n",
      "core           INFO \tProcessing timing data...\n",
      "api            INFO \tUsing cached data for session_status_data\n",
      "api            INFO \tUsing cached data for track_status_data\n",
      "api            INFO \tUsing cached data for car_data\n",
      "api            INFO \tUsing cached data for position_data\n",
      "api            INFO \tUsing cached data for weather_data\n",
      "api            INFO \tUsing cached data for race_control_messages\n",
      "core           INFO \tFinished loading data for 19 drivers: ['44', '33', '77', '18', '23', '5', '11', '3', '55', '20', '16', '26', '4', '7', '8', '99', '63', '6', '10']\n",
      "api            INFO \tUsing cached data for timing_data\n"
     ]
    },
    {
     "name": "stdout",
     "output_type": "stream",
     "text": [
      "     Processing driver -  44\n",
      "     Processing driver -  33\n",
      "     Processing driver -  77\n",
      "     Processing driver -  18\n",
      "     Processing driver -  23\n",
      "     Processing driver -  5\n",
      "     Processing driver -  11\n",
      "     Processing driver -  3\n",
      "     Processing driver -  55\n",
      "     Processing driver -  20\n",
      "     Processing driver -  16\n",
      "     Processing driver -  26\n",
      "     Processing driver -  4\n",
      "     Processing driver -  7\n",
      "     Processing driver -  8\n",
      "     Processing driver -  99\n",
      "     Processing driver -  63\n",
      "     Processing driver -  6\n",
      "     Processing driver -  10\n"
     ]
    },
    {
     "name": "stderr",
     "output_type": "stream",
     "text": [
      "core           INFO \tLoading data for British Grand Prix - Race [v2.3.0]\n",
      "api            INFO \tUsing cached data for driver_info\n"
     ]
    },
    {
     "name": "stdout",
     "output_type": "stream",
     "text": [
      "Processing race round -  4\n"
     ]
    },
    {
     "name": "stderr",
     "output_type": "stream",
     "text": [
      "api            INFO \tUsing cached data for timing_data\n",
      "api            INFO \tUsing cached data for timing_app_data\n",
      "core           INFO \tProcessing timing data...\n",
      "api            INFO \tUsing cached data for session_status_data\n",
      "api            INFO \tUsing cached data for track_status_data\n",
      "api            INFO \tUsing cached data for car_data\n",
      "api            INFO \tUsing cached data for position_data\n",
      "api            INFO \tUsing cached data for weather_data\n",
      "api            INFO \tUsing cached data for race_control_messages\n",
      "core           INFO \tFinished loading data for 20 drivers: ['44', '33', '16', '3', '4', '31', '10', '23', '18', '5', '77', '63', '55', '99', '6', '8', '7', '26', '20', '27']\n",
      "api            INFO \tUsing cached data for timing_data\n"
     ]
    },
    {
     "name": "stdout",
     "output_type": "stream",
     "text": [
      "     Processing driver -  44\n",
      "     Processing driver -  33\n",
      "     Processing driver -  16\n",
      "     Processing driver -  3\n",
      "     Processing driver -  4\n",
      "     Processing driver -  31\n",
      "     Processing driver -  10\n",
      "     Processing driver -  23\n",
      "     Processing driver -  18\n",
      "     Processing driver -  5\n",
      "     Processing driver -  77\n",
      "     Processing driver -  63\n",
      "     Processing driver -  55\n",
      "     Processing driver -  99\n",
      "     Processing driver -  6\n",
      "     Processing driver -  8\n",
      "     Processing driver -  7\n",
      "     Processing driver -  26\n",
      "     Processing driver -  20\n"
     ]
    },
    {
     "name": "stderr",
     "output_type": "stream",
     "text": [
      "core           INFO \tLoading data for 70th Anniversary Grand Prix - Race [v2.3.0]\n",
      "api            INFO \tUsing cached data for driver_info\n"
     ]
    },
    {
     "name": "stdout",
     "output_type": "stream",
     "text": [
      "     Processing driver -  27\n",
      "No laps for driver 27\n",
      "Processing race round -  5\n"
     ]
    },
    {
     "name": "stderr",
     "output_type": "stream",
     "text": [
      "api            INFO \tUsing cached data for timing_data\n",
      "api            INFO \tUsing cached data for timing_app_data\n",
      "core           INFO \tProcessing timing data...\n",
      "api            INFO \tUsing cached data for session_status_data\n",
      "api            INFO \tUsing cached data for track_status_data\n",
      "api            INFO \tUsing cached data for car_data\n",
      "api            INFO \tUsing cached data for position_data\n",
      "api            INFO \tUsing cached data for weather_data\n",
      "api            INFO \tUsing cached data for race_control_messages\n",
      "core           INFO \tFinished loading data for 20 drivers: ['33', '44', '77', '16', '23', '18', '27', '31', '4', '26', '10', '5', '55', '3', '7', '8', '99', '63', '6', '20']\n",
      "api            INFO \tUsing cached data for timing_data\n"
     ]
    },
    {
     "name": "stdout",
     "output_type": "stream",
     "text": [
      "     Processing driver -  33\n",
      "     Processing driver -  44\n",
      "     Processing driver -  77\n",
      "     Processing driver -  16\n",
      "     Processing driver -  23\n",
      "     Processing driver -  18\n",
      "     Processing driver -  27\n",
      "     Processing driver -  31\n",
      "     Processing driver -  4\n",
      "     Processing driver -  26\n",
      "     Processing driver -  10\n",
      "     Processing driver -  5\n",
      "     Processing driver -  55\n",
      "     Processing driver -  3\n",
      "     Processing driver -  7\n",
      "     Processing driver -  8\n",
      "     Processing driver -  99\n",
      "     Processing driver -  63\n",
      "     Processing driver -  6\n",
      "     Processing driver -  20\n"
     ]
    },
    {
     "name": "stderr",
     "output_type": "stream",
     "text": [
      "core           INFO \tLoading data for Spanish Grand Prix - Race [v2.3.0]\n",
      "api            INFO \tUsing cached data for driver_info\n"
     ]
    },
    {
     "name": "stdout",
     "output_type": "stream",
     "text": [
      "Processing race round -  6\n"
     ]
    },
    {
     "name": "stderr",
     "output_type": "stream",
     "text": [
      "api            INFO \tUsing cached data for timing_data\n",
      "api            INFO \tUsing cached data for timing_app_data\n",
      "core           INFO \tProcessing timing data...\n",
      "api            INFO \tUsing cached data for session_status_data\n",
      "api            INFO \tUsing cached data for track_status_data\n",
      "api            INFO \tUsing cached data for car_data\n",
      "api            INFO \tUsing cached data for position_data\n",
      "api            INFO \tUsing cached data for weather_data\n",
      "api            INFO \tUsing cached data for race_control_messages\n",
      "core           INFO \tFinished loading data for 20 drivers: ['44', '33', '77', '18', '11', '55', '5', '23', '10', '4', '3', '26', '31', '7', '20', '99', '63', '6', '8', '16']\n",
      "api            INFO \tUsing cached data for timing_data\n"
     ]
    },
    {
     "name": "stdout",
     "output_type": "stream",
     "text": [
      "     Processing driver -  44\n",
      "     Processing driver -  33\n",
      "     Processing driver -  77\n",
      "     Processing driver -  18\n",
      "     Processing driver -  11\n",
      "     Processing driver -  55\n",
      "     Processing driver -  5\n",
      "     Processing driver -  23\n",
      "     Processing driver -  10\n",
      "     Processing driver -  4\n",
      "     Processing driver -  3\n",
      "     Processing driver -  26\n",
      "     Processing driver -  31\n",
      "     Processing driver -  7\n",
      "     Processing driver -  20\n",
      "     Processing driver -  99\n",
      "     Processing driver -  63\n",
      "     Processing driver -  6\n",
      "     Processing driver -  8\n",
      "     Processing driver -  16\n"
     ]
    },
    {
     "name": "stderr",
     "output_type": "stream",
     "text": [
      "core           INFO \tLoading data for Belgian Grand Prix - Race [v2.3.0]\n",
      "api            INFO \tUsing cached data for driver_info\n"
     ]
    },
    {
     "name": "stdout",
     "output_type": "stream",
     "text": [
      "Processing race round -  7\n"
     ]
    },
    {
     "name": "stderr",
     "output_type": "stream",
     "text": [
      "api            INFO \tUsing cached data for timing_data\n",
      "api            INFO \tUsing cached data for timing_app_data\n",
      "core           INFO \tProcessing timing data...\n",
      "api            INFO \tUsing cached data for session_status_data\n",
      "api            INFO \tUsing cached data for track_status_data\n",
      "api            INFO \tUsing cached data for car_data\n",
      "api            INFO \tUsing cached data for position_data\n",
      "api            INFO \tUsing cached data for weather_data\n",
      "api            INFO \tUsing cached data for race_control_messages\n",
      "core           INFO \tFinished loading data for 20 drivers: ['44', '77', '33', '3', '31', '23', '4', '10', '18', '11', '26', '7', '5', '16', '8', '6', '20', '99', '63', '55']\n",
      "api            INFO \tUsing cached data for timing_data\n"
     ]
    },
    {
     "name": "stdout",
     "output_type": "stream",
     "text": [
      "     Processing driver -  44\n",
      "     Processing driver -  77\n",
      "     Processing driver -  33\n",
      "     Processing driver -  3\n",
      "     Processing driver -  31\n",
      "     Processing driver -  23\n",
      "     Processing driver -  4\n",
      "     Processing driver -  10\n",
      "     Processing driver -  18\n",
      "     Processing driver -  11\n",
      "     Processing driver -  26\n",
      "     Processing driver -  7\n",
      "     Processing driver -  5\n",
      "     Processing driver -  16\n",
      "     Processing driver -  8\n",
      "     Processing driver -  6\n",
      "     Processing driver -  20\n",
      "     Processing driver -  99\n",
      "     Processing driver -  63\n"
     ]
    },
    {
     "name": "stderr",
     "output_type": "stream",
     "text": [
      "core           INFO \tLoading data for Italian Grand Prix - Race [v2.3.0]\n",
      "api            INFO \tUsing cached data for driver_info\n"
     ]
    },
    {
     "name": "stdout",
     "output_type": "stream",
     "text": [
      "     Processing driver -  55\n",
      "No laps for driver 55\n",
      "Processing race round -  8\n"
     ]
    },
    {
     "name": "stderr",
     "output_type": "stream",
     "text": [
      "api            INFO \tUsing cached data for timing_data\n",
      "api            INFO \tUsing cached data for timing_app_data\n",
      "core           INFO \tProcessing timing data...\n",
      "api            INFO \tUsing cached data for session_status_data\n",
      "api            INFO \tUsing cached data for track_status_data\n",
      "api            INFO \tUsing cached data for car_data\n",
      "api            INFO \tUsing cached data for position_data\n",
      "api            INFO \tUsing cached data for weather_data\n",
      "api            INFO \tUsing cached data for race_control_messages\n",
      "core           INFO \tFinished loading data for 20 drivers: ['10', '55', '18', '4', '77', '3', '44', '31', '26', '11', '6', '8', '7', '63', '23', '99', '33', '16', '20', '5']\n",
      "api            INFO \tUsing cached data for timing_data\n"
     ]
    },
    {
     "name": "stdout",
     "output_type": "stream",
     "text": [
      "     Processing driver -  10\n",
      "     Processing driver -  55\n",
      "     Processing driver -  18\n",
      "     Processing driver -  4\n",
      "     Processing driver -  77\n",
      "     Processing driver -  3\n",
      "     Processing driver -  44\n",
      "     Processing driver -  31\n",
      "     Processing driver -  26\n",
      "     Processing driver -  11\n",
      "     Processing driver -  6\n",
      "     Processing driver -  8\n",
      "     Processing driver -  7\n",
      "     Processing driver -  63\n",
      "     Processing driver -  23\n",
      "     Processing driver -  99\n",
      "     Processing driver -  33\n",
      "     Processing driver -  16\n",
      "     Processing driver -  20\n",
      "     Processing driver -  5\n"
     ]
    },
    {
     "name": "stderr",
     "output_type": "stream",
     "text": [
      "core           INFO \tLoading data for Tuscan Grand Prix - Race [v2.3.0]\n",
      "api            INFO \tUsing cached data for driver_info\n"
     ]
    },
    {
     "name": "stdout",
     "output_type": "stream",
     "text": [
      "Processing race round -  9\n"
     ]
    },
    {
     "name": "stderr",
     "output_type": "stream",
     "text": [
      "api            INFO \tUsing cached data for timing_data\n",
      "api            INFO \tUsing cached data for timing_app_data\n",
      "core           INFO \tProcessing timing data...\n",
      "api            INFO \tUsing cached data for session_status_data\n",
      "api            INFO \tUsing cached data for track_status_data\n",
      "api            INFO \tUsing cached data for car_data\n",
      "api            INFO \tUsing cached data for position_data\n",
      "api            INFO \tUsing cached data for weather_data\n",
      "api            INFO \tUsing cached data for race_control_messages\n",
      "core           INFO \tFinished loading data for 20 drivers: ['44', '77', '23', '3', '11', '4', '26', '16', '7', '5', '63', '8', '18', '31', '6', '20', '99', '55', '33', '10']\n",
      "api            INFO \tUsing cached data for timing_data\n"
     ]
    },
    {
     "name": "stdout",
     "output_type": "stream",
     "text": [
      "     Processing driver -  44\n",
      "     Processing driver -  77\n",
      "     Processing driver -  23\n",
      "     Processing driver -  3\n",
      "     Processing driver -  11\n",
      "     Processing driver -  4\n",
      "     Processing driver -  26\n",
      "     Processing driver -  16\n",
      "     Processing driver -  7\n",
      "     Processing driver -  5\n",
      "     Processing driver -  63\n",
      "     Processing driver -  8\n",
      "     Processing driver -  18\n",
      "     Processing driver -  31\n",
      "     Processing driver -  6\n",
      "     Processing driver -  20\n",
      "     Processing driver -  99\n",
      "     Processing driver -  55\n"
     ]
    },
    {
     "name": "stderr",
     "output_type": "stream",
     "text": [
      "core           INFO \tLoading data for Russian Grand Prix - Race [v2.3.0]\n",
      "api            INFO \tUsing cached data for driver_info\n"
     ]
    },
    {
     "name": "stdout",
     "output_type": "stream",
     "text": [
      "     Processing driver -  33\n",
      "No laps for driver 33\n",
      "     Processing driver -  10\n",
      "No laps for driver 10\n",
      "Processing race round -  10\n"
     ]
    },
    {
     "name": "stderr",
     "output_type": "stream",
     "text": [
      "api            INFO \tUsing cached data for timing_data\n",
      "api            INFO \tUsing cached data for timing_app_data\n",
      "core           INFO \tProcessing timing data...\n",
      "api            INFO \tUsing cached data for session_status_data\n",
      "api            INFO \tUsing cached data for track_status_data\n",
      "api            INFO \tUsing cached data for car_data\n",
      "api            INFO \tUsing cached data for position_data\n",
      "api            INFO \tUsing cached data for weather_data\n",
      "api            INFO \tUsing cached data for race_control_messages\n",
      "core           INFO \tFinished loading data for 20 drivers: ['77', '33', '44', '11', '3', '16', '31', '26', '10', '23', '99', '20', '5', '7', '4', '6', '8', '63', '55', '18']\n",
      "api            INFO \tUsing cached data for timing_data\n"
     ]
    },
    {
     "name": "stdout",
     "output_type": "stream",
     "text": [
      "     Processing driver -  77\n",
      "     Processing driver -  33\n",
      "     Processing driver -  44\n",
      "     Processing driver -  11\n",
      "     Processing driver -  3\n",
      "     Processing driver -  16\n",
      "     Processing driver -  31\n",
      "     Processing driver -  26\n",
      "     Processing driver -  10\n",
      "     Processing driver -  23\n",
      "     Processing driver -  99\n",
      "     Processing driver -  20\n",
      "     Processing driver -  5\n",
      "     Processing driver -  7\n",
      "     Processing driver -  4\n",
      "     Processing driver -  6\n",
      "     Processing driver -  8\n",
      "     Processing driver -  63\n"
     ]
    },
    {
     "name": "stderr",
     "output_type": "stream",
     "text": [
      "core           INFO \tLoading data for Eifel Grand Prix - Race [v2.3.0]\n",
      "api            INFO \tUsing cached data for driver_info\n"
     ]
    },
    {
     "name": "stdout",
     "output_type": "stream",
     "text": [
      "     Processing driver -  55\n",
      "No laps for driver 55\n",
      "     Processing driver -  18\n",
      "No laps for driver 18\n",
      "Processing race round -  11\n"
     ]
    },
    {
     "name": "stderr",
     "output_type": "stream",
     "text": [
      "api            INFO \tUsing cached data for timing_data\n",
      "api            INFO \tUsing cached data for timing_app_data\n",
      "core           INFO \tProcessing timing data...\n",
      "api            INFO \tUsing cached data for session_status_data\n",
      "api            INFO \tUsing cached data for track_status_data\n",
      "api            INFO \tUsing cached data for car_data\n",
      "api            INFO \tUsing cached data for position_data\n",
      "api            INFO \tUsing cached data for weather_data\n",
      "api            INFO \tUsing cached data for race_control_messages\n",
      "core           INFO \tFinished loading data for 20 drivers: ['44', '33', '3', '11', '55', '10', '16', '27', '8', '99', '5', '7', '20', '6', '26', '4', '23', '31', '77', '63']\n",
      "api            INFO \tUsing cached data for timing_data\n"
     ]
    },
    {
     "name": "stdout",
     "output_type": "stream",
     "text": [
      "     Processing driver -  44\n",
      "     Processing driver -  33\n",
      "     Processing driver -  3\n",
      "     Processing driver -  11\n",
      "     Processing driver -  55\n",
      "     Processing driver -  10\n",
      "     Processing driver -  16\n",
      "     Processing driver -  27\n",
      "     Processing driver -  8\n",
      "     Processing driver -  99\n",
      "     Processing driver -  5\n",
      "     Processing driver -  7\n",
      "     Processing driver -  20\n",
      "     Processing driver -  6\n",
      "     Processing driver -  26\n",
      "     Processing driver -  4\n",
      "     Processing driver -  23\n",
      "     Processing driver -  31\n",
      "     Processing driver -  77\n",
      "     Processing driver -  63\n"
     ]
    },
    {
     "name": "stderr",
     "output_type": "stream",
     "text": [
      "core           INFO \tLoading data for Portuguese Grand Prix - Race [v2.3.0]\n",
      "api            INFO \tUsing cached data for driver_info\n"
     ]
    },
    {
     "name": "stdout",
     "output_type": "stream",
     "text": [
      "Processing race round -  12\n"
     ]
    },
    {
     "name": "stderr",
     "output_type": "stream",
     "text": [
      "api            INFO \tUsing cached data for timing_data\n",
      "api            INFO \tUsing cached data for timing_app_data\n",
      "core           INFO \tProcessing timing data...\n",
      "api            INFO \tUsing cached data for session_status_data\n",
      "api            INFO \tUsing cached data for track_status_data\n",
      "api            INFO \tUsing cached data for car_data\n",
      "api            INFO \tUsing cached data for position_data\n",
      "api            INFO \tUsing cached data for weather_data\n",
      "api            INFO \tUsing cached data for race_control_messages\n",
      "core           INFO \tFinished loading data for 20 drivers: ['44', '77', '33', '16', '10', '55', '11', '31', '3', '5', '7', '23', '4', '63', '99', '20', '8', '6', '26', '18']\n",
      "api            INFO \tUsing cached data for timing_data\n"
     ]
    },
    {
     "name": "stdout",
     "output_type": "stream",
     "text": [
      "     Processing driver -  44\n",
      "     Processing driver -  77\n",
      "     Processing driver -  33\n",
      "     Processing driver -  16\n",
      "     Processing driver -  10\n",
      "     Processing driver -  55\n",
      "     Processing driver -  11\n",
      "     Processing driver -  31\n",
      "     Processing driver -  3\n",
      "     Processing driver -  5\n",
      "     Processing driver -  7\n",
      "     Processing driver -  23\n",
      "     Processing driver -  4\n",
      "     Processing driver -  63\n",
      "     Processing driver -  99\n",
      "     Processing driver -  20\n",
      "     Processing driver -  8\n",
      "     Processing driver -  6\n",
      "     Processing driver -  26\n",
      "     Processing driver -  18\n"
     ]
    },
    {
     "name": "stderr",
     "output_type": "stream",
     "text": [
      "core           INFO \tLoading data for Emilia Romagna Grand Prix - Race [v2.3.0]\n",
      "api            INFO \tUsing cached data for driver_info\n"
     ]
    },
    {
     "name": "stdout",
     "output_type": "stream",
     "text": [
      "Processing race round -  13\n"
     ]
    },
    {
     "name": "stderr",
     "output_type": "stream",
     "text": [
      "api            INFO \tUsing cached data for timing_data\n",
      "api            INFO \tUsing cached data for timing_app_data\n",
      "core           INFO \tProcessing timing data...\n",
      "api            INFO \tUsing cached data for session_status_data\n",
      "api            INFO \tUsing cached data for track_status_data\n",
      "api            INFO \tUsing cached data for car_data\n",
      "api            INFO \tUsing cached data for position_data\n",
      "api            INFO \tUsing cached data for weather_data\n",
      "api            INFO \tUsing cached data for race_control_messages\n",
      "core           INFO \tFinished loading data for 20 drivers: ['44', '77', '3', '26', '16', '11', '55', '4', '7', '99', '6', '5', '18', '8', '23', '63', '33', '20', '31', '10']\n",
      "api            INFO \tUsing cached data for timing_data\n"
     ]
    },
    {
     "name": "stdout",
     "output_type": "stream",
     "text": [
      "     Processing driver -  44\n",
      "     Processing driver -  77\n",
      "     Processing driver -  3\n",
      "     Processing driver -  26\n",
      "     Processing driver -  16\n",
      "     Processing driver -  11\n",
      "     Processing driver -  55\n",
      "     Processing driver -  4\n",
      "     Processing driver -  7\n",
      "     Processing driver -  99\n",
      "     Processing driver -  6\n",
      "     Processing driver -  5\n",
      "     Processing driver -  18\n",
      "     Processing driver -  8\n",
      "     Processing driver -  23\n",
      "     Processing driver -  63\n",
      "     Processing driver -  33\n",
      "     Processing driver -  20\n",
      "     Processing driver -  31\n",
      "     Processing driver -  10\n"
     ]
    },
    {
     "name": "stderr",
     "output_type": "stream",
     "text": [
      "core           INFO \tLoading data for Turkish Grand Prix - Race [v2.3.0]\n",
      "api            INFO \tUsing cached data for driver_info\n"
     ]
    },
    {
     "name": "stdout",
     "output_type": "stream",
     "text": [
      "Processing race round -  14\n"
     ]
    },
    {
     "name": "stderr",
     "output_type": "stream",
     "text": [
      "api            INFO \tUsing cached data for timing_data\n",
      "api            INFO \tUsing cached data for timing_app_data\n",
      "core           INFO \tProcessing timing data...\n",
      "api            INFO \tUsing cached data for session_status_data\n",
      "api            INFO \tUsing cached data for track_status_data\n",
      "api            INFO \tUsing cached data for car_data\n",
      "api            INFO \tUsing cached data for position_data\n",
      "api            INFO \tUsing cached data for weather_data\n",
      "api            INFO \tUsing cached data for race_control_messages\n",
      "core           INFO \tFinished loading data for 20 drivers: ['44', '11', '5', '16', '55', '33', '23', '4', '18', '3', '31', '26', '10', '77', '7', '63', '20', '8', '6', '99']\n",
      "api            INFO \tUsing cached data for timing_data\n"
     ]
    },
    {
     "name": "stdout",
     "output_type": "stream",
     "text": [
      "     Processing driver -  44\n",
      "     Processing driver -  11\n",
      "     Processing driver -  5\n",
      "     Processing driver -  16\n",
      "     Processing driver -  55\n",
      "     Processing driver -  33\n",
      "     Processing driver -  23\n",
      "     Processing driver -  4\n",
      "     Processing driver -  18\n",
      "     Processing driver -  3\n",
      "     Processing driver -  31\n",
      "     Processing driver -  26\n",
      "     Processing driver -  10\n",
      "     Processing driver -  77\n",
      "     Processing driver -  7\n",
      "     Processing driver -  63\n",
      "     Processing driver -  20\n",
      "     Processing driver -  8\n",
      "     Processing driver -  6\n",
      "     Processing driver -  99\n"
     ]
    },
    {
     "name": "stderr",
     "output_type": "stream",
     "text": [
      "core           INFO \tLoading data for Bahrain Grand Prix - Race [v2.3.0]\n",
      "api            INFO \tUsing cached data for driver_info\n"
     ]
    },
    {
     "name": "stdout",
     "output_type": "stream",
     "text": [
      "Processing race round -  15\n"
     ]
    },
    {
     "name": "stderr",
     "output_type": "stream",
     "text": [
      "api            INFO \tUsing cached data for timing_data\n",
      "api            INFO \tUsing cached data for timing_app_data\n",
      "core           INFO \tProcessing timing data...\n",
      "api            INFO \tUsing cached data for session_status_data\n",
      "api            INFO \tUsing cached data for track_status_data\n",
      "api            INFO \tUsing cached data for car_data\n",
      "api            INFO \tUsing cached data for position_data\n",
      "api            INFO \tUsing cached data for weather_data\n",
      "api            INFO \tUsing cached data for race_control_messages\n",
      "core           INFO \tFinished loading data for 20 drivers: ['44', '33', '23', '4', '55', '10', '3', '77', '31', '16', '26', '63', '5', '6', '7', '99', '20', '11', '18', '8']\n",
      "api            INFO \tUsing cached data for timing_data\n"
     ]
    },
    {
     "name": "stdout",
     "output_type": "stream",
     "text": [
      "     Processing driver -  44\n",
      "     Processing driver -  33\n",
      "     Processing driver -  23\n",
      "     Processing driver -  4\n",
      "     Processing driver -  55\n",
      "     Processing driver -  10\n",
      "     Processing driver -  3\n",
      "     Processing driver -  77\n",
      "     Processing driver -  31\n",
      "     Processing driver -  16\n",
      "     Processing driver -  26\n",
      "     Processing driver -  63\n",
      "     Processing driver -  5\n",
      "     Processing driver -  6\n",
      "     Processing driver -  7\n",
      "     Processing driver -  99\n",
      "     Processing driver -  20\n",
      "     Processing driver -  11\n",
      "     Processing driver -  18\n"
     ]
    },
    {
     "name": "stderr",
     "output_type": "stream",
     "text": [
      "core           INFO \tLoading data for Sakhir Grand Prix - Race [v2.3.0]\n",
      "api            INFO \tUsing cached data for driver_info\n"
     ]
    },
    {
     "name": "stdout",
     "output_type": "stream",
     "text": [
      "     Processing driver -  8\n",
      "No laps for driver 8\n",
      "Processing race round -  16\n"
     ]
    },
    {
     "name": "stderr",
     "output_type": "stream",
     "text": [
      "api            INFO \tUsing cached data for timing_data\n",
      "api            INFO \tUsing cached data for timing_app_data\n",
      "core           INFO \tProcessing timing data...\n",
      "api            INFO \tUsing cached data for session_status_data\n",
      "api            INFO \tUsing cached data for track_status_data\n",
      "api            INFO \tUsing cached data for car_data\n",
      "api            INFO \tUsing cached data for position_data\n",
      "api            INFO \tUsing cached data for weather_data\n",
      "api            INFO \tUsing cached data for race_control_messages\n",
      "core           INFO \tFinished loading data for 20 drivers: ['11', '31', '18', '55', '3', '23', '26', '77', '63', '4', '10', '5', '99', '7', '20', '89', '51', '6', '33', '16']\n",
      "api            INFO \tUsing cached data for timing_data\n"
     ]
    },
    {
     "name": "stdout",
     "output_type": "stream",
     "text": [
      "     Processing driver -  11\n",
      "     Processing driver -  31\n",
      "     Processing driver -  18\n",
      "     Processing driver -  55\n",
      "     Processing driver -  3\n",
      "     Processing driver -  23\n",
      "     Processing driver -  26\n",
      "     Processing driver -  77\n",
      "     Processing driver -  63\n",
      "     Processing driver -  4\n",
      "     Processing driver -  10\n",
      "     Processing driver -  5\n",
      "     Processing driver -  99\n",
      "     Processing driver -  7\n",
      "     Processing driver -  20\n",
      "     Processing driver -  89\n",
      "     Processing driver -  51\n",
      "     Processing driver -  6\n"
     ]
    },
    {
     "name": "stderr",
     "output_type": "stream",
     "text": [
      "core           INFO \tLoading data for Abu Dhabi Grand Prix - Race [v2.3.0]\n",
      "api            INFO \tUsing cached data for driver_info\n"
     ]
    },
    {
     "name": "stdout",
     "output_type": "stream",
     "text": [
      "     Processing driver -  33\n",
      "No laps for driver 33\n",
      "     Processing driver -  16\n",
      "No laps for driver 16\n",
      "Processing race round -  17\n"
     ]
    },
    {
     "name": "stderr",
     "output_type": "stream",
     "text": [
      "api            INFO \tUsing cached data for timing_data\n",
      "api            INFO \tUsing cached data for timing_app_data\n",
      "core           INFO \tProcessing timing data...\n",
      "api            INFO \tUsing cached data for session_status_data\n",
      "api            INFO \tUsing cached data for track_status_data\n",
      "api            INFO \tUsing cached data for car_data\n",
      "api            INFO \tUsing cached data for position_data\n",
      "api            INFO \tUsing cached data for weather_data\n",
      "api            INFO \tUsing cached data for race_control_messages\n",
      "core           INFO \tFinished loading data for 20 drivers: ['33', '77', '44', '23', '4', '55', '3', '10', '31', '18', '26', '7', '16', '5', '63', '99', '6', '20', '51', '11']\n",
      "api            INFO \tUsing cached data for timing_data\n"
     ]
    },
    {
     "name": "stdout",
     "output_type": "stream",
     "text": [
      "     Processing driver -  33\n",
      "     Processing driver -  77\n",
      "     Processing driver -  44\n",
      "     Processing driver -  23\n",
      "     Processing driver -  4\n",
      "     Processing driver -  55\n",
      "     Processing driver -  3\n",
      "     Processing driver -  10\n",
      "     Processing driver -  31\n",
      "     Processing driver -  18\n",
      "     Processing driver -  26\n",
      "     Processing driver -  7\n",
      "     Processing driver -  16\n",
      "     Processing driver -  5\n",
      "     Processing driver -  63\n",
      "     Processing driver -  99\n",
      "     Processing driver -  6\n",
      "     Processing driver -  20\n",
      "     Processing driver -  51\n",
      "     Processing driver -  11\n"
     ]
    },
    {
     "name": "stderr",
     "output_type": "stream",
     "text": [
      "core           INFO \tLoading data for Bahrain Grand Prix - Race [v2.3.0]\n",
      "api            INFO \tUsing cached data for driver_info\n"
     ]
    },
    {
     "name": "stdout",
     "output_type": "stream",
     "text": [
      "Processing race round -  1\n"
     ]
    },
    {
     "name": "stderr",
     "output_type": "stream",
     "text": [
      "api            INFO \tUsing cached data for timing_data\n",
      "api            INFO \tUsing cached data for timing_app_data\n",
      "core           INFO \tProcessing timing data...\n",
      "api            INFO \tUsing cached data for session_status_data\n",
      "api            INFO \tUsing cached data for track_status_data\n",
      "api            INFO \tUsing cached data for car_data\n",
      "api            INFO \tUsing cached data for position_data\n",
      "api            INFO \tUsing cached data for weather_data\n",
      "api            INFO \tUsing cached data for race_control_messages\n",
      "core           INFO \tFinished loading data for 20 drivers: ['44', '33', '77', '4', '11', '16', '3', '55', '22', '18', '7', '99', '31', '63', '5', '47', '10', '6', '14', '9']\n",
      "api            INFO \tUsing cached data for timing_data\n"
     ]
    },
    {
     "name": "stdout",
     "output_type": "stream",
     "text": [
      "     Processing driver -  44\n",
      "     Processing driver -  33\n",
      "     Processing driver -  77\n",
      "     Processing driver -  4\n",
      "     Processing driver -  11\n",
      "     Processing driver -  16\n",
      "     Processing driver -  3\n",
      "     Processing driver -  55\n",
      "     Processing driver -  22\n",
      "     Processing driver -  18\n",
      "     Processing driver -  7\n",
      "     Processing driver -  99\n",
      "     Processing driver -  31\n",
      "     Processing driver -  63\n",
      "     Processing driver -  5\n",
      "     Processing driver -  47\n",
      "     Processing driver -  10\n",
      "     Processing driver -  6\n",
      "     Processing driver -  14\n"
     ]
    },
    {
     "name": "stderr",
     "output_type": "stream",
     "text": [
      "core           INFO \tLoading data for Emilia Romagna Grand Prix - Race [v2.3.0]\n",
      "api            INFO \tUsing cached data for driver_info\n"
     ]
    },
    {
     "name": "stdout",
     "output_type": "stream",
     "text": [
      "     Processing driver -  9\n",
      "No laps for driver 9\n",
      "Processing race round -  2\n"
     ]
    },
    {
     "name": "stderr",
     "output_type": "stream",
     "text": [
      "api            INFO \tUsing cached data for timing_data\n",
      "api            INFO \tUsing cached data for timing_app_data\n",
      "core           INFO \tProcessing timing data...\n",
      "api            INFO \tUsing cached data for session_status_data\n",
      "api            INFO \tUsing cached data for track_status_data\n",
      "api            INFO \tUsing cached data for car_data\n",
      "api            INFO \tUsing cached data for position_data\n",
      "api            INFO \tUsing cached data for weather_data\n",
      "api            INFO \tUsing cached data for race_control_messages\n",
      "core           INFO \tFinished loading data for 20 drivers: ['33', '44', '4', '16', '55', '3', '10', '18', '31', '14', '11', '22', '7', '99', '5', '47', '9', '77', '63', '6']\n",
      "api            INFO \tUsing cached data for timing_data\n"
     ]
    },
    {
     "name": "stdout",
     "output_type": "stream",
     "text": [
      "     Processing driver -  33\n",
      "     Processing driver -  44\n",
      "     Processing driver -  4\n",
      "     Processing driver -  16\n",
      "     Processing driver -  55\n",
      "     Processing driver -  3\n",
      "     Processing driver -  10\n",
      "     Processing driver -  18\n",
      "     Processing driver -  31\n",
      "     Processing driver -  14\n",
      "     Processing driver -  11\n",
      "     Processing driver -  22\n",
      "     Processing driver -  7\n",
      "     Processing driver -  99\n",
      "     Processing driver -  5\n",
      "     Processing driver -  47\n",
      "     Processing driver -  9\n",
      "     Processing driver -  77\n",
      "     Processing driver -  63\n"
     ]
    },
    {
     "name": "stderr",
     "output_type": "stream",
     "text": [
      "core           INFO \tLoading data for Portuguese Grand Prix - Race [v2.3.0]\n",
      "api            INFO \tUsing cached data for driver_info\n"
     ]
    },
    {
     "name": "stdout",
     "output_type": "stream",
     "text": [
      "     Processing driver -  6\n",
      "No laps for driver 6\n",
      "Processing race round -  3\n"
     ]
    },
    {
     "name": "stderr",
     "output_type": "stream",
     "text": [
      "api            INFO \tUsing cached data for timing_data\n",
      "api            INFO \tUsing cached data for timing_app_data\n",
      "core           INFO \tProcessing timing data...\n",
      "api            INFO \tUsing cached data for session_status_data\n",
      "api            INFO \tUsing cached data for track_status_data\n",
      "api            INFO \tUsing cached data for car_data\n",
      "api            INFO \tUsing cached data for position_data\n"
     ]
    }
   ],
   "source": [
    "for year in range(2019, 2023):\n",
    "    get_season_data(year)"
   ]
  }
 ],
 "metadata": {
  "kernelspec": {
   "display_name": "bsc",
   "language": "python",
   "name": "python3"
  },
  "language_info": {
   "codemirror_mode": {
    "name": "ipython",
    "version": 3
   },
   "file_extension": ".py",
   "mimetype": "text/x-python",
   "name": "python",
   "nbconvert_exporter": "python",
   "pygments_lexer": "ipython3",
   "version": "3.10.9"
  },
  "orig_nbformat": 4,
  "vscode": {
   "interpreter": {
    "hash": "589d2f16c7c43e145ee42078413b0251fb200486a68306d3d62712e3312580ab"
   }
  }
 },
 "nbformat": 4,
 "nbformat_minor": 2
}
