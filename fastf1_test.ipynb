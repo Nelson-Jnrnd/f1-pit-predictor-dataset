{
 "cells": [
  {
   "cell_type": "code",
   "execution_count": 28,
   "metadata": {},
   "outputs": [],
   "source": [
    "import pandas as pd\n",
    "import numpy as np\n",
    "import matplotlib.pyplot as plt\n",
    "import seaborn as sns\n",
    "import fastf1 as ff1\n",
    "\n",
    "ff1.Cache.enable_cache('cache')"
   ]
  },
  {
   "cell_type": "code",
   "execution_count": 43,
   "metadata": {},
   "outputs": [],
   "source": [
    "import warnings\n",
    "warnings.filterwarnings('ignore')\n",
    "# ignore info messages\n",
    "import logging\n",
    "logging.getLogger('fastf1').setLevel(logging.WARNING)"
   ]
  },
  {
   "cell_type": "code",
   "execution_count": 158,
   "metadata": {},
   "outputs": [],
   "source": [
    "def get_empty_dataframe():\n",
    "    return pd.DataFrame(\n",
    "            columns=[\n",
    "                'LapStartTime',\n",
    "                'LapNumber',\n",
    "                'LapTime',\n",
    "                'Compound',\n",
    "                'TyreLife',\n",
    "                'TrackStatus',\n",
    "                'Stint',\n",
    "                'DistanceToDriverAhead',\n",
    "                'DriverAhead',\n",
    "                ])"
   ]
  },
  {
   "cell_type": "code",
   "execution_count": 188,
   "metadata": {},
   "outputs": [],
   "source": [
    "# Exception that is raised when there is no telemetry data for a given lap.\n",
    "class NoTelemetryException(Exception):\n",
    "    pass\n",
    "\n",
    "# Find the telemetry data (Driver Ahead, Distance to Driver Ahead) for the start of a lap and merge it with the lap data.\n",
    "def get_telemetry_at_start_of_lap(lap, telemetry):\n",
    "    # Find the telemetry data for the start of the lap by creating a 1 second window around the lap start time.\n",
    "    mask = (telemetry['Date'] > lap['LapStartDate']) & (telemetry['Date'] <= lap['LapStartDate'] + pd.Timedelta(seconds=1))\n",
    "    rows = telemetry.loc[mask]\n",
    "    # If there is no telemetry data for the lap, raise an exception.\n",
    "    if rows.empty:\n",
    "        raise NoTelemetryException(\"No telemetry data found for lap \" + str(lap['LapNumber']) + \" of \" + str(lap['Driver']) + \" at \" + str(lap['LapStartDate']))\n",
    "    row = rows.iloc[0] # There can be multiple telemetry samples in the 1 second window, so take the first one.\n",
    "    telemetryInfo = row[['DriverAhead', 'DistanceToDriverAhead']] # Get the telemetry data we are interested in.\n",
    "    lapInfo = lap[['LapStartTime', 'LapNumber', 'LapTime', 'Compound', 'TyreLife', 'Stint', 'TrackStatus']] # Get the lap data we are interested in.\n",
    "    telemetryInfo.rename(\"Telemetry\", inplace=True)\n",
    "    lapInfo.rename(\"Lap\", inplace=True)\n",
    "    merge = pd.concat([telemetryInfo, lapInfo]) # Merge the telemetry and lap data.\n",
    "    return merge\n"
   ]
  },
  {
   "cell_type": "code",
   "execution_count": 187,
   "metadata": {},
   "outputs": [],
   "source": [
    "# Exception that is raised when there is no data for a given lap.\n",
    "class NoLapException(Exception):\n",
    "    pass\n",
    "\n",
    "# Find all the laps for a given driver and merge the telemetry data for the start of each lap.\n",
    "def get_laps_of_driver(driver, laps):\n",
    "    driver_laps = laps.pick_driver(driver)\n",
    "    if len(driver_laps['DriverNumber']) == 0:\n",
    "        raise NoLapException(\"No laps for driver \" + driver)\n",
    "    driver_laps_telemetry = driver_laps.get_car_data()\n",
    "    if len(driver_laps_telemetry) == 0:\n",
    "        raise NoLapException(\"No telemetry for driver \" + driver)\n",
    "    try:\n",
    "        driver_laps_telemetry = driver_laps_telemetry.add_driver_ahead()\n",
    "        transformed_laps = []\n",
    "        for index, row in driver_laps.iterrows():\n",
    "            try:\n",
    "                transformed_laps.append(get_telemetry_at_start_of_lap(row, driver_laps_telemetry))\n",
    "            except NoTelemetryException as e:\n",
    "                print(e)\n",
    "    except ValueError as e:\n",
    "        print(\"error : \", e)\n",
    "        print(driver_laps_telemetry)\n",
    "        return get_empty_dataframe()\n",
    "    return pd.DataFrame(transformed_laps)\n",
    "\n",
    "# Add weather data that would have been available at the start of each lap.\n",
    "def add_weather_to_laps(laps, weather):\n",
    "    if laps.empty:\n",
    "        raise NoLapException(\"Laps dataframe is empty\")\n",
    "    # Effectuer une jointure basée sur une plage de temps\n",
    "    lapsWithWeather = pd.merge_asof(laps.sort_values('LapStartTime'), \n",
    "                                    weather.sort_values('Time'), \n",
    "                                    left_on='LapStartTime', \n",
    "                                    right_on='Time', \n",
    "                                    by=None, \n",
    "                                    direction='backward')\n",
    "\n",
    "    return lapsWithWeather"
   ]
  },
  {
   "cell_type": "code",
   "execution_count": 191,
   "metadata": {},
   "outputs": [],
   "source": [
    "import os\n",
    "\n",
    "# Get the data for all the races within a given year and save it to csv files.\n",
    "def get_season_data(year, save_all_races=True):\n",
    "    schedule = ff1.get_event_schedule(year, include_testing=False)\n",
    "    \n",
    "    path = 'data/' + str(year)\n",
    "    # Create a directory for the year if it doesn't exist\n",
    "    if not os.path.exists(path):\n",
    "        os.makedirs(path)\n",
    "\n",
    "    df_season = get_empty_dataframe()\n",
    "    for index, event in schedule.iterrows():\n",
    "        if year == 2018 and event['RoundNumber'] < 3: # The 2 first races of 2018 do not have telemetry data\n",
    "            continue\n",
    "        print(\"Processing race round - \", event['RoundNumber'])\n",
    "        race = event.get_race()\n",
    "        race.load()\n",
    "        df_event = get_empty_dataframe()\n",
    "        for driver in race.drivers:\n",
    "            print(\"     Processing driver - \", driver)\n",
    "            try:\n",
    "                df_event = pd.concat([df_event, get_laps_of_driver(driver, race.laps)], axis=0)\n",
    "            except NoLapException as e:\n",
    "                print(e)\n",
    "    \n",
    "        df_event['Track'] = event['Location']\n",
    "        try:\n",
    "            df_event = add_weather_to_laps(df_event, race.weather_data)\n",
    "        except NoLapException as e:\n",
    "            print(e)\n",
    "        if save_all_races:\n",
    "            # Save it to a csv file\n",
    "            df_event.to_csv(path + '/' + event.EventName.replace(' ', '_').lower() + '.csv', index=False)\n",
    "        df_season = pd.concat([df_season, df_event], axis=0)\n",
    "\n",
    "    # Save the data for the whole season\n",
    "    df_season.to_csv(path + '/season.csv', index=False)\n",
    "    return df_season"
   ]
  },
  {
   "cell_type": "code",
   "execution_count": null,
   "metadata": {},
   "outputs": [],
   "source": [
    "for year in range(2018, 2023):\n",
    "    get_season_data(year)"
   ]
  }
 ],
 "metadata": {
  "kernelspec": {
   "display_name": "bsc",
   "language": "python",
   "name": "python3"
  },
  "language_info": {
   "codemirror_mode": {
    "name": "ipython",
    "version": 3
   },
   "file_extension": ".py",
   "mimetype": "text/x-python",
   "name": "python",
   "nbconvert_exporter": "python",
   "pygments_lexer": "ipython3",
   "version": "3.10.9"
  },
  "orig_nbformat": 4,
  "vscode": {
   "interpreter": {
    "hash": "589d2f16c7c43e145ee42078413b0251fb200486a68306d3d62712e3312580ab"
   }
  }
 },
 "nbformat": 4,
 "nbformat_minor": 2
}
