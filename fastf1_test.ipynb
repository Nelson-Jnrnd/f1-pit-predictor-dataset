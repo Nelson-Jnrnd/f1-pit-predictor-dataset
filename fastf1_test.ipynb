{
 "cells": [
  {
   "cell_type": "code",
   "execution_count": 72,
   "metadata": {},
   "outputs": [],
   "source": [
    "import pandas as pd\n",
    "import numpy as np\n",
    "import matplotlib.pyplot as plt\n",
    "import seaborn as sns\n",
    "import fastf1 as ff1\n",
    "\n",
    "ff1.Cache.enable_cache('cache')"
   ]
  },
  {
   "cell_type": "code",
   "execution_count": 73,
   "metadata": {},
   "outputs": [],
   "source": [
    "import warnings\n",
    "warnings.filterwarnings('ignore')"
   ]
  },
  {
   "cell_type": "code",
   "execution_count": 74,
   "metadata": {},
   "outputs": [],
   "source": [
    "def get_empty_dataframe():\n",
    "    return pd.DataFrame(\n",
    "            columns=[\n",
    "                'LapNumber',\n",
    "                'LapTime',\n",
    "                'Compound',\n",
    "                'TyreLife',\n",
    "                'TrackStatus',\n",
    "                'Stint',\n",
    "                'DistanceToDriverAhead',\n",
    "                'DriverAhead',\n",
    "                ])"
   ]
  },
  {
   "cell_type": "code",
   "execution_count": 75,
   "metadata": {},
   "outputs": [],
   "source": [
    "class NoTelemetryException(Exception):\n",
    "    pass\n",
    "\n",
    "def get_telemetry_at_start_of_lap(lap, telemetry):\n",
    "    mask = (telemetry['Date'] > lap['LapStartDate']) & (telemetry['Date'] <= lap['LapStartDate'] + pd.Timedelta(seconds=1))\n",
    "    rows = telemetry.loc[mask]\n",
    "    if rows.empty:\n",
    "        raise NoTelemetryException(\"No telemetry data found for lap \" + str(lap['LapNumber']) + \" of \" + str(lap['Driver']) + \" at \" + str(lap['LapStartDate']))\n",
    "    row = rows.iloc[0]\n",
    "    telemetryInfo = row[['DriverAhead', 'DistanceToDriverAhead']]\n",
    "    lapInfo = lap[['LapNumber', 'LapTime', 'Compound', 'TyreLife', 'Stint', 'TrackStatus']]\n",
    "    telemetryInfo.rename(\"Telemetry\", inplace=True)\n",
    "    lapInfo.rename(\"Lap\", inplace=True)\n",
    "    merge = pd.concat([telemetryInfo, lapInfo])\n",
    "    return merge"
   ]
  },
  {
   "cell_type": "code",
   "execution_count": 90,
   "metadata": {},
   "outputs": [],
   "source": [
    "class NoLapException(Exception):\n",
    "    pass\n",
    "\n",
    "def get_laps_of_driver(driver, laps):\n",
    "    driver_laps = laps.pick_driver(driver)\n",
    "    if len(driver_laps['DriverNumber']) == 0:\n",
    "        raise NoLapException(\"No laps for driver \" + driver)\n",
    "    driver_laps_telemetry = driver_laps.get_car_data()\n",
    "    if len(driver_laps_telemetry) == 0:\n",
    "        raise NoLapException(\"No telemetry for driver \" + driver)\n",
    "    try:\n",
    "        driver_laps_telemetry = driver_laps_telemetry.add_driver_ahead()\n",
    "        transformed_laps = []\n",
    "        for index, row in driver_laps.iterrows():\n",
    "            try:\n",
    "                transformed_laps.append(get_telemetry_at_start_of_lap(row, driver_laps_telemetry))\n",
    "            except NoTelemetryException as e:\n",
    "                print(e)\n",
    "    except ValueError as e:\n",
    "        print(\"error : \", e)\n",
    "        print(driver_laps_telemetry)\n",
    "        return get_empty_dataframe()\n",
    "    return pd.DataFrame(transformed_laps)"
   ]
  },
  {
   "cell_type": "code",
   "execution_count": 77,
   "metadata": {},
   "outputs": [],
   "source": [
    "import os\n",
    "\n",
    "def get_season_data(year, save_all_races=True):\n",
    "    schedule = ff1.get_event_schedule(year, include_testing=False)\n",
    "    \n",
    "    path = 'data/' + str(year)\n",
    "    # Create a directory for the year if it doesn't exist\n",
    "    if not os.path.exists(path):\n",
    "        os.makedirs(path)\n",
    "\n",
    "    df_season = get_empty_dataframe()\n",
    "    for index, event in schedule.iterrows():\n",
    "        print(\"Processing race round - \", event['RoundNumber'])\n",
    "        race = event.get_race()\n",
    "        race.load()\n",
    "        df_event = get_empty_dataframe()\n",
    "        for driver in race.drivers:\n",
    "            print(\"     Processing driver - \", driver)\n",
    "            try:\n",
    "                df_event = pd.concat([df_event, get_laps_of_driver(driver, race.laps)], axis=0)\n",
    "            except NoLapException as e:\n",
    "                print(e)\n",
    "        \n",
    "        if save_all_races:\n",
    "            # Save it to a csv file\n",
    "            df_event.to_csv(path + '/' + event.EventName.replace(' ', '_').lower() + '.csv', index=False)\n",
    "        df_season = pd.concat([df_season, df_event], axis=0)\n",
    "\n",
    "    # Save the data for the whole season\n",
    "    df_season.to_csv(path + '/season.csv', index=False)\n",
    "    return df_season"
   ]
  },
  {
   "cell_type": "code",
   "execution_count": 99,
   "metadata": {},
   "outputs": [
    {
     "name": "stderr",
     "output_type": "stream",
     "text": [
      "core           INFO \tLoading data for Bahrain Grand Prix - Race [v2.3.0]\n",
      "api            INFO \tUsing cached data for driver_info\n",
      "api            INFO \tUsing cached data for timing_data\n",
      "api            INFO \tUsing cached data for timing_app_data\n",
      "core           INFO \tProcessing timing data...\n",
      "api            INFO \tUsing cached data for session_status_data\n",
      "api            INFO \tUsing cached data for track_status_data\n",
      "api            INFO \tNo cached data found for car_data. Loading data...\n",
      "api            INFO \tFetching car data...\n",
      "core        WARNING \tFailed to load telemetry data!\n",
      "api            INFO \tUsing cached data for weather_data\n",
      "api            INFO \tUsing cached data for race_control_messages\n",
      "core           INFO \tFinished loading data for 20 drivers: ['5', '77', '44', '10', '20', '27', '14', '2', '9', '31', '55', '16', '8', '18', '35', '11', '28', '7', '33', '3']\n"
     ]
    }
   ],
   "source": [
    "year = 2018\n",
    "schedule = ff1.get_event_schedule(year, include_testing=False)\n",
    "\n",
    "path = 'data/' + str(year)\n",
    "# Create a directory for the year if it doesn't exist\n",
    "if not os.path.exists(path):\n",
    "    os.makedirs(path)\n",
    "\n",
    "df_season = get_empty_dataframe()\n",
    "\n",
    "event = schedule.get_event_by_round(2)\n",
    "race = event.get_race()\n",
    "race.load(laps=True, telemetry=True, weather=True, messages=True)\n"
   ]
  },
  {
   "cell_type": "code",
   "execution_count": 100,
   "metadata": {},
   "outputs": [
    {
     "name": "stdout",
     "output_type": "stream",
     "text": [
      "     Processing driver -  5\n"
     ]
    },
    {
     "ename": "DataNotLoadedError",
     "evalue": "The data you are trying to access has not been loaded yet. See `Session.load`",
     "output_type": "error",
     "traceback": [
      "\u001b[1;31m---------------------------------------------------------------------------\u001b[0m",
      "\u001b[1;31mDataNotLoadedError\u001b[0m                        Traceback (most recent call last)",
      "Cell \u001b[1;32mIn[100], line 5\u001b[0m\n\u001b[0;32m      3\u001b[0m \u001b[39mprint\u001b[39m(\u001b[39m\"\u001b[39m\u001b[39m     Processing driver - \u001b[39m\u001b[39m\"\u001b[39m, driver)\n\u001b[0;32m      4\u001b[0m \u001b[39mtry\u001b[39;00m:\n\u001b[1;32m----> 5\u001b[0m     df_event \u001b[39m=\u001b[39m pd\u001b[39m.\u001b[39mconcat([df_event, get_laps_of_driver(driver, race\u001b[39m.\u001b[39;49mlaps)], axis\u001b[39m=\u001b[39m\u001b[39m0\u001b[39m)\n\u001b[0;32m      6\u001b[0m \u001b[39mexcept\u001b[39;00m NoLapException \u001b[39mas\u001b[39;00m e:\n\u001b[0;32m      7\u001b[0m     \u001b[39mprint\u001b[39m(e)\n",
      "Cell \u001b[1;32mIn[90], line 8\u001b[0m, in \u001b[0;36mget_laps_of_driver\u001b[1;34m(driver, laps)\u001b[0m\n\u001b[0;32m      6\u001b[0m \u001b[39mif\u001b[39;00m \u001b[39mlen\u001b[39m(driver_laps[\u001b[39m'\u001b[39m\u001b[39mDriverNumber\u001b[39m\u001b[39m'\u001b[39m]) \u001b[39m==\u001b[39m \u001b[39m0\u001b[39m:\n\u001b[0;32m      7\u001b[0m     \u001b[39mraise\u001b[39;00m NoLapException(\u001b[39m\"\u001b[39m\u001b[39mNo laps for driver \u001b[39m\u001b[39m\"\u001b[39m \u001b[39m+\u001b[39m driver)\n\u001b[1;32m----> 8\u001b[0m driver_laps_telemetry \u001b[39m=\u001b[39m driver_laps\u001b[39m.\u001b[39;49mget_car_data()\n\u001b[0;32m      9\u001b[0m \u001b[39mif\u001b[39;00m \u001b[39mlen\u001b[39m(driver_laps_telemetry) \u001b[39m==\u001b[39m \u001b[39m0\u001b[39m:\n\u001b[0;32m     10\u001b[0m     \u001b[39mraise\u001b[39;00m NoLapException(\u001b[39m\"\u001b[39m\u001b[39mNo telemetry for driver \u001b[39m\u001b[39m\"\u001b[39m \u001b[39m+\u001b[39m driver)\n",
      "File \u001b[1;32mp:\\Anaconda\\envs\\bsc\\lib\\site-packages\\fastf1\\core.py:2014\u001b[0m, in \u001b[0;36mLaps.get_car_data\u001b[1;34m(self, **kwargs)\u001b[0m\n\u001b[0;32m   2012\u001b[0m     \u001b[39mraise\u001b[39;00m \u001b[39mValueError\u001b[39;00m(\u001b[39m\"\u001b[39m\u001b[39mCannot slice telemetry because self contains Laps of multiple drivers!\u001b[39m\u001b[39m\"\u001b[39m)\n\u001b[0;32m   2013\u001b[0m drv_num \u001b[39m=\u001b[39m drv_num[\u001b[39m0\u001b[39m]\n\u001b[1;32m-> 2014\u001b[0m car_data \u001b[39m=\u001b[39m \u001b[39mself\u001b[39;49m\u001b[39m.\u001b[39;49msession\u001b[39m.\u001b[39;49mcar_data[drv_num]\u001b[39m.\u001b[39mslice_by_lap(\u001b[39mself\u001b[39m, \u001b[39m*\u001b[39m\u001b[39m*\u001b[39mkwargs)\u001b[39m.\u001b[39mreset_index(drop\u001b[39m=\u001b[39m\u001b[39mTrue\u001b[39;00m)\n\u001b[0;32m   2015\u001b[0m \u001b[39mreturn\u001b[39;00m car_data\n",
      "File \u001b[1;32mp:\\Anaconda\\envs\\bsc\\lib\\site-packages\\fastf1\\core.py:1072\u001b[0m, in \u001b[0;36mSession.car_data\u001b[1;34m(self)\u001b[0m\n\u001b[0;32m   1064\u001b[0m \u001b[39m@property\u001b[39m\n\u001b[0;32m   1065\u001b[0m \u001b[39mdef\u001b[39;00m \u001b[39mcar_data\u001b[39m(\u001b[39mself\u001b[39m):\n\u001b[0;32m   1066\u001b[0m \u001b[39m    \u001b[39m\u001b[39m\"\"\"Dictionary of car telemetry (Speed, RPM, etc.) as received from\u001b[39;00m\n\u001b[0;32m   1067\u001b[0m \u001b[39m    the api by car number (where car number is a string and the telemetry\u001b[39;00m\n\u001b[0;32m   1068\u001b[0m \u001b[39m    is an instance of :class:`Telemetry`)\u001b[39;00m\n\u001b[0;32m   1069\u001b[0m \n\u001b[0;32m   1070\u001b[0m \u001b[39m    Data is available after calling `Session.load` with ``telemetry=True``\u001b[39;00m\n\u001b[0;32m   1071\u001b[0m \u001b[39m    \"\"\"\u001b[39;00m\n\u001b[1;32m-> 1072\u001b[0m     \u001b[39mreturn\u001b[39;00m \u001b[39mself\u001b[39;49m\u001b[39m.\u001b[39;49m_get_property_warn_not_loaded(\u001b[39m'\u001b[39;49m\u001b[39m_car_data\u001b[39;49m\u001b[39m'\u001b[39;49m)\n",
      "File \u001b[1;32mp:\\Anaconda\\envs\\bsc\\lib\\site-packages\\fastf1\\core.py:1017\u001b[0m, in \u001b[0;36mSession._get_property_warn_not_loaded\u001b[1;34m(self, name)\u001b[0m\n\u001b[0;32m   1015\u001b[0m d \u001b[39m=\u001b[39m \u001b[39mgetattr\u001b[39m(\u001b[39mself\u001b[39m, name, \u001b[39mNone\u001b[39;00m)\n\u001b[0;32m   1016\u001b[0m \u001b[39mif\u001b[39;00m d \u001b[39mis\u001b[39;00m \u001b[39mNone\u001b[39;00m:\n\u001b[1;32m-> 1017\u001b[0m     \u001b[39mraise\u001b[39;00m DataNotLoadedError(\u001b[39m\"\u001b[39m\u001b[39mThe data you are trying to access has not \u001b[39m\u001b[39m\"\u001b[39m\n\u001b[0;32m   1018\u001b[0m                              \u001b[39m\"\u001b[39m\u001b[39mbeen loaded yet. See `Session.load`\u001b[39m\u001b[39m\"\u001b[39m)\n\u001b[0;32m   1019\u001b[0m \u001b[39mreturn\u001b[39;00m d\n",
      "\u001b[1;31mDataNotLoadedError\u001b[0m: The data you are trying to access has not been loaded yet. See `Session.load`"
     ]
    }
   ],
   "source": [
    "df_event = get_empty_dataframe()\n",
    "for driver in race.drivers:\n",
    "    print(\"     Processing driver - \", driver)\n",
    "    try:\n",
    "        df_event = pd.concat([df_event, get_laps_of_driver(driver, race.laps)], axis=0)\n",
    "    except NoLapException as e:\n",
    "        print(e)\n",
    "\n",
    "\n",
    "# Save it to a csv file\n",
    "df_event.to_csv(path + '/' + event.EventName.replace(' ', '_').lower() + '.csv', index=False)\n",
    "df_season = pd.concat([df_season, df_event], axis=0)\n",
    "\n",
    "# Save the data for the whole season\n",
    "df_season.to_csv(path + '/season.csv', index=False)"
   ]
  },
  {
   "cell_type": "code",
   "execution_count": 93,
   "metadata": {},
   "outputs": [
    {
     "name": "stderr",
     "output_type": "stream",
     "text": [
      "core           INFO \tLoading data for Australian Grand Prix - Race [v2.3.0]\n",
      "api            INFO \tUsing cached data for driver_info\n"
     ]
    },
    {
     "name": "stdout",
     "output_type": "stream",
     "text": [
      "Processing race round -  1\n"
     ]
    },
    {
     "name": "stderr",
     "output_type": "stream",
     "text": [
      "api            INFO \tUsing cached data for timing_data\n",
      "api            INFO \tUsing cached data for timing_app_data\n",
      "core           INFO \tProcessing timing data...\n",
      "api            INFO \tUsing cached data for session_status_data\n",
      "api            INFO \tUsing cached data for track_status_data\n",
      "api            INFO \tUsing cached data for car_data\n",
      "api            INFO \tNo cached data found for position_data. Loading data...\n",
      "api            INFO \tFetching position data...\n",
      "core        WARNING \tFailed to load telemetry data!\n",
      "api            INFO \tUsing cached data for weather_data\n",
      "api            INFO \tUsing cached data for race_control_messages\n",
      "core           INFO \tFinished loading data for 20 drivers: ['5', '44', '7', '3', '14', '33', '27', '77', '2', '55', '11', '31', '16', '18', '28', '8', '20', '10', '9', '35']\n"
     ]
    },
    {
     "name": "stdout",
     "output_type": "stream",
     "text": [
      "     Processing driver -  5\n"
     ]
    },
    {
     "ename": "DataNotLoadedError",
     "evalue": "The data you are trying to access has not been loaded yet. See `Session.load`",
     "output_type": "error",
     "traceback": [
      "\u001b[1;31m---------------------------------------------------------------------------\u001b[0m",
      "\u001b[1;31mDataNotLoadedError\u001b[0m                        Traceback (most recent call last)",
      "Cell \u001b[1;32mIn[93], line 1\u001b[0m\n\u001b[1;32m----> 1\u001b[0m get_season_data(\u001b[39m2018\u001b[39;49m)\n",
      "Cell \u001b[1;32mIn[77], line 20\u001b[0m, in \u001b[0;36mget_season_data\u001b[1;34m(year, save_all_races)\u001b[0m\n\u001b[0;32m     18\u001b[0m \u001b[39mprint\u001b[39m(\u001b[39m\"\u001b[39m\u001b[39m     Processing driver - \u001b[39m\u001b[39m\"\u001b[39m, driver)\n\u001b[0;32m     19\u001b[0m \u001b[39mtry\u001b[39;00m:\n\u001b[1;32m---> 20\u001b[0m     df_event \u001b[39m=\u001b[39m pd\u001b[39m.\u001b[39mconcat([df_event, get_laps_of_driver(driver, race\u001b[39m.\u001b[39;49mlaps)], axis\u001b[39m=\u001b[39m\u001b[39m0\u001b[39m)\n\u001b[0;32m     21\u001b[0m \u001b[39mexcept\u001b[39;00m NoLapException \u001b[39mas\u001b[39;00m e:\n\u001b[0;32m     22\u001b[0m     \u001b[39mprint\u001b[39m(e)\n",
      "Cell \u001b[1;32mIn[90], line 8\u001b[0m, in \u001b[0;36mget_laps_of_driver\u001b[1;34m(driver, laps)\u001b[0m\n\u001b[0;32m      6\u001b[0m \u001b[39mif\u001b[39;00m \u001b[39mlen\u001b[39m(driver_laps[\u001b[39m'\u001b[39m\u001b[39mDriverNumber\u001b[39m\u001b[39m'\u001b[39m]) \u001b[39m==\u001b[39m \u001b[39m0\u001b[39m:\n\u001b[0;32m      7\u001b[0m     \u001b[39mraise\u001b[39;00m NoLapException(\u001b[39m\"\u001b[39m\u001b[39mNo laps for driver \u001b[39m\u001b[39m\"\u001b[39m \u001b[39m+\u001b[39m driver)\n\u001b[1;32m----> 8\u001b[0m driver_laps_telemetry \u001b[39m=\u001b[39m driver_laps\u001b[39m.\u001b[39;49mget_car_data()\n\u001b[0;32m      9\u001b[0m \u001b[39mif\u001b[39;00m \u001b[39mlen\u001b[39m(driver_laps_telemetry) \u001b[39m==\u001b[39m \u001b[39m0\u001b[39m:\n\u001b[0;32m     10\u001b[0m     \u001b[39mraise\u001b[39;00m NoLapException(\u001b[39m\"\u001b[39m\u001b[39mNo telemetry for driver \u001b[39m\u001b[39m\"\u001b[39m \u001b[39m+\u001b[39m driver)\n",
      "File \u001b[1;32mp:\\Anaconda\\envs\\bsc\\lib\\site-packages\\fastf1\\core.py:2014\u001b[0m, in \u001b[0;36mLaps.get_car_data\u001b[1;34m(self, **kwargs)\u001b[0m\n\u001b[0;32m   2012\u001b[0m     \u001b[39mraise\u001b[39;00m \u001b[39mValueError\u001b[39;00m(\u001b[39m\"\u001b[39m\u001b[39mCannot slice telemetry because self contains Laps of multiple drivers!\u001b[39m\u001b[39m\"\u001b[39m)\n\u001b[0;32m   2013\u001b[0m drv_num \u001b[39m=\u001b[39m drv_num[\u001b[39m0\u001b[39m]\n\u001b[1;32m-> 2014\u001b[0m car_data \u001b[39m=\u001b[39m \u001b[39mself\u001b[39;49m\u001b[39m.\u001b[39;49msession\u001b[39m.\u001b[39;49mcar_data[drv_num]\u001b[39m.\u001b[39mslice_by_lap(\u001b[39mself\u001b[39m, \u001b[39m*\u001b[39m\u001b[39m*\u001b[39mkwargs)\u001b[39m.\u001b[39mreset_index(drop\u001b[39m=\u001b[39m\u001b[39mTrue\u001b[39;00m)\n\u001b[0;32m   2015\u001b[0m \u001b[39mreturn\u001b[39;00m car_data\n",
      "File \u001b[1;32mp:\\Anaconda\\envs\\bsc\\lib\\site-packages\\fastf1\\core.py:1072\u001b[0m, in \u001b[0;36mSession.car_data\u001b[1;34m(self)\u001b[0m\n\u001b[0;32m   1064\u001b[0m \u001b[39m@property\u001b[39m\n\u001b[0;32m   1065\u001b[0m \u001b[39mdef\u001b[39;00m \u001b[39mcar_data\u001b[39m(\u001b[39mself\u001b[39m):\n\u001b[0;32m   1066\u001b[0m \u001b[39m    \u001b[39m\u001b[39m\"\"\"Dictionary of car telemetry (Speed, RPM, etc.) as received from\u001b[39;00m\n\u001b[0;32m   1067\u001b[0m \u001b[39m    the api by car number (where car number is a string and the telemetry\u001b[39;00m\n\u001b[0;32m   1068\u001b[0m \u001b[39m    is an instance of :class:`Telemetry`)\u001b[39;00m\n\u001b[0;32m   1069\u001b[0m \n\u001b[0;32m   1070\u001b[0m \u001b[39m    Data is available after calling `Session.load` with ``telemetry=True``\u001b[39;00m\n\u001b[0;32m   1071\u001b[0m \u001b[39m    \"\"\"\u001b[39;00m\n\u001b[1;32m-> 1072\u001b[0m     \u001b[39mreturn\u001b[39;00m \u001b[39mself\u001b[39;49m\u001b[39m.\u001b[39;49m_get_property_warn_not_loaded(\u001b[39m'\u001b[39;49m\u001b[39m_car_data\u001b[39;49m\u001b[39m'\u001b[39;49m)\n",
      "File \u001b[1;32mp:\\Anaconda\\envs\\bsc\\lib\\site-packages\\fastf1\\core.py:1017\u001b[0m, in \u001b[0;36mSession._get_property_warn_not_loaded\u001b[1;34m(self, name)\u001b[0m\n\u001b[0;32m   1015\u001b[0m d \u001b[39m=\u001b[39m \u001b[39mgetattr\u001b[39m(\u001b[39mself\u001b[39m, name, \u001b[39mNone\u001b[39;00m)\n\u001b[0;32m   1016\u001b[0m \u001b[39mif\u001b[39;00m d \u001b[39mis\u001b[39;00m \u001b[39mNone\u001b[39;00m:\n\u001b[1;32m-> 1017\u001b[0m     \u001b[39mraise\u001b[39;00m DataNotLoadedError(\u001b[39m\"\u001b[39m\u001b[39mThe data you are trying to access has not \u001b[39m\u001b[39m\"\u001b[39m\n\u001b[0;32m   1018\u001b[0m                              \u001b[39m\"\u001b[39m\u001b[39mbeen loaded yet. See `Session.load`\u001b[39m\u001b[39m\"\u001b[39m)\n\u001b[0;32m   1019\u001b[0m \u001b[39mreturn\u001b[39;00m d\n",
      "\u001b[1;31mDataNotLoadedError\u001b[0m: The data you are trying to access has not been loaded yet. See `Session.load`"
     ]
    }
   ],
   "source": [
    "get_season_data(2018)"
   ]
  },
  {
   "cell_type": "code",
   "execution_count": 80,
   "metadata": {},
   "outputs": [
    {
     "name": "stderr",
     "output_type": "stream",
     "text": [
      "core           INFO \tLoading data for Australian Grand Prix - Race [v2.3.0]\n",
      "api            INFO \tUsing cached data for driver_info\n"
     ]
    },
    {
     "name": "stdout",
     "output_type": "stream",
     "text": [
      "Processing race round -  1\n"
     ]
    },
    {
     "name": "stderr",
     "output_type": "stream",
     "text": [
      "api            INFO \tUsing cached data for timing_data\n",
      "api            INFO \tUsing cached data for timing_app_data\n",
      "core           INFO \tProcessing timing data...\n",
      "api            INFO \tUsing cached data for session_status_data\n",
      "api            INFO \tUsing cached data for track_status_data\n",
      "api            INFO \tUsing cached data for car_data\n",
      "api            INFO \tNo cached data found for position_data. Loading data...\n",
      "api            INFO \tFetching position data...\n",
      "core        WARNING \tFailed to load telemetry data!\n",
      "api            INFO \tUsing cached data for weather_data\n",
      "api            INFO \tUsing cached data for race_control_messages\n",
      "core           INFO \tFinished loading data for 20 drivers: ['5', '44', '7', '3', '14', '33', '27', '77', '2', '55', '11', '31', '16', '18', '28', '8', '20', '10', '9', '35']\n"
     ]
    },
    {
     "name": "stdout",
     "output_type": "stream",
     "text": [
      "     Processing driver -  5\n"
     ]
    },
    {
     "ename": "DataNotLoadedError",
     "evalue": "The data you are trying to access has not been loaded yet. See `Session.load`",
     "output_type": "error",
     "traceback": [
      "\u001b[1;31m---------------------------------------------------------------------------\u001b[0m",
      "\u001b[1;31mDataNotLoadedError\u001b[0m                        Traceback (most recent call last)",
      "Cell \u001b[1;32mIn[80], line 2\u001b[0m\n\u001b[0;32m      1\u001b[0m \u001b[39mfor\u001b[39;00m year \u001b[39min\u001b[39;00m \u001b[39mrange\u001b[39m(\u001b[39m2018\u001b[39m, \u001b[39m2022\u001b[39m):\n\u001b[1;32m----> 2\u001b[0m     get_season_data(year)\n",
      "Cell \u001b[1;32mIn[77], line 20\u001b[0m, in \u001b[0;36mget_season_data\u001b[1;34m(year, save_all_races)\u001b[0m\n\u001b[0;32m     18\u001b[0m \u001b[39mprint\u001b[39m(\u001b[39m\"\u001b[39m\u001b[39m     Processing driver - \u001b[39m\u001b[39m\"\u001b[39m, driver)\n\u001b[0;32m     19\u001b[0m \u001b[39mtry\u001b[39;00m:\n\u001b[1;32m---> 20\u001b[0m     df_event \u001b[39m=\u001b[39m pd\u001b[39m.\u001b[39mconcat([df_event, get_laps_of_driver(driver, race\u001b[39m.\u001b[39;49mlaps)], axis\u001b[39m=\u001b[39m\u001b[39m0\u001b[39m)\n\u001b[0;32m     21\u001b[0m \u001b[39mexcept\u001b[39;00m NoLapException \u001b[39mas\u001b[39;00m e:\n\u001b[0;32m     22\u001b[0m     \u001b[39mprint\u001b[39m(e)\n",
      "Cell \u001b[1;32mIn[76], line 8\u001b[0m, in \u001b[0;36mget_laps_of_driver\u001b[1;34m(driver, laps)\u001b[0m\n\u001b[0;32m      6\u001b[0m \u001b[39mif\u001b[39;00m \u001b[39mlen\u001b[39m(driver_laps[\u001b[39m'\u001b[39m\u001b[39mDriverNumber\u001b[39m\u001b[39m'\u001b[39m]) \u001b[39m==\u001b[39m \u001b[39m0\u001b[39m:\n\u001b[0;32m      7\u001b[0m     \u001b[39mraise\u001b[39;00m NoLapException(\u001b[39m\"\u001b[39m\u001b[39mNo laps for driver \u001b[39m\u001b[39m\"\u001b[39m \u001b[39m+\u001b[39m driver)\n\u001b[1;32m----> 8\u001b[0m driver_laps_telemetry \u001b[39m=\u001b[39m driver_laps\u001b[39m.\u001b[39;49mget_car_data()\u001b[39m.\u001b[39madd_driver_ahead()\n\u001b[0;32m      9\u001b[0m transformed_laps \u001b[39m=\u001b[39m []\n\u001b[0;32m     10\u001b[0m \u001b[39mfor\u001b[39;00m index, row \u001b[39min\u001b[39;00m driver_laps\u001b[39m.\u001b[39miterrows():\n",
      "File \u001b[1;32mp:\\Anaconda\\envs\\bsc\\lib\\site-packages\\fastf1\\core.py:2014\u001b[0m, in \u001b[0;36mLaps.get_car_data\u001b[1;34m(self, **kwargs)\u001b[0m\n\u001b[0;32m   2012\u001b[0m     \u001b[39mraise\u001b[39;00m \u001b[39mValueError\u001b[39;00m(\u001b[39m\"\u001b[39m\u001b[39mCannot slice telemetry because self contains Laps of multiple drivers!\u001b[39m\u001b[39m\"\u001b[39m)\n\u001b[0;32m   2013\u001b[0m drv_num \u001b[39m=\u001b[39m drv_num[\u001b[39m0\u001b[39m]\n\u001b[1;32m-> 2014\u001b[0m car_data \u001b[39m=\u001b[39m \u001b[39mself\u001b[39;49m\u001b[39m.\u001b[39;49msession\u001b[39m.\u001b[39;49mcar_data[drv_num]\u001b[39m.\u001b[39mslice_by_lap(\u001b[39mself\u001b[39m, \u001b[39m*\u001b[39m\u001b[39m*\u001b[39mkwargs)\u001b[39m.\u001b[39mreset_index(drop\u001b[39m=\u001b[39m\u001b[39mTrue\u001b[39;00m)\n\u001b[0;32m   2015\u001b[0m \u001b[39mreturn\u001b[39;00m car_data\n",
      "File \u001b[1;32mp:\\Anaconda\\envs\\bsc\\lib\\site-packages\\fastf1\\core.py:1072\u001b[0m, in \u001b[0;36mSession.car_data\u001b[1;34m(self)\u001b[0m\n\u001b[0;32m   1064\u001b[0m \u001b[39m@property\u001b[39m\n\u001b[0;32m   1065\u001b[0m \u001b[39mdef\u001b[39;00m \u001b[39mcar_data\u001b[39m(\u001b[39mself\u001b[39m):\n\u001b[0;32m   1066\u001b[0m \u001b[39m    \u001b[39m\u001b[39m\"\"\"Dictionary of car telemetry (Speed, RPM, etc.) as received from\u001b[39;00m\n\u001b[0;32m   1067\u001b[0m \u001b[39m    the api by car number (where car number is a string and the telemetry\u001b[39;00m\n\u001b[0;32m   1068\u001b[0m \u001b[39m    is an instance of :class:`Telemetry`)\u001b[39;00m\n\u001b[0;32m   1069\u001b[0m \n\u001b[0;32m   1070\u001b[0m \u001b[39m    Data is available after calling `Session.load` with ``telemetry=True``\u001b[39;00m\n\u001b[0;32m   1071\u001b[0m \u001b[39m    \"\"\"\u001b[39;00m\n\u001b[1;32m-> 1072\u001b[0m     \u001b[39mreturn\u001b[39;00m \u001b[39mself\u001b[39;49m\u001b[39m.\u001b[39;49m_get_property_warn_not_loaded(\u001b[39m'\u001b[39;49m\u001b[39m_car_data\u001b[39;49m\u001b[39m'\u001b[39;49m)\n",
      "File \u001b[1;32mp:\\Anaconda\\envs\\bsc\\lib\\site-packages\\fastf1\\core.py:1017\u001b[0m, in \u001b[0;36mSession._get_property_warn_not_loaded\u001b[1;34m(self, name)\u001b[0m\n\u001b[0;32m   1015\u001b[0m d \u001b[39m=\u001b[39m \u001b[39mgetattr\u001b[39m(\u001b[39mself\u001b[39m, name, \u001b[39mNone\u001b[39;00m)\n\u001b[0;32m   1016\u001b[0m \u001b[39mif\u001b[39;00m d \u001b[39mis\u001b[39;00m \u001b[39mNone\u001b[39;00m:\n\u001b[1;32m-> 1017\u001b[0m     \u001b[39mraise\u001b[39;00m DataNotLoadedError(\u001b[39m\"\u001b[39m\u001b[39mThe data you are trying to access has not \u001b[39m\u001b[39m\"\u001b[39m\n\u001b[0;32m   1018\u001b[0m                              \u001b[39m\"\u001b[39m\u001b[39mbeen loaded yet. See `Session.load`\u001b[39m\u001b[39m\"\u001b[39m)\n\u001b[0;32m   1019\u001b[0m \u001b[39mreturn\u001b[39;00m d\n",
      "\u001b[1;31mDataNotLoadedError\u001b[0m: The data you are trying to access has not been loaded yet. See `Session.load`"
     ]
    }
   ],
   "source": [
    "for year in range(2018, 2022):\n",
    "    get_season_data(year)"
   ]
  }
 ],
 "metadata": {
  "kernelspec": {
   "display_name": "bsc",
   "language": "python",
   "name": "python3"
  },
  "language_info": {
   "codemirror_mode": {
    "name": "ipython",
    "version": 3
   },
   "file_extension": ".py",
   "mimetype": "text/x-python",
   "name": "python",
   "nbconvert_exporter": "python",
   "pygments_lexer": "ipython3",
   "version": "3.10.9"
  },
  "orig_nbformat": 4,
  "vscode": {
   "interpreter": {
    "hash": "589d2f16c7c43e145ee42078413b0251fb200486a68306d3d62712e3312580ab"
   }
  }
 },
 "nbformat": 4,
 "nbformat_minor": 2
}
