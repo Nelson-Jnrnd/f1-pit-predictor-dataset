{
 "cells": [
  {
   "cell_type": "code",
   "execution_count": 2,
   "metadata": {},
   "outputs": [
    {
     "data": {
      "text/plain": [
       "'3.0.4'"
      ]
     },
     "execution_count": 2,
     "metadata": {},
     "output_type": "execute_result"
    }
   ],
   "source": [
    "import pandas as pd\n",
    "import numpy as np\n",
    "import matplotlib.pyplot as plt\n",
    "import seaborn as sns\n",
    "import fastf1 as ff1\n",
    "\n",
    "ff1.Cache.enable_cache('cache')\n",
    "ff1.__version__"
   ]
  },
  {
   "cell_type": "code",
   "execution_count": 3,
   "metadata": {},
   "outputs": [],
   "source": [
    "import warnings\n",
    "warnings.filterwarnings('ignore')\n",
    "# ignore info messages\n",
    "import logging\n",
    "logging.getLogger('fastf1').setLevel(logging.WARNING)"
   ]
  },
  {
   "cell_type": "code",
   "execution_count": 10,
   "metadata": {},
   "outputs": [],
   "source": [
    "def extract_number(s):\n",
    "    if isinstance(s, str) and s.endswith('L'):\n",
    "        return int(s.split()[0])\n",
    "    else:\n",
    "        return 0\n",
    "\n",
    "\n",
    "def load_api_data(session):\n",
    "    \"\"\"\n",
    "    Loads the data from the API and returns it as a pandas DataFrame.\n",
    "    \"\"\"\n",
    "    laps_data, stream_data = ff1.core.api.timing_data(session.api_path)\n",
    "    laps_data.dropna(subset=['Time'], inplace=True)\n",
    "    \n",
    "    api_data = pd.merge_asof(laps_data.sort_values('Time'), stream_data.sort_values('Time'), on='Time', by='Driver')\n",
    "\n",
    "    merged_laps = pd.merge(session.laps, api_data[['Driver', 'Time', 'NumberOfLaps', 'NumberOfPitStops', 'GapToLeader', 'IntervalToPositionAhead']], left_on=['LapNumber', 'DriverNumber'], right_on=['NumberOfLaps', 'Driver'])\n",
    "\n",
    "    merged_laps['LapsToLeader'] = merged_laps['GapToLeader'].map(extract_number)\n",
    "\n",
    "    merged_laps.replace(regex=r'^LAP', value=0, inplace=True)\n",
    "    merged_laps.replace(regex=r'^\\+', value='', inplace=True)\n",
    "    merged_laps.replace(regex=r'^(\\d+)\\sL$', value=np.nan, inplace=True)\n",
    "\n",
    "    merged_laps.rename(columns={'Time_x': 'Time', 'Driver_x':'Driver'}, inplace=True)\n",
    "    merged_laps = merged_laps.astype({'GapToLeader': 'float64', 'IntervalToPositionAhead': 'float64'})\n",
    "\n",
    "    return merged_laps[['Time', 'Driver', 'DriverNumber', 'LapTime', 'LapNumber', 'PitOutTime',\n",
    "       'PitInTime','Compound', 'TyreLife', 'Stint', 'LapStartTime', 'Team',\n",
    "        'TrackStatus', 'IsAccurate', 'LapStartDate', 'NumberOfPitStops', 'Position', 'GapToLeader',\n",
    "       'IntervalToPositionAhead', 'LapsToLeader']]\n"
   ]
  },
  {
   "cell_type": "code",
   "execution_count": 5,
   "metadata": {},
   "outputs": [],
   "source": [
    "def get_empty_dataframe():\n",
    "    return pd.DataFrame(\n",
    "            columns=[\n",
    "                'LapStartTime',\n",
    "                'LapNumber',\n",
    "                'LapTime',\n",
    "                'DriverNumber',\n",
    "                'Team',\n",
    "                'Compound',\n",
    "                'TyreLife',\n",
    "                'TrackStatus',\n",
    "                'Stint',\n",
    "                'DistanceToDriverAhead',\n",
    "                'DriverAhead',\n",
    "                'PitStatus',\n",
    "                'IsAccurate',\n",
    "                'NumberOfPitStops',\n",
    "                'Position',\n",
    "                'GapToLeader',\n",
    "                'IntervalToPositionAhead',\n",
    "                'LapsToLeader',\n",
    "                ])"
   ]
  },
  {
   "cell_type": "code",
   "execution_count": 6,
   "metadata": {},
   "outputs": [],
   "source": [
    "# Exception that is raised when there is no telemetry data for a given lap.\n",
    "class NoTelemetryException(Exception):\n",
    "    pass\n",
    "\n",
    "# Find the telemetry data (Driver Ahead, Distance to Driver Ahead) for the start of a lap and merge it with the lap data.\n",
    "\n",
    "\n",
    "def get_telemetry_at_start_of_lap(lap, telemetry):\n",
    "    # Find the telemetry data for the start of the lap by creating a 1 second window around the lap start time.\n",
    "    mask = (telemetry['Date'] > lap['LapStartDate']) & (\n",
    "        telemetry['Date'] <= lap['LapStartDate'] + pd.Timedelta(seconds=1))\n",
    "    rows = telemetry.loc[mask]\n",
    "    # If there is no telemetry data for the lap, raise an exception.\n",
    "    if rows.empty:\n",
    "        raise NoTelemetryException(\"No telemetry data found for lap \" + str(\n",
    "            lap['LapNumber']) + \" of \" + str(lap['Driver']) + \" at \" + str(lap['LapStartDate']))\n",
    "    # There can be multiple telemetry samples in the 1 second window, so take the first one.\n",
    "    row = rows.iloc[0]\n",
    "    # Get the telemetry data we are interested in.\n",
    "    telemetryInfo = row[['DriverAhead', 'DistanceToDriverAhead']]\n",
    "    lapInfo = lap[['LapStartTime', 'LapNumber', 'LapTime',\n",
    "                   'DriverNumber', 'Team', 'Compound', \n",
    "                   'TyreLife', 'Stint', 'TrackStatus',\n",
    "                   'IsAccurate', 'NumberOfPitStops', 'Position',\n",
    "                   'GapToLeader', 'IntervalToPositionAhead', 'LapsToLeader',]]  # Get the lap data we are interested in.\n",
    "    # Convert the pit out time to seconds.\n",
    "    lap['PitOutTime'] = lap['PitOutTime'].total_seconds() if lap['PitOutTime'] is not None else 0\n",
    "    # Convert the pit in time to seconds.\n",
    "    lap['PitInTime'] = lap['PitInTime'].total_seconds() if lap['PitInTime'] is not None else 0\n",
    "    # Get the pit status.\n",
    "    lapInfo['PitStatus'] = 'OutLap' if lap['PitOutTime'] > 0 else 'InLap' if lap['PitInTime'] > 0 else 'NoPit'\n",
    "    telemetryInfo.rename(\"Telemetry\", inplace=True)\n",
    "    lapInfo.rename(\"Lap\", inplace=True)\n",
    "    # Merge the telemetry and lap data.\n",
    "    merge = pd.concat([telemetryInfo, lapInfo])\n",
    "    return merge\n"
   ]
  },
  {
   "cell_type": "code",
   "execution_count": 7,
   "metadata": {},
   "outputs": [],
   "source": [
    "# Exception that is raised when there is no data for a given lap.\n",
    "class NoLapException(Exception):\n",
    "    pass\n",
    "\n",
    "# Find all the laps for a given driver and merge the telemetry data for the start of each lap.\n",
    "def get_laps_of_driver(driver, laps):\n",
    "    driver_laps = laps.loc[laps['DriverNumber'] == driver]\n",
    "    if len(driver_laps['DriverNumber']) == 0:\n",
    "        raise NoLapException(\"No laps for driver \" + driver)\n",
    "    driver_laps_telemetry = driver_laps.get_car_data()\n",
    "    if len(driver_laps_telemetry) == 0:\n",
    "        raise NoLapException(\"No telemetry for driver \" + driver)\n",
    "    try:\n",
    "        driver_laps_telemetry = driver_laps_telemetry.add_driver_ahead()\n",
    "        transformed_laps = []\n",
    "        for index, row in driver_laps.iterrows():\n",
    "            try:\n",
    "                transformed_laps.append(get_telemetry_at_start_of_lap(row, driver_laps_telemetry))\n",
    "            except NoTelemetryException as e:\n",
    "                print(e)\n",
    "    except ValueError as e:\n",
    "        print(\"error : \", e)\n",
    "        print(driver_laps_telemetry)\n",
    "        return get_empty_dataframe()\n",
    "    return pd.DataFrame(transformed_laps)\n",
    "\n",
    "# Add weather data that would have been available at the start of each lap.\n",
    "def add_weather_to_laps(laps, weather):\n",
    "    if laps.empty:\n",
    "        raise NoLapException(\"Laps dataframe is empty\")\n",
    "    # Effectuer une jointure basée sur une plage de temps\n",
    "    lapsWithWeather = pd.merge_asof(laps.sort_values('LapStartTime'), \n",
    "                                    weather.sort_values('Time'), \n",
    "                                    left_on='LapStartTime', \n",
    "                                    right_on='Time', \n",
    "                                    by=None, \n",
    "                                    direction='backward')\n",
    "\n",
    "    return lapsWithWeather"
   ]
  },
  {
   "cell_type": "code",
   "execution_count": 8,
   "metadata": {},
   "outputs": [],
   "source": [
    "import os\n",
    "\n",
    "# Get the data for all the races within a given year and save it to csv files.\n",
    "def get_season_data(year, save_all_races=True):\n",
    "    schedule = ff1.get_event_schedule(year, include_testing=False)\n",
    "    \n",
    "    path = 'data/' + str(year)\n",
    "    # Create a directory for the year if it doesn't exist\n",
    "    if not os.path.exists(path):\n",
    "        os.makedirs(path)\n",
    "\n",
    "    df_season = get_empty_dataframe()\n",
    "    for index, event in schedule.iterrows():\n",
    "        if year == 2018 and event['RoundNumber'] < 3: # The 2 first races of 2018 do not have telemetry data\n",
    "            continue\n",
    "        print(\"Processing race round - \", event['RoundNumber'])\n",
    "        race = event.get_race()\n",
    "        race.load()\n",
    "        df_event = get_empty_dataframe()\n",
    "        api_laps = load_api_data(race)\n",
    "        \n",
    "\n",
    "        for driver in race.drivers:\n",
    "            print(\"     Processing driver - \", driver)\n",
    "            try:\n",
    "                df_event = pd.concat([df_event, get_laps_of_driver(driver, api_laps)])\n",
    "            except NoLapException as e:\n",
    "                print(e)\n",
    "    \n",
    "        df_event['Track'] = event['Location']\n",
    "        df_event['TotalLaps'] = api_laps['LapNumber'].max()\n",
    "        df_event['Year'] = year\n",
    "        try:\n",
    "            df_event = add_weather_to_laps(df_event, race.weather_data)\n",
    "            df_event = df_event.drop(columns=['Time'])\n",
    "            # Convert the laptime column to total seconds if it's not a NAN value\n",
    "            df_event['LapTime'] = df_event['LapTime'].apply(lambda x: x.total_seconds() if not pd.isna(x) else x)\n",
    "            df_event['LapStartTime'] = df_event['LapStartTime'].apply(lambda x: x.total_seconds() if not pd.isna(x) else x)\n",
    "        except NoLapException as e:\n",
    "            print(e)\n",
    "        if save_all_races:\n",
    "            # Save it to a csv file\n",
    "            df_event.to_csv(path + '/' + event.EventName.replace(' ', '_').lower() + '.csv', index=False)\n",
    "        df_season = pd.concat([df_season, df_event], axis=0)\n",
    "    # Save the data for the whole season\n",
    "    df_season.to_csv(path + '/season.csv', index=False)\n",
    "    return df_season"
   ]
  },
  {
   "cell_type": "code",
   "execution_count": 11,
   "metadata": {},
   "outputs": [
    {
     "name": "stdout",
     "output_type": "stream",
     "text": [
      "Processing race round -  1\n",
      "     Processing driver -  1\n",
      "     Processing driver -  11\n",
      "     Processing driver -  14\n",
      "     Processing driver -  55\n",
      "     Processing driver -  44\n",
      "     Processing driver -  18\n",
      "     Processing driver -  63\n",
      "     Processing driver -  77\n",
      "     Processing driver -  10\n",
      "     Processing driver -  23\n",
      "     Processing driver -  22\n",
      "     Processing driver -  2\n",
      "     Processing driver -  20\n",
      "     Processing driver -  21\n",
      "     Processing driver -  27\n",
      "     Processing driver -  24\n",
      "No telemetry data found for lap 25.0 of ZHO at 2023-03-05 15:44:15.728000\n",
      "     Processing driver -  4\n",
      "     Processing driver -  31\n",
      "     Processing driver -  16\n",
      "     Processing driver -  81\n",
      "Processing race round -  2\n"
     ]
    },
    {
     "name": "stderr",
     "output_type": "stream",
     "text": [
      "_api        WARNING \tDriver 241: Position data is incomplete!\n",
      "_api        WARNING \tDriver 242: Position data is incomplete!\n",
      "_api        WARNING \tDriver 243: Position data is incomplete!\n"
     ]
    },
    {
     "name": "stdout",
     "output_type": "stream",
     "text": [
      "     Processing driver -  11\n",
      "     Processing driver -  1\n",
      "     Processing driver -  14\n",
      "     Processing driver -  63\n",
      "     Processing driver -  44\n",
      "     Processing driver -  55\n",
      "     Processing driver -  16\n",
      "     Processing driver -  31\n",
      "     Processing driver -  10\n",
      "     Processing driver -  20\n",
      "     Processing driver -  22\n",
      "     Processing driver -  27\n",
      "     Processing driver -  24\n",
      "     Processing driver -  21\n",
      "     Processing driver -  81\n",
      "     Processing driver -  2\n",
      "     Processing driver -  4\n",
      "     Processing driver -  77\n",
      "     Processing driver -  23\n",
      "     Processing driver -  18\n",
      "Processing race round -  3\n"
     ]
    },
    {
     "name": "stderr",
     "output_type": "stream",
     "text": [
      "_api        WARNING \tDriver 241: Position data is incomplete!\n",
      "_api        WARNING \tDriver 242: Position data is incomplete!\n",
      "_api        WARNING \tDriver 243: Position data is incomplete!\n"
     ]
    },
    {
     "name": "stdout",
     "output_type": "stream",
     "text": [
      "     Processing driver -  1\n",
      "     Processing driver -  44\n",
      "No telemetry data found for lap 57.0 of HAM at 2023-04-02 07:00:01.392000\n",
      "     Processing driver -  14\n",
      "     Processing driver -  18\n",
      "     Processing driver -  11\n",
      "     Processing driver -  4\n",
      "     Processing driver -  27\n",
      "     Processing driver -  81\n",
      "     Processing driver -  24\n",
      "     Processing driver -  22\n",
      "     Processing driver -  77\n",
      "     Processing driver -  55\n",
      "     Processing driver -  10\n",
      "     Processing driver -  31\n",
      "     Processing driver -  21\n",
      "     Processing driver -  2\n",
      "No telemetry data found for lap 8.0 of SAR at 2023-04-02 05:15:33.477000\n",
      "     Processing driver -  20\n",
      "     Processing driver -  63\n",
      "     Processing driver -  23\n",
      "     Processing driver -  16\n",
      "No laps for driver 16\n",
      "Processing race round -  4\n"
     ]
    },
    {
     "name": "stderr",
     "output_type": "stream",
     "text": [
      "_api        WARNING \tDriver 241: Position data is incomplete!\n",
      "_api        WARNING \tDriver 242: Position data is incomplete!\n",
      "_api        WARNING \tDriver 243: Position data is incomplete!\n"
     ]
    },
    {
     "name": "stdout",
     "output_type": "stream",
     "text": [
      "     Processing driver -  11\n",
      "     Processing driver -  1\n",
      "     Processing driver -  16\n",
      "     Processing driver -  14\n",
      "     Processing driver -  55\n",
      "     Processing driver -  44\n",
      "     Processing driver -  18\n",
      "     Processing driver -  63\n",
      "     Processing driver -  4\n",
      "     Processing driver -  22\n",
      "     Processing driver -  81\n",
      "     Processing driver -  23\n",
      "     Processing driver -  20\n",
      "     Processing driver -  10\n",
      "     Processing driver -  31\n",
      "     Processing driver -  2\n",
      "No telemetry data found for lap 39.0 of SAR at 2023-04-30 12:15:14.676000\n",
      "     Processing driver -  27\n",
      "     Processing driver -  77\n",
      "     Processing driver -  24\n",
      "     Processing driver -  21\n",
      "Processing race round -  5\n",
      "     Processing driver -  1\n",
      "     Processing driver -  11\n",
      "     Processing driver -  14\n",
      "     Processing driver -  63\n",
      "     Processing driver -  55\n",
      "     Processing driver -  44\n",
      "     Processing driver -  16\n",
      "     Processing driver -  10\n",
      "     Processing driver -  31\n",
      "     Processing driver -  20\n",
      "No telemetry data found for lap 17.0 of MAG at 2023-05-07 19:59:11.289000\n",
      "     Processing driver -  22\n",
      "     Processing driver -  18\n",
      "     Processing driver -  77\n",
      "     Processing driver -  23\n",
      "     Processing driver -  27\n",
      "     Processing driver -  24\n",
      "     Processing driver -  4\n",
      "     Processing driver -  21\n",
      "     Processing driver -  81\n",
      "     Processing driver -  2\n",
      "Processing race round -  6\n",
      "     Processing driver -  1\n",
      "     Processing driver -  14\n",
      "     Processing driver -  31\n",
      "     Processing driver -  44\n",
      "     Processing driver -  63\n",
      "     Processing driver -  16\n",
      "     Processing driver -  10\n",
      "     Processing driver -  55\n",
      "     Processing driver -  4\n",
      "     Processing driver -  81\n",
      "     Processing driver -  77\n",
      "     Processing driver -  21\n",
      "No telemetry data found for lap 30.0 of DEV at 2023-05-28 13:41:47.996000\n",
      "     Processing driver -  24\n",
      "     Processing driver -  23\n",
      "     Processing driver -  22\n",
      "     Processing driver -  11\n",
      "     Processing driver -  27\n",
      "     Processing driver -  2\n",
      "     Processing driver -  20\n",
      "     Processing driver -  18\n",
      "Processing race round -  7\n",
      "     Processing driver -  1\n",
      "     Processing driver -  44\n",
      "     Processing driver -  63\n",
      "     Processing driver -  11\n",
      "     Processing driver -  55\n",
      "     Processing driver -  18\n",
      "     Processing driver -  14\n",
      "     Processing driver -  31\n",
      "     Processing driver -  24\n",
      "     Processing driver -  10\n",
      "     Processing driver -  16\n",
      "     Processing driver -  22\n",
      "     Processing driver -  81\n",
      "     Processing driver -  21\n",
      "     Processing driver -  27\n",
      "     Processing driver -  23\n",
      "     Processing driver -  4\n",
      "     Processing driver -  20\n",
      "     Processing driver -  77\n",
      "     Processing driver -  2\n",
      "Processing race round -  8\n"
     ]
    },
    {
     "name": "stderr",
     "output_type": "stream",
     "text": [
      "_api        WARNING \tDriver 241: Position data is incomplete!\n",
      "_api        WARNING \tDriver 242: Position data is incomplete!\n",
      "_api        WARNING \tDriver 243: Position data is incomplete!\n"
     ]
    },
    {
     "name": "stdout",
     "output_type": "stream",
     "text": [
      "     Processing driver -  1\n",
      "     Processing driver -  14\n",
      "     Processing driver -  44\n",
      "     Processing driver -  16\n",
      "     Processing driver -  55\n",
      "     Processing driver -  11\n",
      "     Processing driver -  23\n",
      "     Processing driver -  31\n",
      "     Processing driver -  18\n",
      "     Processing driver -  77\n",
      "     Processing driver -  81\n",
      "     Processing driver -  10\n",
      "     Processing driver -  4\n",
      "     Processing driver -  22\n",
      "     Processing driver -  27\n",
      "     Processing driver -  24\n",
      "     Processing driver -  20\n",
      "     Processing driver -  21\n",
      "     Processing driver -  63\n",
      "     Processing driver -  2\n"
     ]
    },
    {
     "name": "stderr",
     "output_type": "stream",
     "text": [
      "core        WARNING \tFailed to load extended driver information!\n"
     ]
    },
    {
     "name": "stdout",
     "output_type": "stream",
     "text": [
      "Processing race round -  9\n"
     ]
    },
    {
     "name": "stderr",
     "output_type": "stream",
     "text": [
      "core        WARNING \tNo result data for this session available on Ergast! (This is expected for recent sessions)\n",
      "logger      WARNING \tFailed to load results data!\n",
      "logger      WARNING \tFailed to load session status data!\n",
      "logger      WARNING \tFailed to load total lap count!\n",
      "logger      WARNING \tFailed to load track status data!\n",
      "logger      WARNING \tFailed to load timing data!\n",
      "core        WARNING \tCannot load lap times for first lap from Ergast. Timing data is not available for this session.\n",
      "logger      WARNING \tFailed to load telemetry data!\n",
      "logger      WARNING \tFailed to load weather data!\n",
      "logger      WARNING \tFailed to load race control messages!\n"
     ]
    },
    {
     "ename": "DataNotLoadedError",
     "evalue": "The data you are trying to access has not been loaded yet. See `Session.load`",
     "output_type": "error",
     "traceback": [
      "\u001b[1;31m---------------------------------------------------------------------------\u001b[0m",
      "\u001b[1;31mDataNotLoadedError\u001b[0m                        Traceback (most recent call last)",
      "Cell \u001b[1;32mIn[11], line 2\u001b[0m\n\u001b[0;32m      1\u001b[0m \u001b[39mfor\u001b[39;00m year \u001b[39min\u001b[39;00m \u001b[39mrange\u001b[39m(\u001b[39m2023\u001b[39m, \u001b[39m2024\u001b[39m):\n\u001b[1;32m----> 2\u001b[0m     get_season_data(year)\n",
      "Cell \u001b[1;32mIn[8], line 18\u001b[0m, in \u001b[0;36mget_season_data\u001b[1;34m(year, save_all_races)\u001b[0m\n\u001b[0;32m     16\u001b[0m \u001b[39mprint\u001b[39m(\u001b[39m\"\u001b[39m\u001b[39mProcessing race round - \u001b[39m\u001b[39m\"\u001b[39m, event[\u001b[39m'\u001b[39m\u001b[39mRoundNumber\u001b[39m\u001b[39m'\u001b[39m])\n\u001b[0;32m     17\u001b[0m race \u001b[39m=\u001b[39m event\u001b[39m.\u001b[39mget_race()\n\u001b[1;32m---> 18\u001b[0m race\u001b[39m.\u001b[39;49mload()\n\u001b[0;32m     19\u001b[0m df_event \u001b[39m=\u001b[39m get_empty_dataframe()\n\u001b[0;32m     20\u001b[0m api_laps \u001b[39m=\u001b[39m load_api_data(race)\n",
      "File \u001b[1;32mp:\\Anaconda\\envs\\bsc\\lib\\site-packages\\fastf1\\core.py:1245\u001b[0m, in \u001b[0;36mSession.load\u001b[1;34m(self, laps, telemetry, weather, messages, livedata)\u001b[0m\n\u001b[0;32m   1242\u001b[0m \u001b[39mself\u001b[39m\u001b[39m.\u001b[39m_set_laps_deleted_from_rcm()\n\u001b[0;32m   1243\u001b[0m \u001b[39mself\u001b[39m\u001b[39m.\u001b[39m_calculate_quali_like_session_results()\n\u001b[1;32m-> 1245\u001b[0m _logger\u001b[39m.\u001b[39minfo(\u001b[39mf\u001b[39m\u001b[39m\"\u001b[39m\u001b[39mFinished loading data for \u001b[39m\u001b[39m{\u001b[39;00m\u001b[39mlen\u001b[39m(\u001b[39mself\u001b[39;49m\u001b[39m.\u001b[39;49mdrivers)\u001b[39m}\u001b[39;00m\u001b[39m \u001b[39m\u001b[39m\"\u001b[39m\n\u001b[0;32m   1246\u001b[0m              \u001b[39mf\u001b[39m\u001b[39m\"\u001b[39m\u001b[39mdrivers: \u001b[39m\u001b[39m{\u001b[39;00m\u001b[39mself\u001b[39m\u001b[39m.\u001b[39mdrivers\u001b[39m}\u001b[39;00m\u001b[39m\"\u001b[39m)\n",
      "File \u001b[1;32mp:\\Anaconda\\envs\\bsc\\lib\\site-packages\\fastf1\\core.py:1058\u001b[0m, in \u001b[0;36mSession.drivers\u001b[1;34m(self)\u001b[0m\n\u001b[0;32m   1051\u001b[0m \u001b[39m@property\u001b[39m\n\u001b[0;32m   1052\u001b[0m \u001b[39mdef\u001b[39;00m \u001b[39mdrivers\u001b[39m(\u001b[39mself\u001b[39m):\n\u001b[0;32m   1053\u001b[0m \u001b[39m    \u001b[39m\u001b[39m\"\"\":class:`list`: List of all drivers that took part in this\u001b[39;00m\n\u001b[0;32m   1054\u001b[0m \u001b[39m    session; contains driver numbers as string.\u001b[39;00m\n\u001b[0;32m   1055\u001b[0m \n\u001b[0;32m   1056\u001b[0m \u001b[39m    Data is available after calling `Session.load`\u001b[39;00m\n\u001b[0;32m   1057\u001b[0m \u001b[39m    \"\"\"\u001b[39;00m\n\u001b[1;32m-> 1058\u001b[0m     \u001b[39mreturn\u001b[39;00m \u001b[39mlist\u001b[39m(\u001b[39mself\u001b[39;49m\u001b[39m.\u001b[39;49mresults[\u001b[39m'\u001b[39m\u001b[39mDriverNumber\u001b[39m\u001b[39m'\u001b[39m]\u001b[39m.\u001b[39munique())\n",
      "File \u001b[1;32mp:\\Anaconda\\envs\\bsc\\lib\\site-packages\\fastf1\\core.py:1066\u001b[0m, in \u001b[0;36mSession.results\u001b[1;34m(self)\u001b[0m\n\u001b[0;32m   1060\u001b[0m \u001b[39m@property\u001b[39m\n\u001b[0;32m   1061\u001b[0m \u001b[39mdef\u001b[39;00m \u001b[39mresults\u001b[39m(\u001b[39mself\u001b[39m) \u001b[39m-\u001b[39m\u001b[39m>\u001b[39m \u001b[39m\"\u001b[39m\u001b[39mSessionResults\u001b[39m\u001b[39m\"\u001b[39m:\n\u001b[0;32m   1062\u001b[0m \u001b[39m    \u001b[39m\u001b[39m\"\"\":class:`SessionResults`: Session result with driver information.\u001b[39;00m\n\u001b[0;32m   1063\u001b[0m \n\u001b[0;32m   1064\u001b[0m \u001b[39m    Data is available after calling `Session.load`\u001b[39;00m\n\u001b[0;32m   1065\u001b[0m \u001b[39m    \"\"\"\u001b[39;00m\n\u001b[1;32m-> 1066\u001b[0m     \u001b[39mreturn\u001b[39;00m \u001b[39mself\u001b[39;49m\u001b[39m.\u001b[39;49m_get_property_warn_not_loaded(\u001b[39m'\u001b[39;49m\u001b[39m_results\u001b[39;49m\u001b[39m'\u001b[39;49m)\n",
      "File \u001b[1;32mp:\\Anaconda\\envs\\bsc\\lib\\site-packages\\fastf1\\core.py:1047\u001b[0m, in \u001b[0;36mSession._get_property_warn_not_loaded\u001b[1;34m(self, name)\u001b[0m\n\u001b[0;32m   1045\u001b[0m \u001b[39mdef\u001b[39;00m \u001b[39m_get_property_warn_not_loaded\u001b[39m(\u001b[39mself\u001b[39m, name):\n\u001b[0;32m   1046\u001b[0m     \u001b[39mif\u001b[39;00m \u001b[39mnot\u001b[39;00m \u001b[39mhasattr\u001b[39m(\u001b[39mself\u001b[39m, name):\n\u001b[1;32m-> 1047\u001b[0m         \u001b[39mraise\u001b[39;00m DataNotLoadedError(\u001b[39m\"\u001b[39m\u001b[39mThe data you are trying to access has not \u001b[39m\u001b[39m\"\u001b[39m\n\u001b[0;32m   1048\u001b[0m                                  \u001b[39m\"\u001b[39m\u001b[39mbeen loaded yet. See `Session.load`\u001b[39m\u001b[39m\"\u001b[39m)\n\u001b[0;32m   1049\u001b[0m     \u001b[39mreturn\u001b[39;00m \u001b[39mgetattr\u001b[39m(\u001b[39mself\u001b[39m, name, \u001b[39mNone\u001b[39;00m)\n",
      "\u001b[1;31mDataNotLoadedError\u001b[0m: The data you are trying to access has not been loaded yet. See `Session.load`"
     ]
    }
   ],
   "source": [
    "for year in range(2023, 2024):\n",
    "    get_season_data(year)"
   ]
  },
  {
   "cell_type": "code",
   "execution_count": null,
   "metadata": {},
   "outputs": [
    {
     "data": {
      "text/plain": [
       "'3.0.4'"
      ]
     },
     "execution_count": 130,
     "metadata": {},
     "output_type": "execute_result"
    }
   ],
   "source": []
  }
 ],
 "metadata": {
  "kernelspec": {
   "display_name": "bsc",
   "language": "python",
   "name": "python3"
  },
  "language_info": {
   "codemirror_mode": {
    "name": "ipython",
    "version": 3
   },
   "file_extension": ".py",
   "mimetype": "text/x-python",
   "name": "python",
   "nbconvert_exporter": "python",
   "pygments_lexer": "ipython3",
   "version": "3.10.9"
  },
  "orig_nbformat": 4,
  "vscode": {
   "interpreter": {
    "hash": "589d2f16c7c43e145ee42078413b0251fb200486a68306d3d62712e3312580ab"
   }
  }
 },
 "nbformat": 4,
 "nbformat_minor": 2
}
