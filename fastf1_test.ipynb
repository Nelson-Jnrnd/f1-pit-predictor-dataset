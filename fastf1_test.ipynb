{
 "cells": [
  {
   "cell_type": "code",
   "execution_count": 28,
   "metadata": {},
   "outputs": [],
   "source": [
    "import pandas as pd\n",
    "import numpy as np\n",
    "import matplotlib.pyplot as plt\n",
    "import seaborn as sns\n",
    "import fastf1 as ff1\n",
    "\n",
    "ff1.Cache.enable_cache('cache')"
   ]
  },
  {
   "cell_type": "code",
   "execution_count": 43,
   "metadata": {},
   "outputs": [],
   "source": [
    "import warnings\n",
    "warnings.filterwarnings('ignore')\n",
    "# ignore info messages\n",
    "import logging\n",
    "logging.getLogger('fastf1').setLevel(logging.WARNING)"
   ]
  },
  {
   "cell_type": "code",
   "execution_count": 158,
   "metadata": {},
   "outputs": [],
   "source": [
    "def get_empty_dataframe():\n",
    "    return pd.DataFrame(\n",
    "            columns=[\n",
    "                'LapStartTime',\n",
    "                'LapNumber',\n",
    "                'LapTime',\n",
    "                'Compound',\n",
    "                'TyreLife',\n",
    "                'TrackStatus',\n",
    "                'Stint',\n",
    "                'DistanceToDriverAhead',\n",
    "                'DriverAhead',\n",
    "                ])"
   ]
  },
  {
   "cell_type": "code",
   "execution_count": 169,
   "metadata": {},
   "outputs": [],
   "source": [
    "class NoTelemetryException(Exception):\n",
    "    pass\n",
    "\n",
    "def get_telemetry_at_start_of_lap(lap, telemetry):\n",
    "    mask = (telemetry['Date'] > lap['LapStartDate']) & (telemetry['Date'] <= lap['LapStartDate'] + pd.Timedelta(seconds=1))\n",
    "    rows = telemetry.loc[mask]\n",
    "    if rows.empty:\n",
    "        raise NoTelemetryException(\"No telemetry data found for lap \" + str(lap['LapNumber']) + \" of \" + str(lap['Driver']) + \" at \" + str(lap['LapStartDate']))\n",
    "    row = rows.iloc[0]\n",
    "    telemetryInfo = row[['DriverAhead', 'DistanceToDriverAhead']]\n",
    "    lapInfo = lap[['LapStartTime', 'LapNumber', 'LapTime', 'Compound', 'TyreLife', 'Stint', 'TrackStatus']]\n",
    "    telemetryInfo.rename(\"Telemetry\", inplace=True)\n",
    "    lapInfo.rename(\"Lap\", inplace=True)\n",
    "    merge = pd.concat([telemetryInfo, lapInfo])\n",
    "    return merge\n",
    "\n",
    "def add_weather_to_laps(laps, weather):\n",
    "\n",
    "    # Effectuer une jointure basée sur une plage de temps\n",
    "    lapsWithWeather = pd.merge_asof(laps.sort_values('LapStartTime'), \n",
    "                                    weather.sort_values('Time'), \n",
    "                                    left_on='LapStartTime', \n",
    "                                    right_on='Time', \n",
    "                                    by=None, \n",
    "                                    direction='backward')\n",
    "\n",
    "    return lapsWithWeather"
   ]
  },
  {
   "cell_type": "code",
   "execution_count": 32,
   "metadata": {},
   "outputs": [],
   "source": [
    "class NoLapException(Exception):\n",
    "    pass\n",
    "\n",
    "def get_laps_of_driver(driver, laps):\n",
    "    driver_laps = laps.pick_driver(driver)\n",
    "    if len(driver_laps['DriverNumber']) == 0:\n",
    "        raise NoLapException(\"No laps for driver \" + driver)\n",
    "    driver_laps_telemetry = driver_laps.get_car_data()\n",
    "    if len(driver_laps_telemetry) == 0:\n",
    "        raise NoLapException(\"No telemetry for driver \" + driver)\n",
    "    driver_laps_weather = driver_laps.get_weather_data()\n",
    "    try:\n",
    "        driver_laps_telemetry = driver_laps_telemetry.add_driver_ahead()\n",
    "        transformed_laps = []\n",
    "        for index, row in driver_laps.iterrows():\n",
    "            try:\n",
    "                transformed_laps.append(get_telemetry_at_start_of_lap(row, driver_laps_telemetry))\n",
    "            except NoTelemetryException as e:\n",
    "                print(e)\n",
    "    except ValueError as e:\n",
    "        print(\"error : \", e)\n",
    "        print(driver_laps_telemetry)\n",
    "        return get_empty_dataframe()\n",
    "    return pd.DataFrame(transformed_laps)"
   ]
  },
  {
   "cell_type": "code",
   "execution_count": 156,
   "metadata": {},
   "outputs": [],
   "source": [
    "import os\n",
    "\n",
    "def get_season_data(year, save_all_races=True):\n",
    "    schedule = ff1.get_event_schedule(year, include_testing=False)\n",
    "    \n",
    "    path = 'data/' + str(year)\n",
    "    # Create a directory for the year if it doesn't exist\n",
    "    if not os.path.exists(path):\n",
    "        os.makedirs(path)\n",
    "\n",
    "    df_season = get_empty_dataframe()\n",
    "    for index, event in schedule.iterrows():\n",
    "        if year == 2018 and event['RoundNumber'] < 3:\n",
    "            continue\n",
    "        print(\"Processing race round - \", event['RoundNumber'])\n",
    "        race = event.get_race()\n",
    "        race.load()\n",
    "        df_event = get_empty_dataframe()\n",
    "        for driver in race.drivers:\n",
    "            print(\"     Processing driver - \", driver)\n",
    "            try:\n",
    "                df_event = pd.concat([df_event, get_laps_of_driver(driver, race.laps)], axis=0)\n",
    "            except NoLapException as e:\n",
    "                print(e)\n",
    "        \n",
    "        df_event['Track'] = event['Location']\n",
    "        df_event = add_weather_to_laps(df_event, race.weather_data)\n",
    "        if save_all_races:\n",
    "            # Save it to a csv file\n",
    "            df_event.to_csv(path + '/' + event.EventName.replace(' ', '_').lower() + '.csv', index=False)\n",
    "        df_season = pd.concat([df_season, df_event], axis=0)\n",
    "\n",
    "    # Save the data for the whole season\n",
    "    df_season.to_csv(path + '/season.csv', index=False)\n",
    "    return df_season"
   ]
  },
  {
   "cell_type": "code",
   "execution_count": 45,
   "metadata": {},
   "outputs": [
    {
     "name": "stderr",
     "output_type": "stream",
     "text": [
      "core           INFO \tLoading data for Australian Grand Prix - Race [v2.3.0]\n",
      "api            INFO \tUsing cached data for driver_info\n",
      "api            INFO \tUsing cached data for timing_data\n",
      "api            INFO \tUsing cached data for timing_app_data\n",
      "core           INFO \tProcessing timing data...\n",
      "api            INFO \tUsing cached data for session_status_data\n",
      "api            INFO \tUsing cached data for track_status_data\n",
      "api            INFO \tUsing cached data for car_data\n",
      "api            INFO \tUsing cached data for position_data\n",
      "api            INFO \tUsing cached data for weather_data\n",
      "api            INFO \tUsing cached data for race_control_messages\n",
      "core           INFO \tFinished loading data for 20 drivers: ['16', '11', '63', '44', '4', '3', '31', '77', '10', '23', '24', '18', '47', '20', '22', '6', '14', '1', '5', '55']\n"
     ]
    }
   ],
   "source": [
    "race = ff1.get_session(2022, 'Australia', 'R')\n",
    "race.load()"
   ]
  },
  {
   "cell_type": "code",
   "execution_count": 170,
   "metadata": {},
   "outputs": [
    {
     "name": "stderr",
     "output_type": "stream",
     "text": [
      "core           INFO \tLoading data for Chinese Grand Prix - Race [v2.3.0]\n",
      "api            INFO \tUsing cached data for driver_info\n"
     ]
    },
    {
     "name": "stdout",
     "output_type": "stream",
     "text": [
      "Processing race round -  3\n"
     ]
    },
    {
     "name": "stderr",
     "output_type": "stream",
     "text": [
      "api            INFO \tUsing cached data for timing_data\n",
      "api            INFO \tUsing cached data for timing_app_data\n",
      "core           INFO \tProcessing timing data...\n",
      "api            INFO \tUsing cached data for session_status_data\n",
      "api            INFO \tUsing cached data for track_status_data\n",
      "api            INFO \tUsing cached data for car_data\n",
      "api            INFO \tUsing cached data for position_data\n",
      "api            INFO \tUsing cached data for weather_data\n",
      "api            INFO \tUsing cached data for race_control_messages\n",
      "core           INFO \tFinished loading data for 20 drivers: ['3', '77', '7', '44', '33', '27', '14', '5', '55', '20', '31', '11', '2', '18', '35', '9', '8', '10', '16', '28']\n"
     ]
    },
    {
     "name": "stdout",
     "output_type": "stream",
     "text": [
      "     Processing driver -  3\n",
      "     Processing driver -  77\n",
      "     Processing driver -  7\n",
      "     Processing driver -  44\n",
      "     Processing driver -  33\n",
      "     Processing driver -  27\n",
      "     Processing driver -  14\n",
      "     Processing driver -  5\n",
      "     Processing driver -  55\n",
      "     Processing driver -  20\n",
      "     Processing driver -  31\n",
      "     Processing driver -  11\n",
      "     Processing driver -  2\n",
      "     Processing driver -  18\n",
      "     Processing driver -  35\n",
      "     Processing driver -  9\n",
      "     Processing driver -  8\n",
      "     Processing driver -  10\n",
      "     Processing driver -  16\n",
      "     Processing driver -  28\n"
     ]
    },
    {
     "name": "stderr",
     "output_type": "stream",
     "text": [
      "core           INFO \tLoading data for Azerbaijan Grand Prix - Race [v2.3.0]\n",
      "api            INFO \tUsing cached data for driver_info\n"
     ]
    },
    {
     "name": "stdout",
     "output_type": "stream",
     "text": [
      "Processing race round -  4\n"
     ]
    },
    {
     "name": "stderr",
     "output_type": "stream",
     "text": [
      "api            INFO \tUsing cached data for timing_data\n",
      "api            INFO \tUsing cached data for timing_app_data\n",
      "core           INFO \tProcessing timing data...\n",
      "api            INFO \tUsing cached data for session_status_data\n",
      "api            INFO \tUsing cached data for track_status_data\n",
      "core        WARNING \tDriver 55: Lap timing integrity check failed for 1 lap(s)\n",
      "api            INFO \tUsing cached data for car_data\n",
      "api            INFO \tUsing cached data for position_data\n",
      "api            INFO \tUsing cached data for weather_data\n",
      "api            INFO \tUsing cached data for race_control_messages\n",
      "core           INFO \tFinished loading data for 20 drivers: ['44', '7', '11', '5', '55', '16', '14', '18', '2', '28', '9', '10', '20', '77', '8', '33', '3', '27', '31', '35']\n"
     ]
    },
    {
     "name": "stdout",
     "output_type": "stream",
     "text": [
      "     Processing driver -  44\n",
      "     Processing driver -  7\n",
      "     Processing driver -  11\n",
      "     Processing driver -  5\n",
      "     Processing driver -  55\n",
      "     Processing driver -  16\n",
      "     Processing driver -  14\n",
      "     Processing driver -  18\n",
      "     Processing driver -  2\n",
      "     Processing driver -  28\n",
      "     Processing driver -  9\n",
      "     Processing driver -  10\n",
      "     Processing driver -  20\n",
      "     Processing driver -  77\n",
      "     Processing driver -  8\n",
      "     Processing driver -  33\n",
      "     Processing driver -  3\n",
      "     Processing driver -  27\n",
      "     Processing driver -  31\n",
      "     Processing driver -  35\n"
     ]
    },
    {
     "name": "stderr",
     "output_type": "stream",
     "text": [
      "core           INFO \tLoading data for Spanish Grand Prix - Race [v2.3.0]\n",
      "api            INFO \tUsing cached data for driver_info\n"
     ]
    },
    {
     "name": "stdout",
     "output_type": "stream",
     "text": [
      "Processing race round -  5\n"
     ]
    },
    {
     "name": "stderr",
     "output_type": "stream",
     "text": [
      "api            INFO \tUsing cached data for timing_data\n",
      "api            INFO \tUsing cached data for timing_app_data\n",
      "core           INFO \tProcessing timing data...\n",
      "api            INFO \tUsing cached data for session_status_data\n",
      "api            INFO \tUsing cached data for track_status_data\n",
      "api            INFO \tUsing cached data for car_data\n",
      "api            INFO \tUsing cached data for position_data\n",
      "api            INFO \tUsing cached data for weather_data\n",
      "api            INFO \tUsing cached data for race_control_messages\n",
      "core           INFO \tFinished loading data for 20 drivers: ['44', '77', '33', '5', '3', '20', '55', '14', '11', '16', '18', '28', '9', '35', '2', '31', '7', '8', '10', '27']\n"
     ]
    },
    {
     "name": "stdout",
     "output_type": "stream",
     "text": [
      "     Processing driver -  44\n",
      "     Processing driver -  77\n",
      "     Processing driver -  33\n",
      "     Processing driver -  5\n",
      "     Processing driver -  3\n",
      "     Processing driver -  20\n",
      "     Processing driver -  55\n",
      "     Processing driver -  14\n",
      "     Processing driver -  11\n",
      "     Processing driver -  16\n",
      "     Processing driver -  18\n",
      "     Processing driver -  28\n",
      "     Processing driver -  9\n",
      "     Processing driver -  35\n",
      "     Processing driver -  2\n",
      "     Processing driver -  31\n",
      "     Processing driver -  7\n",
      "     Processing driver -  8\n",
      "     Processing driver -  10\n",
      "     Processing driver -  27\n"
     ]
    },
    {
     "name": "stderr",
     "output_type": "stream",
     "text": [
      "core           INFO \tLoading data for Monaco Grand Prix - Race [v2.3.0]\n",
      "api            INFO \tUsing cached data for driver_info\n"
     ]
    },
    {
     "name": "stdout",
     "output_type": "stream",
     "text": [
      "Processing race round -  6\n"
     ]
    },
    {
     "name": "stderr",
     "output_type": "stream",
     "text": [
      "api            INFO \tUsing cached data for timing_data\n",
      "api            INFO \tUsing cached data for timing_app_data\n",
      "core           INFO \tProcessing timing data...\n",
      "api            INFO \tUsing cached data for session_status_data\n",
      "api            INFO \tUsing cached data for track_status_data\n",
      "api            INFO \tUsing cached data for car_data\n",
      "api            INFO \tUsing cached data for position_data\n",
      "api            INFO \tUsing cached data for weather_data\n",
      "api            INFO \tUsing cached data for race_control_messages\n",
      "core           INFO \tFinished loading data for 20 drivers: ['3', '5', '44', '7', '77', '31', '10', '27', '33', '55', '9', '11', '20', '2', '8', '35', '18', '16', '28', '14']\n"
     ]
    },
    {
     "name": "stdout",
     "output_type": "stream",
     "text": [
      "     Processing driver -  3\n",
      "     Processing driver -  5\n",
      "     Processing driver -  44\n",
      "     Processing driver -  7\n",
      "     Processing driver -  77\n",
      "     Processing driver -  31\n",
      "     Processing driver -  10\n",
      "     Processing driver -  27\n",
      "     Processing driver -  33\n",
      "     Processing driver -  55\n",
      "     Processing driver -  9\n",
      "     Processing driver -  11\n",
      "     Processing driver -  20\n",
      "     Processing driver -  2\n",
      "     Processing driver -  8\n",
      "     Processing driver -  35\n",
      "     Processing driver -  18\n",
      "     Processing driver -  16\n",
      "     Processing driver -  28\n",
      "     Processing driver -  14\n"
     ]
    },
    {
     "name": "stderr",
     "output_type": "stream",
     "text": [
      "core           INFO \tLoading data for Canadian Grand Prix - Race [v2.3.0]\n",
      "api            INFO \tUsing cached data for driver_info\n"
     ]
    },
    {
     "name": "stdout",
     "output_type": "stream",
     "text": [
      "Processing race round -  7\n"
     ]
    },
    {
     "name": "stderr",
     "output_type": "stream",
     "text": [
      "api            INFO \tUsing cached data for timing_data\n",
      "api            INFO \tUsing cached data for timing_app_data\n",
      "core           INFO \tProcessing timing data...\n",
      "api            INFO \tUsing cached data for session_status_data\n",
      "api            INFO \tUsing cached data for track_status_data\n",
      "api            INFO \tUsing cached data for car_data\n",
      "api            INFO \tUsing cached data for position_data\n"
     ]
    }
   ],
   "source": [
    "for year in range(2018, 2022):\n",
    "    get_season_data(year)"
   ]
  }
 ],
 "metadata": {
  "kernelspec": {
   "display_name": "bsc",
   "language": "python",
   "name": "python3"
  },
  "language_info": {
   "codemirror_mode": {
    "name": "ipython",
    "version": 3
   },
   "file_extension": ".py",
   "mimetype": "text/x-python",
   "name": "python",
   "nbconvert_exporter": "python",
   "pygments_lexer": "ipython3",
   "version": "3.10.9"
  },
  "orig_nbformat": 4,
  "vscode": {
   "interpreter": {
    "hash": "589d2f16c7c43e145ee42078413b0251fb200486a68306d3d62712e3312580ab"
   }
  }
 },
 "nbformat": 4,
 "nbformat_minor": 2
}
