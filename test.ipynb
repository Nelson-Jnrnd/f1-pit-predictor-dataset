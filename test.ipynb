{
 "cells": [
  {
   "cell_type": "code",
   "execution_count": 9,
   "metadata": {},
   "outputs": [],
   "source": [
    "import f1pitpred.validation\n",
    "\n",
    "model = f1pitpred.validation.model(\n",
    "    'balanced accuracy',\n",
    "    'sklearn',\n",
    "    'models/balanced_accuracy/model.pkl'\n",
    ")\n",
    "\n",
    "model.load_model()\n",
    "model.load_encoder('models/balanced_accuracy/encoder.pkl')"
   ]
  },
  {
   "cell_type": "code",
   "execution_count": 18,
   "metadata": {},
   "outputs": [],
   "source": [
    "import f1pitpred.loading\n",
    "\n",
    "data = f1pitpred.loading.load_from_csv([2023])"
   ]
  },
  {
   "cell_type": "code",
   "execution_count": 20,
   "metadata": {},
   "outputs": [],
   "source": [
    "import f1pitpred.preprocessing\n",
    "\n",
    "data = f1pitpred.preprocessing.preprocess_new_data(data, model.encoder)\n",
    "x, y = f1pitpred.preprocessing.get_x_y(data)"
   ]
  },
  {
   "cell_type": "code",
   "execution_count": 22,
   "metadata": {},
   "outputs": [
    {
     "data": {
      "text/plain": [
       "array([[0.81632095, 0.18367905],\n",
       "       [0.79928601, 0.20071399],\n",
       "       [0.81157325, 0.18842675],\n",
       "       ...,\n",
       "       [0.95919809, 0.04080191],\n",
       "       [0.97023866, 0.02976134],\n",
       "       [0.96766331, 0.03233669]])"
      ]
     },
     "execution_count": 22,
     "metadata": {},
     "output_type": "execute_result"
    }
   ],
   "source": [
    "model.predict_proba(x)"
   ]
  }
 ],
 "metadata": {
  "kernelspec": {
   "display_name": "base",
   "language": "python",
   "name": "python3"
  },
  "language_info": {
   "codemirror_mode": {
    "name": "ipython",
    "version": 3
   },
   "file_extension": ".py",
   "mimetype": "text/x-python",
   "name": "python",
   "nbconvert_exporter": "python",
   "pygments_lexer": "ipython3",
   "version": "3.10.10"
  },
  "orig_nbformat": 4
 },
 "nbformat": 4,
 "nbformat_minor": 2
}
