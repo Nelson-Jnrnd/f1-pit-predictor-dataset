{
 "cells": [
  {
   "attachments": {},
   "cell_type": "markdown",
   "metadata": {},
   "source": [
    "Ce notebook va être consacré au preprocessing du dataset et l'entrainement d'un premier modèle simple pour établir une baseline.\n",
    "\n",
    "---\n",
    "\n",
    "# Load"
   ]
  },
  {
   "cell_type": "code",
   "execution_count": 2,
   "metadata": {},
   "outputs": [
    {
     "name": "stderr",
     "output_type": "stream",
     "text": [
      "C:\\Users\\Nelson Jeanrenaud\\AppData\\Local\\Temp\\ipykernel_17768\\2552716592.py:27: DeprecationWarning: `np.bool8` is a deprecated alias for `np.bool_`.  (Deprecated NumPy 1.24)\n",
      "  'IsAccurate': np.bool8,\n"
     ]
    }
   ],
   "source": [
    "# imports\n",
    "import os\n",
    "import numpy as np\n",
    "import pandas as pd\n",
    "import matplotlib.pyplot as plt\n",
    "import seaborn as sns\n",
    "\n",
    "# pandas display options\n",
    "pd.set_option('display.max_columns', 500)\n",
    "pd.set_option('display.width', 1000)\n",
    "\n",
    "base_path = 'data'\n",
    "file_name = 'season.csv'\n",
    "type_dict ={\n",
    "    'LapStartTime': np.float32,\n",
    "    'LapNumber': np.uint8,\n",
    "    'LapTime': np.float32,\n",
    "    'DriverNumber': \"category\",\n",
    "    'Team' : \"category\",\n",
    "    'Compound': \"category\",\n",
    "    'TyreLife': np.uint8,\n",
    "    'TrackStatus': \"category\",\n",
    "    'Stint': np.uint8,\n",
    "    'DistanceToDriverAhead': np.float32,\n",
    "    'DriverAhead': \"category\",\n",
    "    'PitStatus': \"category\",\n",
    "    'IsAccurate': np.bool8,\n",
    "    'Track': \"category\",\n",
    "    'NumberOfPitStops': np.uint8,\n",
    "    'Position' : np.uint8,\n",
    "    'GapToLeader' : np.float32,\n",
    "    'IntervalToPositionAhead' : np.float32,\n",
    "    'LapsToLeader' : np.uint8,\n",
    "    'TotalLaps' : np.uint8,\n",
    "    'AirTemp': np.float32,\n",
    "    'Humidity': np.float32,\n",
    "    'Pressure': np.float32,\n",
    "    'TrackTemp': np.float32,\n",
    "    'WindDirection': np.float32,\n",
    "    'WindSpeed': np.float32\n",
    "    }\n",
    "\n",
    "years = range(2019, 2023)"
   ]
  },
  {
   "cell_type": "code",
   "execution_count": 3,
   "metadata": {},
   "outputs": [],
   "source": [
    "data = pd.DataFrame()\n",
    "\n",
    "for year in years:\n",
    "    path = os.path.join(base_path, str(year), file_name)\n",
    "    year_csv = pd.read_csv(\n",
    "            path,\n",
    "            dtype=type_dict,\n",
    "    )\n",
    "    data = pd.concat([\n",
    "        data,\n",
    "        year_csv\n",
    "    ])"
   ]
  },
  {
   "attachments": {},
   "cell_type": "markdown",
   "metadata": {},
   "source": [
    "# Preprocessing"
   ]
  },
  {
   "cell_type": "code",
   "execution_count": 5,
   "metadata": {},
   "outputs": [],
   "source": [
    "## Rainfall -------------------------------------------------------------------\n",
    "\n",
    "def process_rainfall(df): # Removes races with rain\n",
    "    rain = df.groupby(['Year', 'RoundNumber', 'DriverNumber'])['Compound'].transform(lambda x: x[x.str.contains('INTERMEDIATE|WET')].count())\n",
    "    return df[rain == 0].reset_index(drop=True)\n",
    "\n",
    "## Incomplete races -----------------------------------------------------------\n",
    "def incomplete_races(df):\n",
    "    return df.groupby(['Year', 'RoundNumber', 'DriverNumber']).filter(lambda x: x['LapNumber'].max() + 3 >= x['TotalLaps'].max()).reset_index(drop=True)\n",
    "## TrackName ------------------------------------------------------------------\n",
    "\n",
    "def process_track_name(df):\n",
    "    df['Track'] = df['Track'].str.replace(' ', '_')\n",
    "    return df\n",
    "## TrackStatus ----------------------------------------------------------------\n",
    "\n",
    "def trackStatus_to_binary(df):\n",
    "    trackStatus = df['TrackStatus']\n",
    "    status = pd.Series(\n",
    "        np.zeros(6, dtype=np.bool8),\n",
    "        index=['Green', 'Yellow', 'SC', 'Red', 'VSC', 'SC_ending']\n",
    "    )\n",
    "    if \"1\" in trackStatus:\n",
    "        status['Green'] = True\n",
    "    if \"2\" in trackStatus:\n",
    "        status['Yellow'] = True\n",
    "    if \"4\" in trackStatus:\n",
    "        status['SC'] = True\n",
    "    if \"5\" in trackStatus:\n",
    "        status['Red'] = True\n",
    "    if \"6\" in trackStatus:\n",
    "        status['VSC'] = True\n",
    "    if \"7\" in trackStatus:\n",
    "        status['SC_ending'] = True\n",
    "    return status\n",
    "\n",
    "def process_trackStatus(df):\n",
    "    trackStatuses = df.apply(trackStatus_to_binary, axis=1)\n",
    "    return pd.concat([df.drop('TrackStatus', axis=1), trackStatuses], axis=1)\n",
    "\n",
    "## Missing Data ----------------------------------------------------------------\n",
    "\n",
    "def process_missing_values(df):\n",
    "    # TODO fill the missing values better\n",
    "    df.fillna({\n",
    "        'DistanceToDriverAhead': -1,\n",
    "        'GapToLeader': -1,\n",
    "        'IntervalToPositionAhead': -1,\n",
    "    }, inplace=True)\n",
    "\n",
    "    # drop all rows with missing laptime\n",
    "    df.dropna(subset=['LapTime'], inplace=True)\n",
    "    return df[df['LapNumber'] > 1].reset_index(drop=True)\n",
    "\n",
    "## Datatypes -------------------------------------------------------------------\n",
    "\n",
    "def process_datatypes(df):\n",
    "    # boolean\n",
    "    df['Green'] = df['Green'].astype('bool')\n",
    "    df['Yellow'] = df['Yellow'].astype('bool')\n",
    "    df['SC'] = df['SC'].astype('bool')\n",
    "    df['Red'] = df['Red'].astype('bool')\n",
    "    df['VSC'] = df['VSC'].astype('bool')\n",
    "    df['SC_ending'] = df['SC_ending'].astype('bool')\n",
    "    df['IsAccurate'] = df['IsAccurate'].astype('bool')\n",
    "    df['Rainfall'] = df['Rainfall'].astype('bool')\n",
    "    # category\n",
    "    df['DriverNumber'] = df['DriverNumber'].astype('category')\n",
    "    df['Team'] = df['Team'].astype('category')\n",
    "    #df['Compound'] = df['Compound'].astype('category')\n",
    "    df['DriverAhead'] = df['DriverAhead'].astype('category')\n",
    "    #df['Track'] = df['Track'].astype('category')\n",
    "    # float\n",
    "    df['LapStartTime'] = df['LapStartTime'].astype('float32')\n",
    "    df['LapTime'] = df['LapTime'].astype('float32')\n",
    "    df['DistanceToDriverAhead'] = df['DistanceToDriverAhead'].astype('float32')\n",
    "    df['GapToLeader'] = df['GapToLeader'].astype('float32')\n",
    "    df['IntervalToPositionAhead'] = df['IntervalToPositionAhead'].astype('float32')\n",
    "    df['AirTemp'] = df['AirTemp'].astype('float32')\n",
    "    df['Humidity'] = df['Humidity'].astype('float32')\n",
    "    df['Pressure'] = df['Pressure'].astype('float32')\n",
    "    df['TrackTemp'] = df['TrackTemp'].astype('float32')\n",
    "    df['WindDirection'] = df['WindDirection'].astype('float32')\n",
    "    df['WindSpeed'] = df['WindSpeed'].astype('float32')\n",
    "    # int\n",
    "    df['LapNumber'] = df['LapNumber'].astype('uint8')\n",
    "    df['TyreLife'] = df['TyreLife'].astype('uint8')\n",
    "    df['Stint'] = df['Stint'].astype('uint8')\n",
    "    df['NumberOfPitStops'] = df['NumberOfPitStops'].astype('uint8')\n",
    "    df['Position'] = df['Position'].astype('uint8')\n",
    "    df['LapsToLeader'] = df['LapsToLeader'].astype('uint8')\n",
    "    df['TotalLaps'] = df['TotalLaps'].astype('uint8')\n",
    "    return df\n",
    "\n",
    "## Add target ------------------------------------------------------------------\n",
    "\n",
    "def process_target(df):\n",
    "    df['is_pitting'] = df['PitStatus'] == 'InLap'\n",
    "    df['is_pitting'] = df['is_pitting'].astype('bool')\n",
    "    return df\n",
    "\n",
    "## Remove features -------------------------------------------------------------\n",
    "\n",
    "def process_remove_features(df):\n",
    "    df.drop(['LapStartTime', 'DriverNumber', 'Team', 'DriverAhead', \n",
    "    'AirTemp', 'Humidity', 'Pressure', 'Rainfall', 'TrackTemp', 'WindDirection', 'WindSpeed',\n",
    "    'PitStatus', 'IsAccurate', 'Year', 'RoundNumber'], axis=1, inplace=True)\n",
    "    return df\n",
    "\n",
    "## Feature encoding ------------------------------------------------------------\n",
    "\n",
    "from sklearn.preprocessing import OneHotEncoder\n",
    "\n",
    "def process_feature_encoding(df):\n",
    "    categorical_features = ['Compound', 'Track']\n",
    "    one_hot_encoder = OneHotEncoder(sparse_output=False, handle_unknown='ignore')\n",
    "    one_hot_encoder.fit(df[categorical_features])\n",
    "    one_hot_encoded = one_hot_encoder.transform(df[categorical_features])\n",
    "    one_hot_encoded = pd.DataFrame(one_hot_encoded, columns=one_hot_encoder.get_feature_names_out(categorical_features))\n",
    "    print(\"One hot : \", one_hot_encoded.shape)\n",
    "    print(\"Data : \", df.shape)\n",
    "    df = df.join(one_hot_encoded)\n",
    "    df.drop(categorical_features, axis=1, inplace=True)\n",
    "    return df, one_hot_encoder\n",
    "\n",
    "def process_feature_encoding_new(df, encoder):\n",
    "    categorical_features = ['Compound', 'Track']\n",
    "    one_hot_encoded = encoder.transform(df[categorical_features])\n",
    "    one_hot_encoded = pd.DataFrame(one_hot_encoded, columns=encoder.get_feature_names_out(categorical_features))\n",
    "    df = df.join(one_hot_encoded)\n",
    "    df.drop(categorical_features, axis=1, inplace=True)\n",
    "    return df"
   ]
  },
  {
   "cell_type": "code",
   "execution_count": 6,
   "metadata": {},
   "outputs": [],
   "source": [
    "def preprocess_pre_split(df):\n",
    "    df = df.copy()\n",
    "    print('Preprocessing data...', df.shape)\n",
    "    df = process_rainfall(df)\n",
    "    print('Rainfall processed...', df.shape)\n",
    "    df = incomplete_races(df)\n",
    "    df = process_track_name(df)\n",
    "    print('TrackName processed...', df.shape)\n",
    "    df = process_missing_values(df)\n",
    "    print('Missing values processed...', df.shape)\n",
    "    return df\n",
    "\n",
    "def preprocess_post_split(df):\n",
    "    df = process_trackStatus(df)\n",
    "    print('TrackStatus processed...', df.shape)\n",
    "    df = process_datatypes(df)\n",
    "    print('Preprocessing data...', df.shape)\n",
    "    df = process_remove_features(df)\n",
    "    print('Features removed...', df.shape)\n",
    "    return df\n",
    "\n",
    "def preprocess_post_split_train(df):\n",
    "    df = df.copy()\n",
    "    df = process_target(df)\n",
    "    print('Target processed...', df.shape)\n",
    "    df, encoder = process_feature_encoding(df)\n",
    "    print('Features encoded...', df.shape)\n",
    "\n",
    "    df = preprocess_post_split(df)\n",
    "    \n",
    "    return df, encoder\n",
    "\n",
    "def preprocess_post_split_test(df, encoder):\n",
    "    df = df.copy()\n",
    "    df = process_target(df)\n",
    "    print('Target processed...', df.shape)\n",
    "    df = process_feature_encoding_new(df, encoder)\n",
    "    print('Features encoded...', df.shape)\n",
    "\n",
    "    df = preprocess_post_split(df)\n",
    "\n",
    "    return df"
   ]
  },
  {
   "cell_type": "code",
   "execution_count": 9,
   "metadata": {},
   "outputs": [
    {
     "name": "stdout",
     "output_type": "stream",
     "text": [
      "Preprocessing data... (70276, 28)\n"
     ]
    },
    {
     "name": "stderr",
     "output_type": "stream",
     "text": [
      "C:\\Users\\Nelson Jeanrenaud\\AppData\\Local\\Temp\\ipykernel_17768\\2062240116.py:6: DeprecationWarning: `np.bool8` is a deprecated alias for `np.bool_`.  (Deprecated NumPy 1.24)\n",
      "  np.zeros(6, dtype=np.bool8),\n"
     ]
    },
    {
     "name": "stdout",
     "output_type": "stream",
     "text": [
      "TrackStatus processed... (70276, 33)\n",
      "Missing values processed... (67709, 33)\n",
      "Datatypes processed... (67709, 33)\n",
      "Target processed... (67709, 34)\n",
      "Features removed... (67709, 21)\n",
      "One hot :  (67709, 40)\n",
      "Data :  (67709, 21)\n"
     ]
    },
    {
     "name": "stderr",
     "output_type": "stream",
     "text": [
      "c:\\Users\\Nelson Jeanrenaud\\miniconda3\\envs\\bsc\\Lib\\site-packages\\sklearn\\preprocessing\\_encoders.py:972: FutureWarning: `sparse` was renamed to `sparse_output` in version 1.2 and will be removed in 1.4. `sparse_output` is ignored unless you leave `sparse` to its default value.\n",
      "  warnings.warn(\n"
     ]
    },
    {
     "name": "stdout",
     "output_type": "stream",
     "text": [
      "Features encoded... (67709, 59)\n",
      "Preprocessing data... (17569, 28)\n"
     ]
    },
    {
     "name": "stderr",
     "output_type": "stream",
     "text": [
      "C:\\Users\\Nelson Jeanrenaud\\AppData\\Local\\Temp\\ipykernel_17768\\2062240116.py:6: DeprecationWarning: `np.bool8` is a deprecated alias for `np.bool_`.  (Deprecated NumPy 1.24)\n",
      "  np.zeros(6, dtype=np.bool8),\n"
     ]
    },
    {
     "name": "stdout",
     "output_type": "stream",
     "text": [
      "TrackStatus processed... (17569, 33)\n",
      "Missing values processed... (16921, 33)\n",
      "Datatypes processed... (16921, 33)\n",
      "Target processed... (16921, 34)\n",
      "Features removed... (16921, 21)\n",
      "One hot :  (16921, 40)\n",
      "Data :  (16921, 21)\n",
      "Features encoded... (16921, 59)\n"
     ]
    },
    {
     "name": "stderr",
     "output_type": "stream",
     "text": [
      "c:\\Users\\Nelson Jeanrenaud\\miniconda3\\envs\\bsc\\Lib\\site-packages\\sklearn\\preprocessing\\_encoders.py:972: FutureWarning: `sparse` was renamed to `sparse_output` in version 1.2 and will be removed in 1.4. `sparse_output` is ignored unless you leave `sparse` to its default value.\n",
      "  warnings.warn(\n"
     ]
    }
   ],
   "source": [
    "def get_races_grouped(df):\n",
    "    return df.groupby(['Year', 'RoundNumber', 'DriverNumber'])\n",
    "\n",
    "def get_train_test_split(df, test_size, return_groups=False):\n",
    "    groups = get_races_grouped(df).groups\n",
    "    groups_keys = list(groups.keys())\n",
    "    np.random.shuffle(groups_keys)\n",
    "    test_groups = groups_keys[:int(len(groups_keys) * test_size)]\n",
    "    train_groups = groups_keys[int(len(groups_keys) * test_size):]\n",
    "    test = df[df.apply(lambda x: (x['Year'], x['RoundNumber'], x['DriverNumber']) in test_groups, axis=1)].reset_index(drop=True)\n",
    "    train = df[df.apply(lambda x: (x['Year'], x['RoundNumber'], x['DriverNumber']) in train_groups, axis=1)].reset_index(drop=True)\n",
    "    if return_groups:\n",
    "        return train, test, train.groupby(['Year', 'RoundNumber', 'DriverNumber']).groups, test.groupby(['Year', 'RoundNumber', 'DriverNumber']).groups\n",
    "    return train, test"
   ]
  },
  {
   "cell_type": "code",
   "execution_count": 10,
   "metadata": {},
   "outputs": [],
   "source": [
    "df = data.copy()\n",
    "df = preprocess_pre_split(df)\n",
    "\n",
    "train_df, test_df, train_groups, test_groups = get_train_test_split(df.copy(), test_size=0.2, return_groups=True)\n",
    "\n",
    "train_df, encoder = preprocess_post_split_train(train_df)\n",
    "test_df = preprocess_post_split_test(test_df, encoder)\n",
    "\n",
    "train_df.dropna(inplace=True)\n",
    "test_df.dropna(inplace=True)\n",
    "\n",
    "X_train = train_df.drop(['is_pitting'], axis=1)\n",
    "y_train = train_df['is_pitting']\n",
    "\n",
    "X_test = test_df.drop(['is_pitting'], axis=1)\n",
    "y_test = test_df['is_pitting']\n",
    "\n",
    "print(X_train.shape, X_test.shape, y_train.shape, y_test.shape)"
   ]
  },
  {
   "attachments": {},
   "cell_type": "markdown",
   "metadata": {},
   "source": [
    "# Modelisation"
   ]
  },
  {
   "cell_type": "code",
   "execution_count": 13,
   "metadata": {},
   "outputs": [],
   "source": [
    "from sklearn.ensemble import RandomForestClassifier\n",
    "from sklearn.metrics import confusion_matrix\n",
    "def specificity(y_true, y_pred):\n",
    "    cm = confusion_matrix(y_true, y_pred)\n",
    "    tn, fp, fn, tp = cm.ravel()\n",
    "    return tn / (tn + fp)\n",
    "\n",
    "def balanced_accuracy(y_true, y_pred):\n",
    "    cm = confusion_matrix(y_true, y_pred)\n",
    "    tn, fp, fn, tp = cm.ravel()\n",
    "    specificity = tn / (tn + fp)\n",
    "    sensitivity = tp / (tp + fn)\n",
    "    return (specificity + sensitivity) / 2"
   ]
  },
  {
   "cell_type": "code",
   "execution_count": 14,
   "metadata": {},
   "outputs": [],
   "source": [
    "from sklearn.model_selection import GridSearchCV\n",
    "from sklearn.metrics import make_scorer\n",
    "from sklearn.metrics import roc_auc_score, recall_score, precision_score, f1_score\n",
    "\n",
    "param_grid = {\n",
    "    'n_estimators': [100, 500, 1000],\n",
    "    'max_depth': [5, 20, 100, None],\n",
    "    'class_weight': ['balanced_subsample', 'balanced', {0: 1, 1: 10}],\n",
    "    'max_features': ['auto', 'sqrt', 'log2', None],\n",
    "    'criterion': ['gini', 'entropy']\n",
    "}\n",
    "\n",
    "model = RandomForestClassifier(random_state=0)\n",
    "\n",
    "scorer = make_scorer(\n",
    "    f1_score,\n",
    "    greater_is_better=True,\n",
    "    needs_proba=False\n",
    ")\n",
    "\n",
    "grid_search = GridSearchCV(\n",
    "    model,\n",
    "    param_grid,\n",
    "    cv=4,\n",
    "    scoring=scorer,\n",
    "    verbose=10,\n",
    "    n_jobs=-1\n",
    ")"
   ]
  },
  {
   "cell_type": "code",
   "execution_count": 15,
   "metadata": {},
   "outputs": [
    {
     "name": "stdout",
     "output_type": "stream",
     "text": [
      "Fitting 4 folds for each of 81 candidates, totalling 324 fits\n"
     ]
    },
    {
     "data": {
      "text/html": [
       "<style>#sk-container-id-1 {color: black;}#sk-container-id-1 pre{padding: 0;}#sk-container-id-1 div.sk-toggleable {background-color: white;}#sk-container-id-1 label.sk-toggleable__label {cursor: pointer;display: block;width: 100%;margin-bottom: 0;padding: 0.3em;box-sizing: border-box;text-align: center;}#sk-container-id-1 label.sk-toggleable__label-arrow:before {content: \"▸\";float: left;margin-right: 0.25em;color: #696969;}#sk-container-id-1 label.sk-toggleable__label-arrow:hover:before {color: black;}#sk-container-id-1 div.sk-estimator:hover label.sk-toggleable__label-arrow:before {color: black;}#sk-container-id-1 div.sk-toggleable__content {max-height: 0;max-width: 0;overflow: hidden;text-align: left;background-color: #f0f8ff;}#sk-container-id-1 div.sk-toggleable__content pre {margin: 0.2em;color: black;border-radius: 0.25em;background-color: #f0f8ff;}#sk-container-id-1 input.sk-toggleable__control:checked~div.sk-toggleable__content {max-height: 200px;max-width: 100%;overflow: auto;}#sk-container-id-1 input.sk-toggleable__control:checked~label.sk-toggleable__label-arrow:before {content: \"▾\";}#sk-container-id-1 div.sk-estimator input.sk-toggleable__control:checked~label.sk-toggleable__label {background-color: #d4ebff;}#sk-container-id-1 div.sk-label input.sk-toggleable__control:checked~label.sk-toggleable__label {background-color: #d4ebff;}#sk-container-id-1 input.sk-hidden--visually {border: 0;clip: rect(1px 1px 1px 1px);clip: rect(1px, 1px, 1px, 1px);height: 1px;margin: -1px;overflow: hidden;padding: 0;position: absolute;width: 1px;}#sk-container-id-1 div.sk-estimator {font-family: monospace;background-color: #f0f8ff;border: 1px dotted black;border-radius: 0.25em;box-sizing: border-box;margin-bottom: 0.5em;}#sk-container-id-1 div.sk-estimator:hover {background-color: #d4ebff;}#sk-container-id-1 div.sk-parallel-item::after {content: \"\";width: 100%;border-bottom: 1px solid gray;flex-grow: 1;}#sk-container-id-1 div.sk-label:hover label.sk-toggleable__label {background-color: #d4ebff;}#sk-container-id-1 div.sk-serial::before {content: \"\";position: absolute;border-left: 1px solid gray;box-sizing: border-box;top: 0;bottom: 0;left: 50%;z-index: 0;}#sk-container-id-1 div.sk-serial {display: flex;flex-direction: column;align-items: center;background-color: white;padding-right: 0.2em;padding-left: 0.2em;position: relative;}#sk-container-id-1 div.sk-item {position: relative;z-index: 1;}#sk-container-id-1 div.sk-parallel {display: flex;align-items: stretch;justify-content: center;background-color: white;position: relative;}#sk-container-id-1 div.sk-item::before, #sk-container-id-1 div.sk-parallel-item::before {content: \"\";position: absolute;border-left: 1px solid gray;box-sizing: border-box;top: 0;bottom: 0;left: 50%;z-index: -1;}#sk-container-id-1 div.sk-parallel-item {display: flex;flex-direction: column;z-index: 1;position: relative;background-color: white;}#sk-container-id-1 div.sk-parallel-item:first-child::after {align-self: flex-end;width: 50%;}#sk-container-id-1 div.sk-parallel-item:last-child::after {align-self: flex-start;width: 50%;}#sk-container-id-1 div.sk-parallel-item:only-child::after {width: 0;}#sk-container-id-1 div.sk-dashed-wrapped {border: 1px dashed gray;margin: 0 0.4em 0.5em 0.4em;box-sizing: border-box;padding-bottom: 0.4em;background-color: white;}#sk-container-id-1 div.sk-label label {font-family: monospace;font-weight: bold;display: inline-block;line-height: 1.2em;}#sk-container-id-1 div.sk-label-container {text-align: center;}#sk-container-id-1 div.sk-container {/* jupyter's `normalize.less` sets `[hidden] { display: none; }` but bootstrap.min.css set `[hidden] { display: none !important; }` so we also need the `!important` here to be able to override the default hidden behavior on the sphinx rendered scikit-learn.org. See: https://github.com/scikit-learn/scikit-learn/issues/21755 */display: inline-block !important;position: relative;}#sk-container-id-1 div.sk-text-repr-fallback {display: none;}</style><div id=\"sk-container-id-1\" class=\"sk-top-container\"><div class=\"sk-text-repr-fallback\"><pre>GridSearchCV(cv=4, estimator=RandomForestClassifier(random_state=0), n_jobs=-1,\n",
       "             param_grid={&#x27;class_weight&#x27;: [&#x27;balanced_subsample&#x27;],\n",
       "                         &#x27;max_depth&#x27;: [5, 10, 20],\n",
       "                         &#x27;min_samples_leaf&#x27;: [1, 2, 5],\n",
       "                         &#x27;min_samples_split&#x27;: [2, 5, 10],\n",
       "                         &#x27;n_estimators&#x27;: [100, 200, 300]},\n",
       "             scoring=make_scorer(f1_score), verbose=10)</pre><b>In a Jupyter environment, please rerun this cell to show the HTML representation or trust the notebook. <br />On GitHub, the HTML representation is unable to render, please try loading this page with nbviewer.org.</b></div><div class=\"sk-container\" hidden><div class=\"sk-item sk-dashed-wrapped\"><div class=\"sk-label-container\"><div class=\"sk-label sk-toggleable\"><input class=\"sk-toggleable__control sk-hidden--visually\" id=\"sk-estimator-id-1\" type=\"checkbox\" ><label for=\"sk-estimator-id-1\" class=\"sk-toggleable__label sk-toggleable__label-arrow\">GridSearchCV</label><div class=\"sk-toggleable__content\"><pre>GridSearchCV(cv=4, estimator=RandomForestClassifier(random_state=0), n_jobs=-1,\n",
       "             param_grid={&#x27;class_weight&#x27;: [&#x27;balanced_subsample&#x27;],\n",
       "                         &#x27;max_depth&#x27;: [5, 10, 20],\n",
       "                         &#x27;min_samples_leaf&#x27;: [1, 2, 5],\n",
       "                         &#x27;min_samples_split&#x27;: [2, 5, 10],\n",
       "                         &#x27;n_estimators&#x27;: [100, 200, 300]},\n",
       "             scoring=make_scorer(f1_score), verbose=10)</pre></div></div></div><div class=\"sk-parallel\"><div class=\"sk-parallel-item\"><div class=\"sk-item\"><div class=\"sk-label-container\"><div class=\"sk-label sk-toggleable\"><input class=\"sk-toggleable__control sk-hidden--visually\" id=\"sk-estimator-id-2\" type=\"checkbox\" ><label for=\"sk-estimator-id-2\" class=\"sk-toggleable__label sk-toggleable__label-arrow\">estimator: RandomForestClassifier</label><div class=\"sk-toggleable__content\"><pre>RandomForestClassifier(random_state=0)</pre></div></div></div><div class=\"sk-serial\"><div class=\"sk-item\"><div class=\"sk-estimator sk-toggleable\"><input class=\"sk-toggleable__control sk-hidden--visually\" id=\"sk-estimator-id-3\" type=\"checkbox\" ><label for=\"sk-estimator-id-3\" class=\"sk-toggleable__label sk-toggleable__label-arrow\">RandomForestClassifier</label><div class=\"sk-toggleable__content\"><pre>RandomForestClassifier(random_state=0)</pre></div></div></div></div></div></div></div></div></div></div>"
      ],
      "text/plain": [
       "GridSearchCV(cv=4, estimator=RandomForestClassifier(random_state=0), n_jobs=-1,\n",
       "             param_grid={'class_weight': ['balanced_subsample'],\n",
       "                         'max_depth': [5, 10, 20],\n",
       "                         'min_samples_leaf': [1, 2, 5],\n",
       "                         'min_samples_split': [2, 5, 10],\n",
       "                         'n_estimators': [100, 200, 300]},\n",
       "             scoring=make_scorer(f1_score), verbose=10)"
      ]
     },
     "execution_count": 15,
     "metadata": {},
     "output_type": "execute_result"
    }
   ],
   "source": [
    "grid_search.fit(X_train.values, y_train)"
   ]
  },
  {
   "cell_type": "code",
   "execution_count": 16,
   "metadata": {},
   "outputs": [
    {
     "name": "stdout",
     "output_type": "stream",
     "text": [
      "0.38343565543090535\n",
      "{'class_weight': 'balanced_subsample', 'max_depth': 20, 'min_samples_leaf': 5, 'min_samples_split': 2, 'n_estimators': 100}\n"
     ]
    }
   ],
   "source": [
    "print(grid_search.best_score_)\n",
    "print(grid_search.best_params_)"
   ]
  },
  {
   "cell_type": "code",
   "execution_count": 17,
   "metadata": {},
   "outputs": [
    {
     "name": "stderr",
     "output_type": "stream",
     "text": [
      "c:\\Users\\nelso\\miniconda3\\lib\\site-packages\\sklearn\\base.py:457: UserWarning: X has feature names, but RandomForestClassifier was fitted without feature names\n",
      "  warnings.warn(\n"
     ]
    },
    {
     "data": {
      "text/plain": [
       "(16299,)"
      ]
     },
     "execution_count": 17,
     "metadata": {},
     "output_type": "execute_result"
    }
   ],
   "source": [
    "grid_search.best_estimator_.predict(X_test).shape\n",
    "y_test.shape"
   ]
  },
  {
   "cell_type": "code",
   "execution_count": 18,
   "metadata": {},
   "outputs": [
    {
     "name": "stderr",
     "output_type": "stream",
     "text": [
      "c:\\Users\\nelso\\miniconda3\\lib\\site-packages\\sklearn\\base.py:457: UserWarning: X has feature names, but RandomForestClassifier was fitted without feature names\n",
      "  warnings.warn(\n"
     ]
    },
    {
     "name": "stdout",
     "output_type": "stream",
     "text": [
      "[[15304   503]\n",
      " [  235   257]]\n",
      "              precision    recall  f1-score   support\n",
      "\n",
      "       False       0.98      0.97      0.98     15807\n",
      "        True       0.34      0.52      0.41       492\n",
      "\n",
      "    accuracy                           0.95     16299\n",
      "   macro avg       0.66      0.75      0.69     16299\n",
      "weighted avg       0.97      0.95      0.96     16299\n",
      "\n"
     ]
    }
   ],
   "source": [
    "from sklearn.metrics import classification_report\n",
    "ypred = grid_search.best_estimator_.predict(X_test)\n",
    "print(confusion_matrix(y_test, ypred))\n",
    "print(classification_report(y_test, ypred))"
   ]
  },
  {
   "cell_type": "code",
   "execution_count": 19,
   "metadata": {},
   "outputs": [],
   "source": [
    "model = grid_search.best_estimator_"
   ]
  },
  {
   "cell_type": "code",
   "execution_count": 20,
   "metadata": {},
   "outputs": [],
   "source": [
    "# Save model\n",
    "import pickle\n",
    "models_dir = 'models/f1_score'\n",
    "os.makedirs(models_dir, exist_ok=True)\n",
    "pickle.dump(model, open(models_dir + '/model.pkl', 'wb'))\n",
    "pickle.dump(encoder, open(models_dir + '/encoder.pkl', 'wb'))"
   ]
  }
 ],
 "metadata": {
  "kernelspec": {
   "display_name": "bsc",
   "language": "python",
   "name": "python3"
  },
  "language_info": {
   "codemirror_mode": {
    "name": "ipython",
    "version": 3
   },
   "file_extension": ".py",
   "mimetype": "text/x-python",
   "name": "python",
   "nbconvert_exporter": "python",
   "pygments_lexer": "ipython3",
   "version": "3.11.4"
  },
  "orig_nbformat": 4,
  "vscode": {
   "interpreter": {
    "hash": "589d2f16c7c43e145ee42078413b0251fb200486a68306d3d62712e3312580ab"
   }
  }
 },
 "nbformat": 4,
 "nbformat_minor": 2
}
