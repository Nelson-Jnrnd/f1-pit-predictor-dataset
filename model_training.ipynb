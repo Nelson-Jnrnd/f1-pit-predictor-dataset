{
 "cells": [
  {
   "attachments": {},
   "cell_type": "markdown",
   "metadata": {},
   "source": [
    "Ce notebook va être consacré au preprocessing du dataset et l'entrainement d'un premier modèle simple pour établir une baseline.\n",
    "\n",
    "---\n",
    "\n",
    "# Load"
   ]
  },
  {
   "cell_type": "code",
   "execution_count": 73,
   "metadata": {},
   "outputs": [],
   "source": [
    "# imports\n",
    "import os\n",
    "import numpy as np\n",
    "import pandas as pd\n",
    "import matplotlib.pyplot as plt\n",
    "import seaborn as sns\n",
    "\n",
    "# pandas display options\n",
    "pd.set_option('display.max_columns', 500)\n",
    "pd.set_option('display.width', 1000)\n",
    "\n",
    "base_path = 'data'\n",
    "file_name = 'season.csv'\n",
    "type_dict ={\n",
    "    'LapStartTime': np.float32,\n",
    "    'LapNumber': np.uint8,\n",
    "    'LapTime': np.float32,\n",
    "    'DriverNumber': \"category\",\n",
    "    'Team' : \"category\",\n",
    "    'Compound': \"category\",\n",
    "    'TyreLife': np.uint8,\n",
    "    'TrackStatus': \"category\",\n",
    "    'Stint': np.uint8,\n",
    "    'DistanceToDriverAhead': np.float32,\n",
    "    'DriverAhead': \"category\",\n",
    "    'PitStatus': \"category\",\n",
    "    'IsAccurate': np.bool8,\n",
    "    'Track': \"category\",\n",
    "    'NumberOfPitStops': np.uint8,\n",
    "    'Position' : np.uint8,\n",
    "    'GapToLeader' : np.float32,\n",
    "    'IntervalToPositionAhead' : np.float32,\n",
    "    'LapsToLeader' : np.uint8,\n",
    "    'TotalLaps' : np.uint8,\n",
    "    'AirTemp': np.float32,\n",
    "    'Humidity': np.float32,\n",
    "    'Pressure': np.float32,\n",
    "    'TrackTemp': np.float32,\n",
    "    'WindDirection': np.float32,\n",
    "    'WindSpeed': np.float32\n",
    "    }\n",
    "\n",
    "years = range(2019, 2023)"
   ]
  },
  {
   "cell_type": "code",
   "execution_count": 74,
   "metadata": {},
   "outputs": [],
   "source": [
    "data = pd.DataFrame()\n",
    "\n",
    "for year in years:\n",
    "    path = os.path.join(base_path, str(year), file_name)\n",
    "    year_csv = pd.read_csv(\n",
    "            path,\n",
    "            dtype=type_dict,\n",
    "    )\n",
    "    year_csv['Year'] = year\n",
    "    data = pd.concat([\n",
    "        data,\n",
    "        year_csv\n",
    "    ])"
   ]
  },
  {
   "attachments": {},
   "cell_type": "markdown",
   "metadata": {},
   "source": [
    "# Preprocessing"
   ]
  },
  {
   "cell_type": "code",
   "execution_count": 75,
   "metadata": {},
   "outputs": [],
   "source": [
    "## TrackStatus ----------------------------------------------------------------\n",
    "\n",
    "def trackStatus_to_binary(df):\n",
    "    trackStatus = df['TrackStatus']\n",
    "    status = pd.Series(\n",
    "        np.zeros(6, dtype=np.bool8),\n",
    "        index=['Green', 'Yellow', 'SC', 'Red', 'VSC', 'SC_ending']\n",
    "    )\n",
    "    if \"1\" in trackStatus:\n",
    "        status['Green'] = True\n",
    "    if \"2\" in trackStatus:\n",
    "        status['Yellow'] = True\n",
    "    if \"4\" in trackStatus:\n",
    "        status['SC'] = True\n",
    "    if \"5\" in trackStatus:\n",
    "        status['Red'] = True\n",
    "    if \"6\" in trackStatus:\n",
    "        status['VSC'] = True\n",
    "    if \"7\" in trackStatus:\n",
    "        status['SC_ending'] = True\n",
    "    return status\n",
    "\n",
    "def process_trackStatus(df):\n",
    "    trackStatuses = df.apply(trackStatus_to_binary, axis=1)\n",
    "    return pd.concat([df.drop('TrackStatus', axis=1), trackStatuses], axis=1).reset_index(drop=True)\n",
    "\n",
    "## Missing Data ----------------------------------------------------------------\n",
    "\n",
    "def process_missing_values(df):\n",
    "    # TODO fill the missing values better\n",
    "    df.fillna({\n",
    "        'DistanceToDriverAhead': -1,\n",
    "        'GapToLeader': -1,\n",
    "        'IntervalToPositionAhead': -1,\n",
    "    }, inplace=True)\n",
    "\n",
    "    # drop all rows with missing laptime\n",
    "    df.dropna(subset=['LapTime'], inplace=True)\n",
    "    return df[df['LapNumber'] > 1]\n",
    "\n",
    "## Datatypes -------------------------------------------------------------------\n",
    "\n",
    "def process_datatypes(df):\n",
    "    # boolean\n",
    "    df['Green'] = df['Green'].astype('bool')\n",
    "    df['Yellow'] = df['Yellow'].astype('bool')\n",
    "    df['SC'] = df['SC'].astype('bool')\n",
    "    df['Red'] = df['Red'].astype('bool')\n",
    "    df['VSC'] = df['VSC'].astype('bool')\n",
    "    df['SC_ending'] = df['SC_ending'].astype('bool')\n",
    "    df['IsAccurate'] = df['IsAccurate'].astype('bool')\n",
    "    df['Rainfall'] = df['Rainfall'].astype('bool')\n",
    "    # category\n",
    "    df['DriverNumber'] = df['DriverNumber'].astype('category')\n",
    "    df['Team'] = df['Team'].astype('category')\n",
    "    df['Compound'] = df['Compound'].astype('category')\n",
    "    df['DriverAhead'] = df['DriverAhead'].astype('category')\n",
    "    df['Track'] = df['Track'].astype('category')\n",
    "    # float\n",
    "    df['LapStartTime'] = df['LapStartTime'].astype('float32')\n",
    "    df['LapTime'] = df['LapTime'].astype('float32')\n",
    "    df['DistanceToDriverAhead'] = df['DistanceToDriverAhead'].astype('float32')\n",
    "    df['GapToLeader'] = df['GapToLeader'].astype('float32')\n",
    "    df['IntervalToPositionAhead'] = df['IntervalToPositionAhead'].astype('float32')\n",
    "    df['AirTemp'] = df['AirTemp'].astype('float32')\n",
    "    df['Humidity'] = df['Humidity'].astype('float32')\n",
    "    df['Pressure'] = df['Pressure'].astype('float32')\n",
    "    df['TrackTemp'] = df['TrackTemp'].astype('float32')\n",
    "    df['WindDirection'] = df['WindDirection'].astype('float32')\n",
    "    df['WindSpeed'] = df['WindSpeed'].astype('float32')\n",
    "    # int\n",
    "    df['LapNumber'] = df['LapNumber'].astype('uint8')\n",
    "    df['TyreLife'] = df['TyreLife'].astype('uint8')\n",
    "    df['Stint'] = df['Stint'].astype('uint8')\n",
    "    df['NumberOfPitStops'] = df['NumberOfPitStops'].astype('uint8')\n",
    "    df['Position'] = df['Position'].astype('uint8')\n",
    "    df['LapsToLeader'] = df['LapsToLeader'].astype('uint8')\n",
    "    df['TotalLaps'] = df['TotalLaps'].astype('uint8')\n",
    "    return df\n",
    "\n",
    "## Add target ------------------------------------------------------------------\n",
    "\n",
    "def process_target(df):\n",
    "    df['is_pitting'] = df['PitStatus'] == 'InLap'\n",
    "    df['is_pitting'] = df['is_pitting'].astype('bool')\n",
    "    return df\n",
    "\n",
    "## Remove features -------------------------------------------------------------\n",
    "\n",
    "def process_remove_features(df):\n",
    "    df.drop(['LapStartTime', 'DriverNumber', 'Team', 'DriverAhead', \n",
    "    'AirTemp', 'Humidity', 'Pressure', 'Rainfall', 'TrackTemp', 'WindDirection', 'WindSpeed',\n",
    "    'PitStatus', 'IsAccurate'], axis=1, inplace=True)\n",
    "    return df\n",
    "\n",
    "## Feature encoding ------------------------------------------------------------\n",
    "\n",
    "from sklearn.preprocessing import OneHotEncoder\n",
    "\n",
    "def process_feature_encoding(df):\n",
    "    categorical_features = ['Compound', 'Track']\n",
    "    one_hot_encoder = OneHotEncoder(sparse=False, handle_unknown='ignore')\n",
    "    one_hot_encoder.fit(df[categorical_features])\n",
    "    one_hot_encoded = one_hot_encoder.transform(df[categorical_features])\n",
    "    one_hot_encoded = pd.DataFrame(one_hot_encoded, columns=one_hot_encoder.get_feature_names_out(categorical_features))\n",
    "    print(\"One hot : \", one_hot_encoded.shape)\n",
    "    print(\"Data : \", df.shape)\n",
    "    df = df.join(one_hot_encoded)\n",
    "    df.drop(categorical_features, axis=1, inplace=True)\n",
    "    return df, one_hot_encoder"
   ]
  },
  {
   "cell_type": "code",
   "execution_count": 76,
   "metadata": {},
   "outputs": [],
   "source": [
    "def preprocess(df):\n",
    "    print('Preprocessing data...', df.shape)\n",
    "    df = process_trackStatus(df)\n",
    "    print('TrackStatus processed...', df.shape)\n",
    "    df = process_missing_values(df)\n",
    "    print('Missing values processed...', df.shape)\n",
    "    df = process_datatypes(df)\n",
    "    print('Datatypes processed...', df.shape)\n",
    "    df = process_target(df)\n",
    "    print('Target processed...', df.shape)\n",
    "    df = process_remove_features(df)\n",
    "    print('Features removed...', df.shape)\n",
    "    df, encoder = process_feature_encoding(df)\n",
    "    print('Features encoded...', df.shape)\n",
    "    return df, encoder"
   ]
  },
  {
   "cell_type": "code",
   "execution_count": 77,
   "metadata": {},
   "outputs": [],
   "source": [
    "df = data.copy()"
   ]
  },
  {
   "cell_type": "code",
   "execution_count": 78,
   "metadata": {},
   "outputs": [
    {
     "name": "stdout",
     "output_type": "stream",
     "text": [
      "Requirement already satisfied: imblearn in p:\\anaconda\\envs\\bsc\\lib\\site-packages (0.0)\n",
      "Requirement already satisfied: imbalanced-learn in p:\\anaconda\\envs\\bsc\\lib\\site-packages (from imblearn) (0.10.1)\n",
      "Requirement already satisfied: numpy>=1.17.3 in p:\\anaconda\\envs\\bsc\\lib\\site-packages (from imbalanced-learn->imblearn) (1.23.5)\n",
      "Requirement already satisfied: scikit-learn>=1.0.2 in p:\\anaconda\\envs\\bsc\\lib\\site-packages (from imbalanced-learn->imblearn) (1.2.2)\n",
      "Requirement already satisfied: joblib>=1.1.1 in c:\\users\\nelsonwork\\appdata\\roaming\\python\\python310\\site-packages (from imbalanced-learn->imblearn) (1.2.0)\n",
      "Requirement already satisfied: scipy>=1.3.2 in p:\\anaconda\\envs\\bsc\\lib\\site-packages (from imbalanced-learn->imblearn) (1.10.1)\n",
      "Requirement already satisfied: threadpoolctl>=2.0.0 in p:\\anaconda\\envs\\bsc\\lib\\site-packages (from imbalanced-learn->imblearn) (3.1.0)\n",
      "Note: you may need to restart the kernel to use updated packages.\n"
     ]
    }
   ],
   "source": [
    "%pip install imblearn"
   ]
  },
  {
   "cell_type": "code",
   "execution_count": 79,
   "metadata": {},
   "outputs": [
    {
     "name": "stdout",
     "output_type": "stream",
     "text": [
      "Preprocessing data... (70276, 28)\n",
      "TrackStatus processed... (70276, 33)\n",
      "Missing values processed... (67709, 33)\n",
      "Datatypes processed... (67709, 33)\n",
      "Target processed... (67709, 34)\n",
      "Features removed... (67709, 21)\n",
      "One hot :  (67709, 40)\n",
      "Data :  (67709, 21)\n"
     ]
    },
    {
     "name": "stderr",
     "output_type": "stream",
     "text": [
      "p:\\Anaconda\\envs\\bsc\\lib\\site-packages\\sklearn\\preprocessing\\_encoders.py:868: FutureWarning: `sparse` was renamed to `sparse_output` in version 1.2 and will be removed in 1.4. `sparse_output` is ignored unless you leave `sparse` to its default value.\n",
      "  warnings.warn(\n"
     ]
    },
    {
     "name": "stdout",
     "output_type": "stream",
     "text": [
      "Features encoded... (67709, 59)\n",
      "Preprocessing data... (17569, 28)\n",
      "TrackStatus processed... (17569, 33)\n",
      "Missing values processed... (16921, 33)\n",
      "Datatypes processed... (16921, 33)\n",
      "Target processed... (16921, 34)\n",
      "Features removed... (16921, 21)\n",
      "One hot :  (16921, 40)\n",
      "Data :  (16921, 21)\n",
      "Features encoded... (16921, 59)\n"
     ]
    },
    {
     "name": "stderr",
     "output_type": "stream",
     "text": [
      "p:\\Anaconda\\envs\\bsc\\lib\\site-packages\\sklearn\\preprocessing\\_encoders.py:868: FutureWarning: `sparse` was renamed to `sparse_output` in version 1.2 and will be removed in 1.4. `sparse_output` is ignored unless you leave `sparse` to its default value.\n",
      "  warnings.warn(\n"
     ]
    }
   ],
   "source": [
    "from sklearn.model_selection import train_test_split\n",
    "\n",
    "train_df, test_df = train_test_split(df, test_size=0.2, random_state=42)\n",
    "\n",
    "train_df, encoder = preprocess(train_df)\n",
    "test_df, _ = preprocess(test_df)"
   ]
  },
  {
   "cell_type": "code",
   "execution_count": 80,
   "metadata": {},
   "outputs": [],
   "source": [
    "train_df.dropna(inplace=True)\n",
    "test_df.dropna(inplace=True)\n",
    "\n",
    "X_train = train_df.drop(['is_pitting'], axis=1)\n",
    "y_train = train_df['is_pitting']\n",
    "\n",
    "X_test = test_df.drop(['is_pitting'], axis=1)\n",
    "y_test = test_df['is_pitting']"
   ]
  },
  {
   "cell_type": "code",
   "execution_count": 81,
   "metadata": {},
   "outputs": [
    {
     "name": "stdout",
     "output_type": "stream",
     "text": [
      "(65245, 58) (16299, 58) (65245,) (16299,)\n"
     ]
    }
   ],
   "source": [
    "print(X_train.shape, X_test.shape, y_train.shape, y_test.shape)"
   ]
  },
  {
   "attachments": {},
   "cell_type": "markdown",
   "metadata": {},
   "source": [
    "# Modelisation"
   ]
  },
  {
   "cell_type": "code",
   "execution_count": 217,
   "metadata": {},
   "outputs": [],
   "source": [
    "from tensorflow.keras.models import Sequential\n",
    "from tensorflow.keras.layers import Dense\n",
    "from sklearn.metrics import confusion_matrix\n",
    "\n",
    "import tensorflow.keras.backend as K\n",
    "\n",
    "def balanced_accuracy(y_true, y_pred):\n",
    "    cm = confusion_matrix(y_true, y_pred)\n",
    "    tn, fp, fn, tp = cm.ravel()\n",
    "    specificity = tn / (tn + fp)\n",
    "    sensitivity = tp / (tp + fn)\n",
    "    return (specificity + sensitivity) / 2\n",
    "\n",
    "def balanced_accuracy_loss(y_true, y_pred):\n",
    "    tp = K.sum(y_true * y_pred)\n",
    "    tn = K.sum((1 - y_true) * (1 - y_pred))\n",
    "    fp = K.sum((1 - y_true) * y_pred)\n",
    "    fn = K.sum(y_true * (1 - y_pred))\n",
    "    specificity = tn / (tn + fp + K.epsilon())\n",
    "    sensitivity = tp / (tp + fn + K.epsilon())\n",
    "    return 1 - (specificity + sensitivity) / 2"
   ]
  },
  {
   "cell_type": "code",
   "execution_count": 133,
   "metadata": {},
   "outputs": [],
   "source": [
    "X_train = np.array(X_train).astype(np.float32)\n",
    "y_train = np.array(y_train).astype(np.float32)\n",
    "X_test = np.array(X_test).astype(np.float32)\n",
    "y_test = np.array(y_test).astype(np.float32)"
   ]
  },
  {
   "cell_type": "code",
   "execution_count": 193,
   "metadata": {},
   "outputs": [
    {
     "data": {
      "text/plain": [
       "{0: 0.5151842961372035, 1: 16.964378575143005}"
      ]
     },
     "execution_count": 193,
     "metadata": {},
     "output_type": "execute_result"
    }
   ],
   "source": [
    "from sklearn.utils import class_weight\n",
    "class_weights = class_weight.compute_class_weight(\n",
    "    class_weight='balanced',\n",
    "    classes=np.unique(y_train),\n",
    "    y=y_train)\n",
    "class_weights = dict(enumerate(class_weights))\n",
    "\n",
    "class_weights"
   ]
  },
  {
   "cell_type": "code",
   "execution_count": 218,
   "metadata": {},
   "outputs": [
    {
     "name": "stdout",
     "output_type": "stream",
     "text": [
      "Model: \"sequential_34\"\n",
      "_________________________________________________________________\n",
      " Layer (type)                Output Shape              Param #   \n",
      "=================================================================\n",
      " dense_107 (Dense)           (None, 256)               15104     \n",
      "                                                                 \n",
      " dense_108 (Dense)           (None, 128)               32896     \n",
      "                                                                 \n",
      " dense_109 (Dense)           (None, 64)                8256      \n",
      "                                                                 \n",
      " dense_110 (Dense)           (None, 32)                2080      \n",
      "                                                                 \n",
      " dense_111 (Dense)           (None, 1)                 33        \n",
      "                                                                 \n",
      "=================================================================\n",
      "Total params: 58,369\n",
      "Trainable params: 58,369\n",
      "Non-trainable params: 0\n",
      "_________________________________________________________________\n"
     ]
    }
   ],
   "source": [
    "from tensorflow import keras\n",
    "from tensorflow.keras import layers\n",
    "\n",
    "input_dim = X_train.shape[1]\n",
    "# Create model\n",
    "model = keras.Sequential([\n",
    "    layers.Dense(256, activation='relu', input_shape=(input_dim,)),\n",
    "    layers.Dense(128, activation='relu'),\n",
    "    layers.Dense(64, activation='relu'),\n",
    "    layers.Dense(32, activation='relu'),\n",
    "    layers.Dense(1, activation='sigmoid')\n",
    "])\n",
    "\n",
    "\n",
    "\n",
    "model.compile(\n",
    "    optimizer='adam',\n",
    "    loss='binary_crossentropy',\n",
    "    metrics=[balanced_accuracy_loss]\n",
    "    )\n",
    "\n",
    "model.summary()"
   ]
  },
  {
   "cell_type": "code",
   "execution_count": 219,
   "metadata": {},
   "outputs": [
    {
     "name": "stdout",
     "output_type": "stream",
     "text": [
      "Epoch 1/10\n",
      "2039/2039 - 9s - loss: 1.3211 - balanced_accuracy_loss: 0.5847 - val_loss: 0.2252 - val_balanced_accuracy_loss: 0.5173 - 9s/epoch - 4ms/step\n",
      "Epoch 2/10\n",
      "2039/2039 - 7s - loss: 0.7312 - balanced_accuracy_loss: 0.5577 - val_loss: 0.4700 - val_balanced_accuracy_loss: 0.5210 - 7s/epoch - 3ms/step\n",
      "Epoch 3/10\n",
      "2039/2039 - 7s - loss: 0.6537 - balanced_accuracy_loss: 0.5241 - val_loss: 0.4858 - val_balanced_accuracy_loss: 0.4930 - 7s/epoch - 4ms/step\n",
      "Epoch 4/10\n",
      "2039/2039 - 7s - loss: 0.6030 - balanced_accuracy_loss: 0.5195 - val_loss: 0.4239 - val_balanced_accuracy_loss: 0.4786 - 7s/epoch - 4ms/step\n",
      "Epoch 5/10\n",
      "2039/2039 - 7s - loss: 0.5757 - balanced_accuracy_loss: 0.5100 - val_loss: 0.9603 - val_balanced_accuracy_loss: 0.5339 - 7s/epoch - 3ms/step\n",
      "Epoch 6/10\n",
      "2039/2039 - 7s - loss: 0.5747 - balanced_accuracy_loss: 0.5011 - val_loss: 0.6672 - val_balanced_accuracy_loss: 0.5282 - 7s/epoch - 4ms/step\n",
      "Epoch 7/10\n",
      "2039/2039 - 8s - loss: 0.5600 - balanced_accuracy_loss: 0.4979 - val_loss: 0.6660 - val_balanced_accuracy_loss: 0.4923 - 8s/epoch - 4ms/step\n",
      "Epoch 8/10\n",
      "2039/2039 - 7s - loss: 0.5664 - balanced_accuracy_loss: 0.4986 - val_loss: 0.7122 - val_balanced_accuracy_loss: 0.5044 - 7s/epoch - 3ms/step\n",
      "Epoch 9/10\n",
      "2039/2039 - 7s - loss: 0.5513 - balanced_accuracy_loss: 0.4876 - val_loss: 0.8125 - val_balanced_accuracy_loss: 0.5109 - 7s/epoch - 3ms/step\n",
      "Epoch 10/10\n",
      "2039/2039 - 7s - loss: 0.5354 - balanced_accuracy_loss: 0.4801 - val_loss: 0.3837 - val_balanced_accuracy_loss: 0.4568 - 7s/epoch - 3ms/step\n"
     ]
    },
    {
     "data": {
      "image/png": "[encoded data removed]",
      "text/plain": [
       "<Figure size 640x480 with 1 Axes>"
      ]
     },
     "metadata": {},
     "output_type": "display_data"
    }
   ],
   "source": [
    "hist = model.fit(\n",
    "    X_train, y_train, \n",
    "    epochs=10,\n",
    "    batch_size=32,\n",
    "    verbose=2,\n",
    "    validation_data=(X_test, y_test),\n",
    "    class_weight=class_weights\n",
    ")\n",
    "\n",
    "import matplotlib.pyplot as plt\n",
    "\n",
    "plt.plot(hist.history['balanced_accuracy_loss'])\n",
    "plt.plot(hist.history['val_balanced_accuracy_loss'])\n",
    "plt.title('Model balanced accuracy')\n",
    "plt.ylabel('Balanced accuracy')\n",
    "plt.xlabel('Epoch')\n",
    "plt.legend(['Train', 'Test'], loc='upper left')\n",
    "plt.show()"
   ]
  },
  {
   "cell_type": "code",
   "execution_count": 220,
   "metadata": {},
   "outputs": [
    {
     "name": "stdout",
     "output_type": "stream",
     "text": [
      "510/510 [==============================] - 1s 2ms/step\n"
     ]
    }
   ],
   "source": [
    "y_pred = model.predict(X_test)"
   ]
  },
  {
   "cell_type": "code",
   "execution_count": 221,
   "metadata": {},
   "outputs": [
    {
     "name": "stdout",
     "output_type": "stream",
     "text": [
      "[[12901  2906]\n",
      " [  161   331]]\n",
      "              precision    recall  f1-score   support\n",
      "\n",
      "         0.0       0.99      0.82      0.89     15807\n",
      "         1.0       0.10      0.67      0.18       492\n",
      "\n",
      "    accuracy                           0.81     16299\n",
      "   macro avg       0.54      0.74      0.54     16299\n",
      "weighted avg       0.96      0.81      0.87     16299\n",
      "\n"
     ]
    }
   ],
   "source": [
    "from sklearn.metrics import classification_report, confusion_matrix\n",
    "\n",
    "print(confusion_matrix(y_test, y_pred.round()))\n",
    "print(classification_report(y_test, y_pred.round()))"
   ]
  },
  {
   "cell_type": "code",
   "execution_count": 31,
   "metadata": {},
   "outputs": [],
   "source": [
    "from sklearn.model_selection import GridSearchCV\n",
    "from sklearn.metrics import make_scorer\n",
    "\n",
    "param_grid = {\n",
    "    \n",
    "}\n",
    "\n",
    "model = RandomForestClassifier(random_state=0)\n",
    "\n",
    "scorer = make_scorer(\n",
    "    balanced_accuracy,\n",
    "    greater_is_better=True,\n",
    "    needs_proba=False\n",
    ")\n",
    "\n",
    "grid_search = GridSearchCV(\n",
    "    model,\n",
    "    param_grid,\n",
    "    cv=4,\n",
    "    scoring=scorer,\n",
    "    verbose=10,\n",
    "    n_jobs=-1\n",
    ")"
   ]
  },
  {
   "cell_type": "code",
   "execution_count": 32,
   "metadata": {},
   "outputs": [
    {
     "name": "stdout",
     "output_type": "stream",
     "text": [
      "Fitting 4 folds for each of 81 candidates, totalling 324 fits\n"
     ]
    },
    {
     "data": {
      "text/html": [
       "<style>#sk-container-id-2 {color: black;background-color: white;}#sk-container-id-2 pre{padding: 0;}#sk-container-id-2 div.sk-toggleable {background-color: white;}#sk-container-id-2 label.sk-toggleable__label {cursor: pointer;display: block;width: 100%;margin-bottom: 0;padding: 0.3em;box-sizing: border-box;text-align: center;}#sk-container-id-2 label.sk-toggleable__label-arrow:before {content: \"▸\";float: left;margin-right: 0.25em;color: #696969;}#sk-container-id-2 label.sk-toggleable__label-arrow:hover:before {color: black;}#sk-container-id-2 div.sk-estimator:hover label.sk-toggleable__label-arrow:before {color: black;}#sk-container-id-2 div.sk-toggleable__content {max-height: 0;max-width: 0;overflow: hidden;text-align: left;background-color: #f0f8ff;}#sk-container-id-2 div.sk-toggleable__content pre {margin: 0.2em;color: black;border-radius: 0.25em;background-color: #f0f8ff;}#sk-container-id-2 input.sk-toggleable__control:checked~div.sk-toggleable__content {max-height: 200px;max-width: 100%;overflow: auto;}#sk-container-id-2 input.sk-toggleable__control:checked~label.sk-toggleable__label-arrow:before {content: \"▾\";}#sk-container-id-2 div.sk-estimator input.sk-toggleable__control:checked~label.sk-toggleable__label {background-color: #d4ebff;}#sk-container-id-2 div.sk-label input.sk-toggleable__control:checked~label.sk-toggleable__label {background-color: #d4ebff;}#sk-container-id-2 input.sk-hidden--visually {border: 0;clip: rect(1px 1px 1px 1px);clip: rect(1px, 1px, 1px, 1px);height: 1px;margin: -1px;overflow: hidden;padding: 0;position: absolute;width: 1px;}#sk-container-id-2 div.sk-estimator {font-family: monospace;background-color: #f0f8ff;border: 1px dotted black;border-radius: 0.25em;box-sizing: border-box;margin-bottom: 0.5em;}#sk-container-id-2 div.sk-estimator:hover {background-color: #d4ebff;}#sk-container-id-2 div.sk-parallel-item::after {content: \"\";width: 100%;border-bottom: 1px solid gray;flex-grow: 1;}#sk-container-id-2 div.sk-label:hover label.sk-toggleable__label {background-color: #d4ebff;}#sk-container-id-2 div.sk-serial::before {content: \"\";position: absolute;border-left: 1px solid gray;box-sizing: border-box;top: 0;bottom: 0;left: 50%;z-index: 0;}#sk-container-id-2 div.sk-serial {display: flex;flex-direction: column;align-items: center;background-color: white;padding-right: 0.2em;padding-left: 0.2em;position: relative;}#sk-container-id-2 div.sk-item {position: relative;z-index: 1;}#sk-container-id-2 div.sk-parallel {display: flex;align-items: stretch;justify-content: center;background-color: white;position: relative;}#sk-container-id-2 div.sk-item::before, #sk-container-id-2 div.sk-parallel-item::before {content: \"\";position: absolute;border-left: 1px solid gray;box-sizing: border-box;top: 0;bottom: 0;left: 50%;z-index: -1;}#sk-container-id-2 div.sk-parallel-item {display: flex;flex-direction: column;z-index: 1;position: relative;background-color: white;}#sk-container-id-2 div.sk-parallel-item:first-child::after {align-self: flex-end;width: 50%;}#sk-container-id-2 div.sk-parallel-item:last-child::after {align-self: flex-start;width: 50%;}#sk-container-id-2 div.sk-parallel-item:only-child::after {width: 0;}#sk-container-id-2 div.sk-dashed-wrapped {border: 1px dashed gray;margin: 0 0.4em 0.5em 0.4em;box-sizing: border-box;padding-bottom: 0.4em;background-color: white;}#sk-container-id-2 div.sk-label label {font-family: monospace;font-weight: bold;display: inline-block;line-height: 1.2em;}#sk-container-id-2 div.sk-label-container {text-align: center;}#sk-container-id-2 div.sk-container {/* jupyter's `normalize.less` sets `[hidden] { display: none; }` but bootstrap.min.css set `[hidden] { display: none !important; }` so we also need the `!important` here to be able to override the default hidden behavior on the sphinx rendered scikit-learn.org. See: https://github.com/scikit-learn/scikit-learn/issues/21755 */display: inline-block !important;position: relative;}#sk-container-id-2 div.sk-text-repr-fallback {display: none;}</style><div id=\"sk-container-id-2\" class=\"sk-top-container\"><div class=\"sk-text-repr-fallback\"><pre>GridSearchCV(cv=4, estimator=RandomForestClassifier(random_state=0), n_jobs=-1,\n",
       "             param_grid={&#x27;class_weight&#x27;: [&#x27;balanced_subsample&#x27;],\n",
       "                         &#x27;max_depth&#x27;: [5, 10, 20],\n",
       "                         &#x27;min_samples_leaf&#x27;: [1, 2, 5],\n",
       "                         &#x27;min_samples_split&#x27;: [2, 5, 10],\n",
       "                         &#x27;n_estimators&#x27;: [100, 200, 300]},\n",
       "             scoring=make_scorer(balanced_accuracy), verbose=10)</pre><b>In a Jupyter environment, please rerun this cell to show the HTML representation or trust the notebook. <br />On GitHub, the HTML representation is unable to render, please try loading this page with nbviewer.org.</b></div><div class=\"sk-container\" hidden><div class=\"sk-item sk-dashed-wrapped\"><div class=\"sk-label-container\"><div class=\"sk-label sk-toggleable\"><input class=\"sk-toggleable__control sk-hidden--visually\" id=\"sk-estimator-id-4\" type=\"checkbox\" ><label for=\"sk-estimator-id-4\" class=\"sk-toggleable__label sk-toggleable__label-arrow\">GridSearchCV</label><div class=\"sk-toggleable__content\"><pre>GridSearchCV(cv=4, estimator=RandomForestClassifier(random_state=0), n_jobs=-1,\n",
       "             param_grid={&#x27;class_weight&#x27;: [&#x27;balanced_subsample&#x27;],\n",
       "                         &#x27;max_depth&#x27;: [5, 10, 20],\n",
       "                         &#x27;min_samples_leaf&#x27;: [1, 2, 5],\n",
       "                         &#x27;min_samples_split&#x27;: [2, 5, 10],\n",
       "                         &#x27;n_estimators&#x27;: [100, 200, 300]},\n",
       "             scoring=make_scorer(balanced_accuracy), verbose=10)</pre></div></div></div><div class=\"sk-parallel\"><div class=\"sk-parallel-item\"><div class=\"sk-item\"><div class=\"sk-label-container\"><div class=\"sk-label sk-toggleable\"><input class=\"sk-toggleable__control sk-hidden--visually\" id=\"sk-estimator-id-5\" type=\"checkbox\" ><label for=\"sk-estimator-id-5\" class=\"sk-toggleable__label sk-toggleable__label-arrow\">estimator: RandomForestClassifier</label><div class=\"sk-toggleable__content\"><pre>RandomForestClassifier(random_state=0)</pre></div></div></div><div class=\"sk-serial\"><div class=\"sk-item\"><div class=\"sk-estimator sk-toggleable\"><input class=\"sk-toggleable__control sk-hidden--visually\" id=\"sk-estimator-id-6\" type=\"checkbox\" ><label for=\"sk-estimator-id-6\" class=\"sk-toggleable__label sk-toggleable__label-arrow\">RandomForestClassifier</label><div class=\"sk-toggleable__content\"><pre>RandomForestClassifier(random_state=0)</pre></div></div></div></div></div></div></div></div></div></div>"
      ],
      "text/plain": [
       "GridSearchCV(cv=4, estimator=RandomForestClassifier(random_state=0), n_jobs=-1,\n",
       "             param_grid={'class_weight': ['balanced_subsample'],\n",
       "                         'max_depth': [5, 10, 20],\n",
       "                         'min_samples_leaf': [1, 2, 5],\n",
       "                         'min_samples_split': [2, 5, 10],\n",
       "                         'n_estimators': [100, 200, 300]},\n",
       "             scoring=make_scorer(balanced_accuracy), verbose=10)"
      ]
     },
     "execution_count": 32,
     "metadata": {},
     "output_type": "execute_result"
    }
   ],
   "source": [
    "grid_search.fit(X_train, y_train)"
   ]
  },
  {
   "cell_type": "code",
   "execution_count": 33,
   "metadata": {},
   "outputs": [
    {
     "name": "stdout",
     "output_type": "stream",
     "text": [
      "0.7958320909904882\n",
      "{'class_weight': 'balanced_subsample', 'max_depth': 10, 'min_samples_leaf': 5, 'min_samples_split': 2, 'n_estimators': 100}\n"
     ]
    }
   ],
   "source": [
    "print(grid_search.best_score_)\n",
    "print(grid_search.best_params_)"
   ]
  },
  {
   "cell_type": "code",
   "execution_count": 34,
   "metadata": {},
   "outputs": [
    {
     "data": {
      "text/plain": [
       "(16299,)"
      ]
     },
     "execution_count": 34,
     "metadata": {},
     "output_type": "execute_result"
    }
   ],
   "source": [
    "grid_search.best_estimator_.predict(X_test).shape\n",
    "y_test.shape"
   ]
  },
  {
   "cell_type": "code",
   "execution_count": 35,
   "metadata": {},
   "outputs": [
    {
     "name": "stdout",
     "output_type": "stream",
     "text": [
      "[[13576  2231]\n",
      " [  134   358]]\n",
      "              precision    recall  f1-score   support\n",
      "\n",
      "       False       0.99      0.86      0.92     15807\n",
      "        True       0.14      0.73      0.23       492\n",
      "\n",
      "    accuracy                           0.85     16299\n",
      "   macro avg       0.56      0.79      0.58     16299\n",
      "weighted avg       0.96      0.85      0.90     16299\n",
      "\n"
     ]
    }
   ],
   "source": [
    "ypred = grid_search.best_estimator_.predict(X_test)\n",
    "print(confusion_matrix(y_test, ypred))\n",
    "print(classification_report(y_test, ypred))"
   ]
  },
  {
   "cell_type": "code",
   "execution_count": 36,
   "metadata": {},
   "outputs": [],
   "source": [
    "model = grid_search.best_estimator_"
   ]
  },
  {
   "cell_type": "code",
   "execution_count": 37,
   "metadata": {},
   "outputs": [],
   "source": [
    "# Save model\n",
    "import pickle\n",
    "models_dir = 'models/balanced_accuracy'\n",
    "os.makedirs(models_dir, exist_ok=True)\n",
    "pickle.dump(model, open(models_dir + '/model.pkl', 'wb'))\n",
    "pickle.dump(encoder, open(models_dir + '/encoder.pkl', 'wb'))"
   ]
  }
 ],
 "metadata": {
  "kernelspec": {
   "display_name": "bsc",
   "language": "python",
   "name": "python3"
  },
  "language_info": {
   "codemirror_mode": {
    "name": "ipython",
    "version": 3
   },
   "file_extension": ".py",
   "mimetype": "text/x-python",
   "name": "python",
   "nbconvert_exporter": "python",
   "pygments_lexer": "ipython3",
   "version": "3.10.9"
  },
  "orig_nbformat": 4,
  "vscode": {
   "interpreter": {
    "hash": "589d2f16c7c43e145ee42078413b0251fb200486a68306d3d62712e3312580ab"
   }
  }
 },
 "nbformat": 4,
 "nbformat_minor": 2
}
