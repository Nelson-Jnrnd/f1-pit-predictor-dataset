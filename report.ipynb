{
 "cells": [
  {
   "cell_type": "code",
   "execution_count": null,
   "metadata": {},
   "outputs": [],
   "source": [
    "import pandas as pd\n",
    "import numpy as np\n",
    "import matplotlib.pyplot as plt\n",
    "import seaborn as sns\n",
    "import fastf1 as ff1\n",
    "\n",
    "ff1.Cache.enable_cache('cache')\n",
    "\n",
    "import warnings\n",
    "warnings.filterwarnings('ignore')\n",
    "# ignore info messages\n",
    "import logging\n",
    "logging.getLogger('fastf1').setLevel(logging.ERROR)"
   ]
  },
  {
   "cell_type": "code",
   "execution_count": null,
   "metadata": {},
   "outputs": [],
   "source": [
    "race_1 = ff1.get_session(2021, 'Monaco', 'R')\n",
    "\n",
    "laps = race_1.load_laps(with_telemetry=True)"
   ]
  },
  {
   "cell_type": "code",
   "execution_count": null,
   "metadata": {},
   "outputs": [],
   "source": [
    "laps_data, stream_data = ff1.api.timing_data(race_1.api_path)\n",
    "app_data = ff1.api.timing_app_data(race_1.api_path)"
   ]
  },
  {
   "cell_type": "code",
   "execution_count": null,
   "metadata": {},
   "outputs": [],
   "source": [
    "app_data.query('Driver == \"31\"').iloc[3:20].drop(columns=['LapCountTime', 'StartLaps', 'Outlap'])"
   ]
  },
  {
   "cell_type": "code",
   "execution_count": null,
   "metadata": {},
   "outputs": [],
   "source": [
    "nbRaceSamples = 1\n",
    "\n",
    "nbLapSamples = len(laps)\n",
    "\n",
    "nbTelemetrySamples = 0\n",
    "\n",
    "for driver in race_1.drivers:\n",
    "    nbTelemetrySamples += len(laps.pick_driver(driver).get_telemetry())\n",
    "    \n",
    "fig, ax = plt.subplots(figsize=(10, 5))\n",
    "\n",
    "\n",
    "ax.bar(\n",
    "    x=[\"nbRaceSamples\", \"nbLapSamples\", \"nbTelemetrySamples\"],\n",
    "    height=[nbRaceSamples, nbLapSamples, nbTelemetrySamples],\n",
    "    log=True,\n",
    ")\n",
    "\n",
    "ax.bar_label(ax.containers[0], fmt=\"%d\")\n",
    "ax.set_ylabel(\"Number of samples\")\n",
    "ax.set_title(\"Number of samples per data type\")\n",
    "\n",
    "#plt.savefig(format='svg', fname='nbSamples.svg')"
   ]
  }
 ],
 "metadata": {
  "kernelspec": {
   "display_name": "Python 3",
   "language": "python",
   "name": "python3"
  },
  "language_info": {
   "name": "python",
   "version": "3.9.7"
  },
  "orig_nbformat": 4
 },
 "nbformat": 4,
 "nbformat_minor": 2
}
