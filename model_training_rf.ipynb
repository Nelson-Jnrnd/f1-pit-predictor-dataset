{
 "cells": [
  {
   "attachments": {},
   "cell_type": "markdown",
   "metadata": {},
   "source": [
    "Ce notebook va être consacré au preprocessing du dataset et l'entrainement d'un premier modèle simple pour établir une baseline.\n",
    "\n",
    "---\n",
    "\n",
    "# Load"
   ]
  },
  {
   "cell_type": "code",
   "execution_count": 33,
   "metadata": {},
   "outputs": [],
   "source": [
    "# imports\n",
    "import os\n",
    "import numpy as np\n",
    "import pandas as pd\n",
    "import matplotlib.pyplot as plt\n",
    "import seaborn as sns\n",
    "import tensorflow as tf\n",
    "\n",
    "# pandas display options\n",
    "pd.set_option('display.max_columns', 500)\n",
    "pd.set_option('display.width', 1000)\n",
    "\n",
    "random_state = 42\n",
    "np.random.seed(random_state)\n",
    "tf.random.set_seed(random_state)\n",
    "\n",
    "base_path = 'data'\n",
    "file_name = 'season.csv'\n",
    "type_dict ={\n",
    "    'LapStartTime': np.float32,\n",
    "    'LapNumber': np.uint8,\n",
    "    'LapTime': np.float32,\n",
    "    'DriverNumber': \"category\",\n",
    "    'Team' : \"category\",\n",
    "    'Compound': \"category\",\n",
    "    'TyreLife': np.uint8,\n",
    "    'TrackStatus': \"category\",\n",
    "    'Stint': np.uint8,\n",
    "    'DistanceToDriverAhead': np.float32,\n",
    "    'DriverAhead': \"category\",\n",
    "    'PitStatus': \"category\",\n",
    "    'IsAccurate': np.bool8,\n",
    "    'Track': \"category\",\n",
    "    'NumberOfPitStops': np.uint8,\n",
    "    'Position' : np.uint8,\n",
    "    'GapToLeader' : np.float32,\n",
    "    'IntervalToPositionAhead' : np.float32,\n",
    "    'LapsToLeader' : np.uint8,\n",
    "    'TotalLaps' : np.uint8,\n",
    "    'AirTemp': np.float32,\n",
    "    'Humidity': np.float32,\n",
    "    'Pressure': np.float32,\n",
    "    'TrackTemp': np.float32,\n",
    "    'WindDirection': np.float32,\n",
    "    'WindSpeed': np.float32\n",
    "    }\n",
    "\n",
    "years = range(2019, 2023)"
   ]
  },
  {
   "cell_type": "code",
   "execution_count": 34,
   "metadata": {},
   "outputs": [],
   "source": [
    "data = pd.DataFrame()\n",
    "\n",
    "for year in years:\n",
    "    path = os.path.join(base_path, str(year), file_name)\n",
    "    year_csv = pd.read_csv(\n",
    "            path,\n",
    "            dtype=type_dict,\n",
    "    )\n",
    "    data = pd.concat([\n",
    "        data,\n",
    "        year_csv\n",
    "    ]).reset_index(drop=True)"
   ]
  },
  {
   "attachments": {},
   "cell_type": "markdown",
   "metadata": {},
   "source": [
    "# Preprocessing"
   ]
  },
  {
   "cell_type": "code",
   "execution_count": 35,
   "metadata": {},
   "outputs": [],
   "source": [
    "## Rainfall -------------------------------------------------------------------\n",
    "\n",
    "def process_rainfall(df): # Removes races with rain\n",
    "    rain = df.groupby(['Year', 'RoundNumber', 'DriverNumber'])['Compound'].transform(lambda x: x[x.str.contains('INTERMEDIATE|WET')].count())\n",
    "    return df[rain == 0].reset_index(drop=True)\n",
    "\n",
    "## Incomplete races -----------------------------------------------------------\n",
    "def incomplete_races(df):\n",
    "    return df.groupby(['Year', 'RoundNumber', 'DriverNumber']).filter(lambda x: x['LapNumber'].max() + 3 >= x['TotalLaps'].max()).reset_index(drop=True)\n",
    "## TrackName ------------------------------------------------------------------\n",
    "\n",
    "def process_track_name(df):\n",
    "    df['Track'] = df['Track'].str.replace(' ', '_')\n",
    "    return df\n",
    "## TrackStatus ----------------------------------------------------------------\n",
    "\n",
    "def trackStatus_to_binary(df):\n",
    "    trackStatus = df['TrackStatus']\n",
    "    status = pd.Series(\n",
    "        np.zeros(6, dtype=np.bool8),\n",
    "        index=['Green', 'Yellow', 'SC', 'Red', 'VSC', 'SC_ending']\n",
    "    )\n",
    "    if \"1\" in trackStatus:\n",
    "        status['Green'] = True\n",
    "    if \"2\" in trackStatus:\n",
    "        status['Yellow'] = True\n",
    "    if \"4\" in trackStatus:\n",
    "        status['SC'] = True\n",
    "    if \"5\" in trackStatus:\n",
    "        status['Red'] = True\n",
    "    if \"6\" in trackStatus:\n",
    "        status['VSC'] = True\n",
    "    if \"7\" in trackStatus:\n",
    "        status['SC_ending'] = True\n",
    "    return status\n",
    "\n",
    "def process_trackStatus(df):\n",
    "    trackStatuses = df.apply(trackStatus_to_binary, axis=1)\n",
    "    return pd.concat([df.drop('TrackStatus', axis=1), trackStatuses], axis=1)\n",
    "\n",
    "## Missing Data ----------------------------------------------------------------\n",
    "\n",
    "def process_missing_values(df):\n",
    "    # TODO fill the missing values better\n",
    "    df.fillna({\n",
    "        'DistanceToDriverAhead': -1,\n",
    "        'GapToLeader': -1,\n",
    "        'IntervalToPositionAhead': -1,\n",
    "    }, inplace=True)\n",
    "\n",
    "    # drop all rows with missing laptime\n",
    "    df.dropna(subset=['LapTime'], inplace=True)\n",
    "    return df[df['LapNumber'] > 1].reset_index(drop=True)\n",
    "\n",
    "## Datatypes -------------------------------------------------------------------\n",
    "\n",
    "def process_datatypes(df):\n",
    "    # boolean\n",
    "    df['Green'] = df['Green'].astype('bool')\n",
    "    df['Yellow'] = df['Yellow'].astype('bool')\n",
    "    df['SC'] = df['SC'].astype('bool')\n",
    "    df['Red'] = df['Red'].astype('bool')\n",
    "    df['VSC'] = df['VSC'].astype('bool')\n",
    "    df['SC_ending'] = df['SC_ending'].astype('bool')\n",
    "    df['IsAccurate'] = df['IsAccurate'].astype('bool')\n",
    "    df['Rainfall'] = df['Rainfall'].astype('bool')\n",
    "    # category\n",
    "    df['DriverNumber'] = df['DriverNumber'].astype('category')\n",
    "    df['Team'] = df['Team'].astype('category')\n",
    "    #df['Compound'] = df['Compound'].astype('category')\n",
    "    df['DriverAhead'] = df['DriverAhead'].astype('category')\n",
    "    #df['Track'] = df['Track'].astype('category')\n",
    "    # float\n",
    "    df['LapStartTime'] = df['LapStartTime'].astype('float32')\n",
    "    df['LapTime'] = df['LapTime'].astype('float32')\n",
    "    df['DistanceToDriverAhead'] = df['DistanceToDriverAhead'].astype('float32')\n",
    "    df['GapToLeader'] = df['GapToLeader'].astype('float32')\n",
    "    df['IntervalToPositionAhead'] = df['IntervalToPositionAhead'].astype('float32')\n",
    "    df['AirTemp'] = df['AirTemp'].astype('float32')\n",
    "    df['Humidity'] = df['Humidity'].astype('float32')\n",
    "    df['Pressure'] = df['Pressure'].astype('float32')\n",
    "    df['TrackTemp'] = df['TrackTemp'].astype('float32')\n",
    "    df['WindDirection'] = df['WindDirection'].astype('float32')\n",
    "    df['WindSpeed'] = df['WindSpeed'].astype('float32')\n",
    "    # int\n",
    "    df['LapNumber'] = df['LapNumber'].astype('uint8')\n",
    "    df['TyreLife'] = df['TyreLife'].astype('uint8')\n",
    "    df['Stint'] = df['Stint'].astype('uint8')\n",
    "    df['NumberOfPitStops'] = df['NumberOfPitStops'].astype('uint8')\n",
    "    df['Position'] = df['Position'].astype('uint8')\n",
    "    df['LapsToLeader'] = df['LapsToLeader'].astype('uint8')\n",
    "    df['TotalLaps'] = df['TotalLaps'].astype('uint8')\n",
    "    return df\n",
    "\n",
    "## Add target ------------------------------------------------------------------\n",
    "\n",
    "def process_target(df):\n",
    "    df['is_pitting'] = df['PitStatus'] == 'InLap'\n",
    "    df['is_pitting'] = df['is_pitting'].astype('bool')\n",
    "    return df\n",
    "\n",
    "## Remove features -------------------------------------------------------------\n",
    "\n",
    "def process_remove_features(df):\n",
    "    df.drop(['LapStartTime', 'DriverNumber', 'Team', 'DriverAhead', \n",
    "    'AirTemp', 'Humidity', 'Pressure', 'Rainfall', 'TrackTemp', 'WindDirection', 'WindSpeed',\n",
    "    'PitStatus', 'IsAccurate', 'Year', 'RoundNumber'], axis=1, inplace=True)\n",
    "    return df\n",
    "\n",
    "## Feature encoding ------------------------------------------------------------\n",
    "\n",
    "from sklearn.preprocessing import OneHotEncoder\n",
    "\n",
    "def process_feature_encoding(df):\n",
    "    categorical_features = ['Compound', 'Track']\n",
    "    one_hot_encoder = OneHotEncoder(sparse_output=False, handle_unknown='ignore')\n",
    "    one_hot_encoder.fit(df[categorical_features])\n",
    "    one_hot_encoded = one_hot_encoder.transform(df[categorical_features])\n",
    "    one_hot_encoded = pd.DataFrame(one_hot_encoded, columns=one_hot_encoder.get_feature_names_out(categorical_features))\n",
    "    print(\"One hot : \", one_hot_encoded.shape)\n",
    "    print(\"Data : \", df.shape)\n",
    "    df = df.join(one_hot_encoded)\n",
    "    df.drop(categorical_features, axis=1, inplace=True)\n",
    "    return df, one_hot_encoder\n",
    "\n",
    "def process_feature_encoding_new(df, encoder):\n",
    "    categorical_features = ['Compound', 'Track']\n",
    "    one_hot_encoded = encoder.transform(df[categorical_features])\n",
    "    one_hot_encoded = pd.DataFrame(one_hot_encoded, columns=encoder.get_feature_names_out(categorical_features))\n",
    "    df = df.join(one_hot_encoded)\n",
    "    df.drop(categorical_features, axis=1, inplace=True)\n",
    "    return df"
   ]
  },
  {
   "cell_type": "code",
   "execution_count": 36,
   "metadata": {},
   "outputs": [],
   "source": [
    "def preprocess_pre_split(df):\n",
    "    df = df.copy()\n",
    "    print('Preprocessing data...', df.shape)\n",
    "    df = process_rainfall(df)\n",
    "    print('Rainfall processed...', df.shape)\n",
    "    df = incomplete_races(df)\n",
    "    df = process_track_name(df)\n",
    "    print('TrackName processed...', df.shape)\n",
    "    df = process_missing_values(df)\n",
    "    print('Missing values processed...', df.shape)\n",
    "    return df\n",
    "\n",
    "def preprocess_post_split(df):\n",
    "    df = process_trackStatus(df)\n",
    "    print('TrackStatus processed...', df.shape)\n",
    "    df = process_datatypes(df)\n",
    "    print('Preprocessing data...', df.shape)\n",
    "    df = process_remove_features(df)\n",
    "    print('Features removed...', df.shape)\n",
    "    return df\n",
    "\n",
    "def preprocess_post_split_train(df):\n",
    "    df = df.copy()\n",
    "    df = process_target(df)\n",
    "    print('Target processed...', df.shape)\n",
    "    df, encoder = process_feature_encoding(df)\n",
    "    print('Features encoded...', df.shape)\n",
    "\n",
    "    df = preprocess_post_split(df)\n",
    "    \n",
    "    return df, encoder\n",
    "\n",
    "def preprocess_post_split_test(df, encoder):\n",
    "    df = df.copy()\n",
    "    df = process_target(df)\n",
    "    print('Target processed...', df.shape)\n",
    "    df = process_feature_encoding_new(df, encoder)\n",
    "    print('Features encoded...', df.shape)\n",
    "\n",
    "    df = preprocess_post_split(df)\n",
    "\n",
    "    return df"
   ]
  },
  {
   "cell_type": "code",
   "execution_count": 37,
   "metadata": {},
   "outputs": [],
   "source": [
    "#%pip install imblearn"
   ]
  },
  {
   "cell_type": "code",
   "execution_count": 38,
   "metadata": {},
   "outputs": [],
   "source": [
    "def get_races_grouped(df):\n",
    "    return df.groupby(['Year', 'RoundNumber', 'DriverNumber'])\n",
    "\n",
    "def get_train_test_split(df, test_size, return_groups=False):\n",
    "    groups = get_races_grouped(df).groups\n",
    "    groups_keys = list(groups.keys())\n",
    "    np.random.shuffle(groups_keys)\n",
    "    test_groups = groups_keys[:int(len(groups_keys) * test_size)]\n",
    "    train_groups = groups_keys[int(len(groups_keys) * test_size):]\n",
    "    test = df[df.apply(lambda x: (x['Year'], x['RoundNumber'], x['DriverNumber']) in test_groups, axis=1)].reset_index(drop=True)\n",
    "    train = df[df.apply(lambda x: (x['Year'], x['RoundNumber'], x['DriverNumber']) in train_groups, axis=1)].reset_index(drop=True)\n",
    "    if return_groups:\n",
    "        return train, test, train.groupby(['Year', 'RoundNumber', 'DriverNumber']).groups, test.groupby(['Year', 'RoundNumber', 'DriverNumber']).groups\n",
    "    return train, test"
   ]
  },
  {
   "cell_type": "code",
   "execution_count": 39,
   "metadata": {},
   "outputs": [
    {
     "name": "stdout",
     "output_type": "stream",
     "text": [
      "Preprocessing data... (89139, 29)\n",
      "Rainfall processed... (78346, 29)\n",
      "TrackName processed... (73105, 29)\n",
      "Missing values processed... (70689, 29)\n"
     ]
    }
   ],
   "source": [
    "df = data.copy()\n",
    "df = preprocess_pre_split(df)"
   ]
  },
  {
   "cell_type": "code",
   "execution_count": 40,
   "metadata": {},
   "outputs": [],
   "source": [
    "train_df, test_df, train_groups, test_groups = get_train_test_split(df.copy(), test_size=0.2, return_groups=True)"
   ]
  },
  {
   "cell_type": "code",
   "execution_count": 41,
   "metadata": {},
   "outputs": [
    {
     "name": "stdout",
     "output_type": "stream",
     "text": [
      "Target processed... (56570, 30)\n",
      "One hot :  (56570, 32)\n",
      "Data :  (56570, 30)\n",
      "Features encoded... (56570, 60)\n"
     ]
    }
   ],
   "source": [
    "train_df, encoder = preprocess_post_split_train(train_df)\n",
    "test_df = preprocess_post_split_test(test_df, encoder)"
   ]
  },
  {
   "cell_type": "code",
   "execution_count": null,
   "metadata": {},
   "outputs": [],
   "source": [
    "train_df.dropna(inplace=True)\n",
    "test_df.dropna(inplace=True)\n",
    "\n",
    "X_train = train_df.drop(['is_pitting'], axis=1)\n",
    "y_train = train_df['is_pitting']\n",
    "\n",
    "X_test = test_df.drop(['is_pitting'], axis=1)\n",
    "y_test = test_df['is_pitting']"
   ]
  },
  {
   "cell_type": "code",
   "execution_count": null,
   "metadata": {},
   "outputs": [
    {
     "name": "stdout",
     "output_type": "stream",
     "text": [
      "(56570, 49) (14119, 49) (56570,) (14119,)\n"
     ]
    }
   ],
   "source": [
    "print(X_train.shape, X_test.shape, y_train.shape, y_test.shape)"
   ]
  },
  {
   "attachments": {},
   "cell_type": "markdown",
   "metadata": {},
   "source": [
    "# Modelisation"
   ]
  },
  {
   "cell_type": "code",
   "execution_count": null,
   "metadata": {},
   "outputs": [],
   "source": [
    "def calculate_distance_to_next_true(series):\n",
    "    # Find the indices of True values\n",
    "    true_indices = np.where(series)[0]\n",
    "    true_indices = np.concatenate((true_indices, [len(series)]))\n",
    "\n",
    "    distance_to_next_true = np.zeros(len(series))\n",
    "    for i in range(len(series)):\n",
    "        sorted_indices = np.searchsorted(true_indices, i)\n",
    "        if sorted_indices == len(true_indices) - 1:\n",
    "            distance_to_next_true[i] = len(series)\n",
    "        else:\n",
    "            distance_to_next_true[i] = true_indices[sorted_indices] - i\n",
    "\n",
    "    # Replace the True values by the distance to the next True value\n",
    "    result_series = pd.Series(distance_to_next_true)\n",
    "    \n",
    "    return result_series\n",
    "\n",
    "def calculate_weight(proba, distance_to_pit, threshold=0.5, penalty=1):\n",
    "    if distance_to_pit <= 0:\n",
    "        return proba\n",
    "    elif proba >= threshold: # Means that the model predicted a pitstop but it didn't happen\n",
    "        #return distance_to_pit * (1 - (1 + penalty) * proba)\n",
    "        #return distance_to_pit * penalty * -(-proba + threshold)**2\n",
    "        return -proba\n",
    "    else:\n",
    "        return 0\n",
    "    \n",
    "def calculate_weights(preds, nb_pitstops, threshold=0.5, penalty=1):\n",
    "    distances = calculate_distance_to_next_true(preds['y'])\n",
    "    weights = []\n",
    "    last_pit = 0\n",
    "    for i in range(len(preds['y'])):\n",
    "        proba = preds['proba'][i]\n",
    "        distance = distances[i]\n",
    "        weight = calculate_weight(proba, distances[i], threshold=threshold, penalty=penalty)\n",
    "        \n",
    "        if distance == 0 or i == len(preds['y']) - 1:\n",
    "            if i == len(preds['y']) - 1:\n",
    "                weights.append(weight)\n",
    "            coef_for_laps = distances[last_pit + 1:i]\n",
    "            weights_for_laps = weights[last_pit + 1:i]\n",
    "            weights[last_pit + 1:i] = coef_for_laps * weights_for_laps / sum(coef_for_laps)\n",
    "            if distance == 0:\n",
    "                last_pit = i\n",
    "\n",
    "        if i != len(preds['y']) - 1:\n",
    "            weights.append(weight)\n",
    "    \n",
    "    return np.divide(weights, nb_pitstops)\n",
    "\n",
    "def plot_remove_duplicate_legends(ax, **kwargs):\n",
    "    handles, labels = ax.get_legend_handles_labels()\n",
    "    by_label = dict(zip(labels, handles))\n",
    "    ax.legend(by_label.values(), by_label.keys(), **kwargs)\n",
    "    return ax\n",
    "\n",
    "def plot_weights(ax, weights):\n",
    "    ax.grid(True)\n",
    "    weights_cumsum = np.cumsum(weights)\n",
    "    ax.plot(weights_cumsum)\n",
    "    ax.set_autoscaley_on(True)\n",
    "    return plot_remove_duplicate_legends(ax)"
   ]
  },
  {
   "cell_type": "code",
   "execution_count": null,
   "metadata": {},
   "outputs": [],
   "source": [
    "from sklearn.ensemble import RandomForestClassifier\n",
    "from sklearn.metrics import confusion_matrix\n",
    "def specificity(y_true, y_pred):\n",
    "    cm = confusion_matrix(y_true, y_pred)\n",
    "    tn, fp, fn, tp = cm.ravel()\n",
    "    return tn / (tn + fp)\n",
    "\n",
    "def balanced_accuracy(y_true, y_pred):\n",
    "    cm = confusion_matrix(y_true, y_pred)\n",
    "    tn, fp, fn, tp = cm.ravel()\n",
    "    specificity = tn / (tn + fp)\n",
    "    sensitivity = tp / (tp + fn)\n",
    "    return (specificity + sensitivity) / 2"
   ]
  },
  {
   "cell_type": "code",
   "execution_count": null,
   "metadata": {},
   "outputs": [
    {
     "data": {
      "text/html": [
       "<style>#sk-container-id-2 {color: black;}#sk-container-id-2 pre{padding: 0;}#sk-container-id-2 div.sk-toggleable {background-color: white;}#sk-container-id-2 label.sk-toggleable__label {cursor: pointer;display: block;width: 100%;margin-bottom: 0;padding: 0.3em;box-sizing: border-box;text-align: center;}#sk-container-id-2 label.sk-toggleable__label-arrow:before {content: \"▸\";float: left;margin-right: 0.25em;color: #696969;}#sk-container-id-2 label.sk-toggleable__label-arrow:hover:before {color: black;}#sk-container-id-2 div.sk-estimator:hover label.sk-toggleable__label-arrow:before {color: black;}#sk-container-id-2 div.sk-toggleable__content {max-height: 0;max-width: 0;overflow: hidden;text-align: left;background-color: #f0f8ff;}#sk-container-id-2 div.sk-toggleable__content pre {margin: 0.2em;color: black;border-radius: 0.25em;background-color: #f0f8ff;}#sk-container-id-2 input.sk-toggleable__control:checked~div.sk-toggleable__content {max-height: 200px;max-width: 100%;overflow: auto;}#sk-container-id-2 input.sk-toggleable__control:checked~label.sk-toggleable__label-arrow:before {content: \"▾\";}#sk-container-id-2 div.sk-estimator input.sk-toggleable__control:checked~label.sk-toggleable__label {background-color: #d4ebff;}#sk-container-id-2 div.sk-label input.sk-toggleable__control:checked~label.sk-toggleable__label {background-color: #d4ebff;}#sk-container-id-2 input.sk-hidden--visually {border: 0;clip: rect(1px 1px 1px 1px);clip: rect(1px, 1px, 1px, 1px);height: 1px;margin: -1px;overflow: hidden;padding: 0;position: absolute;width: 1px;}#sk-container-id-2 div.sk-estimator {font-family: monospace;background-color: #f0f8ff;border: 1px dotted black;border-radius: 0.25em;box-sizing: border-box;margin-bottom: 0.5em;}#sk-container-id-2 div.sk-estimator:hover {background-color: #d4ebff;}#sk-container-id-2 div.sk-parallel-item::after {content: \"\";width: 100%;border-bottom: 1px solid gray;flex-grow: 1;}#sk-container-id-2 div.sk-label:hover label.sk-toggleable__label {background-color: #d4ebff;}#sk-container-id-2 div.sk-serial::before {content: \"\";position: absolute;border-left: 1px solid gray;box-sizing: border-box;top: 0;bottom: 0;left: 50%;z-index: 0;}#sk-container-id-2 div.sk-serial {display: flex;flex-direction: column;align-items: center;background-color: white;padding-right: 0.2em;padding-left: 0.2em;position: relative;}#sk-container-id-2 div.sk-item {position: relative;z-index: 1;}#sk-container-id-2 div.sk-parallel {display: flex;align-items: stretch;justify-content: center;background-color: white;position: relative;}#sk-container-id-2 div.sk-item::before, #sk-container-id-2 div.sk-parallel-item::before {content: \"\";position: absolute;border-left: 1px solid gray;box-sizing: border-box;top: 0;bottom: 0;left: 50%;z-index: -1;}#sk-container-id-2 div.sk-parallel-item {display: flex;flex-direction: column;z-index: 1;position: relative;background-color: white;}#sk-container-id-2 div.sk-parallel-item:first-child::after {align-self: flex-end;width: 50%;}#sk-container-id-2 div.sk-parallel-item:last-child::after {align-self: flex-start;width: 50%;}#sk-container-id-2 div.sk-parallel-item:only-child::after {width: 0;}#sk-container-id-2 div.sk-dashed-wrapped {border: 1px dashed gray;margin: 0 0.4em 0.5em 0.4em;box-sizing: border-box;padding-bottom: 0.4em;background-color: white;}#sk-container-id-2 div.sk-label label {font-family: monospace;font-weight: bold;display: inline-block;line-height: 1.2em;}#sk-container-id-2 div.sk-label-container {text-align: center;}#sk-container-id-2 div.sk-container {/* jupyter's `normalize.less` sets `[hidden] { display: none; }` but bootstrap.min.css set `[hidden] { display: none !important; }` so we also need the `!important` here to be able to override the default hidden behavior on the sphinx rendered scikit-learn.org. See: https://github.com/scikit-learn/scikit-learn/issues/21755 */display: inline-block !important;position: relative;}#sk-container-id-2 div.sk-text-repr-fallback {display: none;}</style><div id=\"sk-container-id-2\" class=\"sk-top-container\"><div class=\"sk-text-repr-fallback\"><pre>RandomForestClassifier(class_weight=&#x27;balanced_subsample&#x27;, max_depth=80,\n",
       "                       min_samples_leaf=5, n_estimators=1000, n_jobs=-1,\n",
       "                       random_state=42)</pre><b>In a Jupyter environment, please rerun this cell to show the HTML representation or trust the notebook. <br />On GitHub, the HTML representation is unable to render, please try loading this page with nbviewer.org.</b></div><div class=\"sk-container\" hidden><div class=\"sk-item\"><div class=\"sk-estimator sk-toggleable\"><input class=\"sk-toggleable__control sk-hidden--visually\" id=\"sk-estimator-id-2\" type=\"checkbox\" checked><label for=\"sk-estimator-id-2\" class=\"sk-toggleable__label sk-toggleable__label-arrow\">RandomForestClassifier</label><div class=\"sk-toggleable__content\"><pre>RandomForestClassifier(class_weight=&#x27;balanced_subsample&#x27;, max_depth=80,\n",
       "                       min_samples_leaf=5, n_estimators=1000, n_jobs=-1,\n",
       "                       random_state=42)</pre></div></div></div></div></div>"
      ],
      "text/plain": [
       "RandomForestClassifier(class_weight='balanced_subsample', max_depth=80,\n",
       "                       min_samples_leaf=5, n_estimators=1000, n_jobs=-1,\n",
       "                       random_state=42)"
      ]
     },
     "execution_count": 30,
     "metadata": {},
     "output_type": "execute_result"
    }
   ],
   "source": [
    "from sklearn.ensemble import RandomForestClassifier\n",
    "\n",
    "model = RandomForestClassifier(\n",
    "    n_estimators=5000,\n",
    "    max_depth=None,\n",
    "    min_samples_split=2,\n",
    "    min_samples_leaf=1,\n",
    "    class_weight='balanced_subsample',\n",
    "    random_state=random_state,\n",
    "    n_jobs=-1\n",
    ")\n",
    "\n",
    "model.fit(X_train.values, y_train)"
   ]
  },
  {
   "cell_type": "code",
   "execution_count": null,
   "metadata": {},
   "outputs": [
    {
     "name": "stderr",
     "output_type": "stream",
     "text": [
      "c:\\Users\\nelso\\miniconda3\\lib\\site-packages\\sklearn\\base.py:457: UserWarning: X has feature names, but RandomForestClassifier was fitted without feature names\n",
      "  warnings.warn(\n"
     ]
    },
    {
     "name": "stdout",
     "output_type": "stream",
     "text": [
      "[[13479   248]\n",
      " [  158   234]]\n",
      "              precision    recall  f1-score   support\n",
      "\n",
      "       False       0.99      0.98      0.99     13727\n",
      "        True       0.49      0.60      0.54       392\n",
      "\n",
      "    accuracy                           0.97     14119\n",
      "   macro avg       0.74      0.79      0.76     14119\n",
      "weighted avg       0.97      0.97      0.97     14119\n",
      "\n"
     ]
    }
   ],
   "source": [
    "from sklearn.metrics import classification_report, confusion_matrix\n",
    "\n",
    "y_pred = model.predict(X_test)\n",
    "print(confusion_matrix(y_test, y_pred))\n",
    "print(classification_report(y_test, y_pred))"
   ]
  },
  {
   "cell_type": "code",
   "execution_count": null,
   "metadata": {},
   "outputs": [],
   "source": [
    "# Save model\n",
    "import pickle\n",
    "models_dir = 'models/f1_score3'\n",
    "os.makedirs(models_dir, exist_ok=True)\n",
    "pickle.dump(model, open(models_dir + '/model.pkl', 'wb'))\n",
    "pickle.dump(encoder, open(models_dir + '/encoder.pkl', 'wb'))"
   ]
  }
 ],
 "metadata": {
  "kernelspec": {
   "display_name": "bsc",
   "language": "python",
   "name": "python3"
  },
  "language_info": {
   "codemirror_mode": {
    "name": "ipython",
    "version": 3
   },
   "file_extension": ".py",
   "mimetype": "text/x-python",
   "name": "python",
   "nbconvert_exporter": "python",
   "pygments_lexer": "ipython3",
   "version": "3.11.4"
  },
  "orig_nbformat": 4,
  "vscode": {
   "interpreter": {
    "hash": "589d2f16c7c43e145ee42078413b0251fb200486a68306d3d62712e3312580ab"
   }
  }
 },
 "nbformat": 4,
 "nbformat_minor": 2
}
